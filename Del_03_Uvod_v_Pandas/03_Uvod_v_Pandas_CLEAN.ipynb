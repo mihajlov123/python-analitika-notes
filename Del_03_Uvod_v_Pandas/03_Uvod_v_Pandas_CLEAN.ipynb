{
 "cells": [
  {
   "cell_type": "markdown",
   "metadata": {},
   "source": [
    "# Uvod v Pandas"
   ]
  },
  {
   "cell_type": "markdown",
   "metadata": {},
   "source": [
    "## Understanding pandas and NumPy"
   ]
  },
  {
   "cell_type": "markdown",
   "metadata": {},
   "source": [
    "\n",
    "<p></p><center><img alt=\"anatomy of a dataframe\" src=\"images/df_anatomy_static_resized.svg\"></center><p></p>"
   ]
  },
  {
   "cell_type": "markdown",
   "metadata": {},
   "source": [
    "## About pandas"
   ]
  },
  {
   "cell_type": "markdown",
   "metadata": {},
   "source": [
    "Key Features of Pandas\n",
    "- Fast and efficient DataFrame object with default and customized indexing.\n",
    "- Tools for loading data into in-memory data objects from different file formats.\n",
    "- Data alignment and integrated handling of missing data.\n",
    "- Reshaping and pivoting of date sets.\n",
    "- Label-based slicing, indexing and subsetting of large data sets.\n",
    "- Columns from a data structure can be deleted or inserted.\n",
    "- Group by data for aggregation and transformations.\n",
    "- High performance merging and joining of data.\n",
    "- Time Series functionality."
   ]
  },
  {
   "cell_type": "markdown",
   "metadata": {},
   "source": [
    "## Importing pandas"
   ]
  },
  {
   "cell_type": "markdown",
   "metadata": {},
   "source": [
    "[Installation guide](https://pandas.pydata.org/docs/getting_started/install.html)"
   ]
  },
  {
   "cell_type": "code",
   "execution_count": 1,
   "metadata": {},
   "outputs": [],
   "source": [
    "import pandas as pd"
   ]
  },
  {
   "cell_type": "code",
   "execution_count": 2,
   "metadata": {},
   "outputs": [],
   "source": [
    "import numpy as np"
   ]
  },
  {
   "cell_type": "code",
   "execution_count": 3,
   "metadata": {},
   "outputs": [
    {
     "data": {
      "text/plain": [
       "'1.5.1'"
      ]
     },
     "execution_count": 3,
     "metadata": {},
     "output_type": "execute_result"
    }
   ],
   "source": [
    "pd.__version__"
   ]
  },
  {
   "cell_type": "code",
   "execution_count": 4,
   "metadata": {},
   "outputs": [
    {
     "ename": "SyntaxError",
     "evalue": "invalid syntax (613196192.py, line 1)",
     "output_type": "error",
     "traceback": [
      "\u001b[1;36m  Cell \u001b[1;32mIn [4], line 1\u001b[1;36m\u001b[0m\n\u001b[1;33m    pd.read_csv? # odpri dokumentacijo\u001b[0m\n\u001b[1;37m               ^\u001b[0m\n\u001b[1;31mSyntaxError\u001b[0m\u001b[1;31m:\u001b[0m invalid syntax\n"
     ]
    }
   ],
   "source": [
    "pd.read_csv? # odpri dokumentacijo"
   ]
  },
  {
   "cell_type": "markdown",
   "metadata": {},
   "source": [
    "More detailed documentation, along with tutorials and other resources, can be found at http://pandas.pydata.org/."
   ]
  },
  {
   "cell_type": "markdown",
   "metadata": {},
   "source": [
    "## Introduction to the Data"
   ]
  },
  {
   "cell_type": "markdown",
   "metadata": {},
   "source": [
    "<p>The data set is a CSV file called <code>f500.csv</code>. Here is a data dictionary for some of the columns in the CSV:</p>\n",
    "<ul>\n",
    "<li><code>company</code>: Name of the company.</li>\n",
    "<li><code>rank</code>: Global 500 rank for the company.</li>\n",
    "<li><code>revenues</code>: Company's total revenue for the fiscal year, in millions of dollars (USD).</li>\n",
    "<li><code>revenue_change</code>: Percentage change in revenue between the current and prior fiscal year.</li>\n",
    "<li><code>profits</code>: Net income for the fiscal year, in millions of dollars (USD).</li>\n",
    "<li><code>ceo</code>: Company's Chief Executive Officer.</li>\n",
    "<li><code>industry</code>: Industry in which the company operates.</li>\n",
    "<li><code>sector</code>: Sector in which the company operates.</li>\n",
    "<li><code>previous_rank</code>: Global 500 rank for the company for the prior year.</li>\n",
    "<li><code>country</code>: Country in which the company is headquartered.</li>\n",
    "</ul>\n",
    "</div>"
   ]
  },
  {
   "cell_type": "markdown",
   "metadata": {},
   "source": [
    "<img src=\"images/02_io_readwrite.svg\">"
   ]
  },
  {
   "cell_type": "markdown",
   "metadata": {},
   "source": [
    "https://pandas.pydata.org/docs/user_guide/io.html?highlight=io"
   ]
  },
  {
   "cell_type": "code",
   "execution_count": null,
   "metadata": {},
   "outputs": [],
   "source": [
    "f500 = pd.read_csv(\"./data/f500.csv\", index_col=0)\n",
    "f500\n"
   ]
  },
  {
   "cell_type": "code",
   "execution_count": null,
   "metadata": {},
   "outputs": [],
   "source": [
    "type(f500)"
   ]
  },
  {
   "cell_type": "code",
   "execution_count": null,
   "metadata": {},
   "outputs": [],
   "source": [
    "f500.shape"
   ]
  },
  {
   "cell_type": "markdown",
   "metadata": {},
   "source": [
    "## Introducing Pandas Objects - Data Structures"
   ]
  },
  {
   "cell_type": "markdown",
   "metadata": {},
   "source": [
    "ONE OF THE KEYS TO UNDERSTANDING PANDAS IS TO UNDERSTAND\n",
    "model. At the core of pandas are three data structures:"
   ]
  },
  {
   "cell_type": "markdown",
   "metadata": {},
   "source": [
    "- Series — 1D (can be understood as columns of a spreadsheet)"
   ]
  },
  {
   "cell_type": "markdown",
   "metadata": {},
   "source": [
    "<img src=\"images/01_table_series.svg\">"
   ]
  },
  {
   "cell_type": "markdown",
   "metadata": {},
   "source": [
    "- DataFrame — 2D (can be understood as a single spreadsheet)"
   ]
  },
  {
   "cell_type": "markdown",
   "metadata": {},
   "source": [
    "<img src=\"images/01_table_dataframe.svg\">"
   ]
  },
  {
   "cell_type": "markdown",
   "metadata": {},
   "source": [
    "- Panel — 3D (can be understood as a group of spreadsheets)"
   ]
  },
  {
   "cell_type": "markdown",
   "metadata": {},
   "source": [
    "<table class=\"table table-bordered\">\n",
    "<tbody><tr>\n",
    "<th style=\"text-align:center;\">Data Structure</th>\n",
    "<th style=\"text-align:center;\">Dimensions</th>\n",
    "<th style=\"text-align:center;\">Description</th>\n",
    "</tr>\n",
    "<tr>\n",
    "<td style=\"text-align:center;\">Series</td>\n",
    "<td style=\"text-align:center;\">1</td>\n",
    "<td style=\"text-align:center;\">1D labeled homogeneous array, sizeimmutable.</td>\n",
    "</tr>\n",
    "<tr>\n",
    "<td style=\"text-align:center;\">Data Frames</td>\n",
    "<td style=\"text-align:center;\">2</td>\n",
    "<td style=\"text-align:center;\">General 2D labeled, size-mutable tabular structure with potentially heterogeneously typed\n",
    "columns.</td>\n",
    "</tr>\n",
    "<tr>\n",
    "<td style=\"text-align:center;\">Panel</td>\n",
    "<td style=\"text-align:center;\">3</td>\n",
    "<td style=\"text-align:center;\">General 3D labeled, size-mutable array.</td>\n",
    "</tr>\n",
    "</tbody></table>"
   ]
  },
  {
   "cell_type": "markdown",
   "metadata": {},
   "source": [
    "## Introducing DataFrames"
   ]
  },
  {
   "cell_type": "code",
   "execution_count": null,
   "metadata": {},
   "outputs": [],
   "source": [
    "f500.head()"
   ]
  },
  {
   "cell_type": "code",
   "execution_count": null,
   "metadata": {},
   "outputs": [],
   "source": [
    "f500.tail(3)"
   ]
  },
  {
   "cell_type": "code",
   "execution_count": null,
   "metadata": {},
   "outputs": [],
   "source": [
    "f500.dtypes"
   ]
  },
  {
   "cell_type": "code",
   "execution_count": null,
   "metadata": {
    "scrolled": false
   },
   "outputs": [],
   "source": [
    "f500.info()"
   ]
  },
  {
   "cell_type": "code",
   "execution_count": null,
   "metadata": {
    "scrolled": true
   },
   "outputs": [],
   "source": [
    "f500.describe()"
   ]
  },
  {
   "cell_type": "markdown",
   "metadata": {},
   "source": [
    "## Pandas Data Selection - indexing"
   ]
  },
  {
   "cell_type": "markdown",
   "metadata": {},
   "source": [
    "### Selecting a Column From a DataFrame by Label (.loc)\n",
    "Podatki se pri izbiri .loc kopirajo (create copy)"
   ]
  },
  {
   "cell_type": "markdown",
   "metadata": {},
   "source": [
    "    df.loc[row_label, column_label]"
   ]
  },
  {
   "cell_type": "markdown",
   "metadata": {},
   "source": [
    "<img src=\"images/03_subset_columns.svg\">"
   ]
  },
  {
   "cell_type": "code",
   "execution_count": null,
   "metadata": {},
   "outputs": [],
   "source": [
    "f500.head(2)"
   ]
  },
  {
   "cell_type": "code",
   "execution_count": null,
   "metadata": {},
   "outputs": [],
   "source": [
    "# rank_col = f500.loc[:,\"rank\"]\n",
    "\n",
    "# rank_col = f500[\"rank\"] # krajsi zapis brez loc in oznake vseh vrstic\n",
    "\n",
    "rank_col = f500.loc[\"rank\"]\n",
    "\n",
    "rank_col"
   ]
  },
  {
   "cell_type": "code",
   "execution_count": null,
   "metadata": {},
   "outputs": [],
   "source": [
    "# industry_col = f500.industry -> metoda je deprecated\n",
    "industry_col = f500[\"industry\"]\n",
    "industry_col\n",
    "type(industry_col)"
   ]
  },
  {
   "cell_type": "code",
   "execution_count": null,
   "metadata": {},
   "outputs": [],
   "source": [
    "type(industry_col.values)"
   ]
  },
  {
   "cell_type": "code",
   "execution_count": null,
   "metadata": {},
   "outputs": [],
   "source": [
    "industry_col.values.shape"
   ]
  },
  {
   "cell_type": "code",
   "execution_count": null,
   "metadata": {},
   "outputs": [],
   "source": [
    "print(industry_col.values.dtype)"
   ]
  },
  {
   "cell_type": "code",
   "execution_count": null,
   "metadata": {},
   "outputs": [],
   "source": [
    "# f500.loc[:,[\"country\", \"rank\"]] # pri metodi loc -> najprej naveden pogoj nato pa izbrani stolpci\n",
    "f500[[\"country\",\"rank\"]]"
   ]
  },
  {
   "cell_type": "code",
   "execution_count": null,
   "metadata": {},
   "outputs": [],
   "source": [
    "f500.loc[:,\"profits\":\"ceo\"] # pri indeksiranju s string vrednostmi je zadnji indeks (v tem primeru \"ceo\") vključen"
   ]
  },
  {
   "cell_type": "markdown",
   "metadata": {},
   "source": [
    "<div>\n",
    "<p><img alt=\"dataframe exploded\" src=\"images/df_exploded_resized.svg\"></p>\n",
    "</div>"
   ]
  },
  {
   "cell_type": "markdown",
   "metadata": {},
   "source": [
    "<div>\n",
    "\n",
    "<p>A summary of the techniques we've learned so far is below:</p>\n",
    "<p></p><center>\n",
    "<table>\n",
    "<thead>\n",
    "<tr>\n",
    "<th>Select by Label</th>\n",
    "<th>Explicit Syntax</th>\n",
    "<th>Common Shorthand</th>\n",
    "<th>Other Shorthand</th>\n",
    "</tr>\n",
    "</thead>\n",
    "<tbody>\n",
    "<tr>\n",
    "<td>Single column</td>\n",
    "<td><code>df.loc[:,\"col1\"]</code></td>\n",
    "<td bgcolor=\"#00FF00\"><code>df[\"col1\"]</code></td>\n",
    "<td><code>df.col1</code></td>\n",
    "</tr>\n",
    "<tr>\n",
    "<td>List of columns</td>\n",
    "<td><code>df.loc[:,[\"col1\", \"col7\"]]</code></td>\n",
    "<td bgcolor=\"#00FF00\"><code>df[[\"col1\", \"col7\"]]</code></td>\n",
    "<td></td>\n",
    "</tr>\n",
    "<tr>\n",
    "<td>Slice of columns</td>\n",
    "<td bgcolor=\"#00FF00\"><code>df.loc[:,\"col1\":\"col4\"]</code></td>\n",
    "<td></td>\n",
    "<td></td>\n",
    "</tr>\n",
    "</tbody>\n",
    "</table>\n",
    "</center><p></p>\n",
    "</div>"
   ]
  },
  {
   "cell_type": "markdown",
   "metadata": {},
   "source": [
    "<div class=\"alert alert-block alert-info\">\n",
    "<b>Vaja:</b> Select the country column. Assign the result to the variable name countries.</div>"
   ]
  },
  {
   "cell_type": "code",
   "execution_count": null,
   "metadata": {},
   "outputs": [],
   "source": [
    "f500.head()\n",
    "countries = f500[\"country\"]\n",
    "countries"
   ]
  },
  {
   "cell_type": "markdown",
   "metadata": {},
   "source": [
    "<div class=\"alert alert-block alert-info\">\n",
    "<b>Vaja:</b> In order, select the revenues and years_on_global_500_list columns. Assign the result to the variable name revenues_years.</div>"
   ]
  },
  {
   "cell_type": "code",
   "execution_count": null,
   "metadata": {},
   "outputs": [],
   "source": [
    "f500.head()\n",
    "revenues_years = f500[[\"revenues\",\"years_on_global_500_list\"]]\n",
    "print(revenues_years)"
   ]
  },
  {
   "cell_type": "markdown",
   "metadata": {},
   "source": [
    "<div class=\"alert alert-block alert-info\">\n",
    "<b>Vaja:</b> In order, select all columns from ceo up to and including sector. Assign the result to the variable name ceo_to_sector.</div>"
   ]
  },
  {
   "cell_type": "code",
   "execution_count": null,
   "metadata": {},
   "outputs": [],
   "source": [
    "ceo_to_sector = f500.loc[:,\"ceo\":\"sector\"]\n",
    "ceo_to_sector"
   ]
  },
  {
   "cell_type": "markdown",
   "metadata": {},
   "source": [
    "### Selecting Rows From a DataFrame by Label (.loc)"
   ]
  },
  {
   "cell_type": "markdown",
   "metadata": {},
   "source": [
    "    df.loc[row_label, column_label]"
   ]
  },
  {
   "cell_type": "markdown",
   "metadata": {},
   "source": [
    "<img src=\"images/03_subset_rows.svg\">"
   ]
  },
  {
   "cell_type": "markdown",
   "metadata": {},
   "source": [
    "**Select a single row**"
   ]
  },
  {
   "cell_type": "code",
   "execution_count": null,
   "metadata": {},
   "outputs": [],
   "source": [
    "f500.head()"
   ]
  },
  {
   "cell_type": "code",
   "execution_count": 33,
   "metadata": {},
   "outputs": [
    {
     "name": "stdout",
     "output_type": "stream",
     "text": [
      "object\n"
     ]
    }
   ],
   "source": [
    "# selecting single row\n",
    "single_row = f500.loc[\"Sinopec Group\"]\n",
    "print(single_row.dtype)"
   ]
  },
  {
   "cell_type": "code",
   "execution_count": 45,
   "metadata": {},
   "outputs": [
    {
     "data": {
      "text/html": [
       "<div>\n",
       "<style scoped>\n",
       "    .dataframe tbody tr th:only-of-type {\n",
       "        vertical-align: middle;\n",
       "    }\n",
       "\n",
       "    .dataframe tbody tr th {\n",
       "        vertical-align: top;\n",
       "    }\n",
       "\n",
       "    .dataframe thead th {\n",
       "        text-align: right;\n",
       "    }\n",
       "</style>\n",
       "<table border=\"1\" class=\"dataframe\">\n",
       "  <thead>\n",
       "    <tr style=\"text-align: right;\">\n",
       "      <th></th>\n",
       "      <th>rank</th>\n",
       "      <th>revenues</th>\n",
       "      <th>revenue_change</th>\n",
       "      <th>profits</th>\n",
       "      <th>assets</th>\n",
       "      <th>profit_change</th>\n",
       "      <th>ceo</th>\n",
       "      <th>industry</th>\n",
       "      <th>sector</th>\n",
       "      <th>previous_rank</th>\n",
       "      <th>country</th>\n",
       "      <th>hq_location</th>\n",
       "      <th>website</th>\n",
       "      <th>years_on_global_500_list</th>\n",
       "      <th>employees</th>\n",
       "      <th>total_stockholder_equity</th>\n",
       "    </tr>\n",
       "    <tr>\n",
       "      <th>company</th>\n",
       "      <th></th>\n",
       "      <th></th>\n",
       "      <th></th>\n",
       "      <th></th>\n",
       "      <th></th>\n",
       "      <th></th>\n",
       "      <th></th>\n",
       "      <th></th>\n",
       "      <th></th>\n",
       "      <th></th>\n",
       "      <th></th>\n",
       "      <th></th>\n",
       "      <th></th>\n",
       "      <th></th>\n",
       "      <th></th>\n",
       "      <th></th>\n",
       "    </tr>\n",
       "  </thead>\n",
       "  <tbody>\n",
       "    <tr>\n",
       "      <th>State Grid</th>\n",
       "      <td>2</td>\n",
       "      <td>315199</td>\n",
       "      <td>-4.4</td>\n",
       "      <td>9571.3</td>\n",
       "      <td>489838</td>\n",
       "      <td>-6.2</td>\n",
       "      <td>Kou Wei</td>\n",
       "      <td>Utilities</td>\n",
       "      <td>Energy</td>\n",
       "      <td>2</td>\n",
       "      <td>China</td>\n",
       "      <td>Beijing, China</td>\n",
       "      <td>http://www.sgcc.com.cn</td>\n",
       "      <td>17</td>\n",
       "      <td>926067</td>\n",
       "      <td>209456</td>\n",
       "    </tr>\n",
       "    <tr>\n",
       "      <th>Sinopec Group</th>\n",
       "      <td>3</td>\n",
       "      <td>267518</td>\n",
       "      <td>-9.1</td>\n",
       "      <td>1257.9</td>\n",
       "      <td>310726</td>\n",
       "      <td>-65.0</td>\n",
       "      <td>Wang Yupu</td>\n",
       "      <td>Petroleum Refining</td>\n",
       "      <td>Energy</td>\n",
       "      <td>4</td>\n",
       "      <td>China</td>\n",
       "      <td>Beijing, China</td>\n",
       "      <td>http://www.sinopec.com</td>\n",
       "      <td>19</td>\n",
       "      <td>713288</td>\n",
       "      <td>106523</td>\n",
       "    </tr>\n",
       "    <tr>\n",
       "      <th>China National Petroleum</th>\n",
       "      <td>4</td>\n",
       "      <td>262573</td>\n",
       "      <td>-12.3</td>\n",
       "      <td>1867.5</td>\n",
       "      <td>585619</td>\n",
       "      <td>-73.7</td>\n",
       "      <td>Zhang Jianhua</td>\n",
       "      <td>Petroleum Refining</td>\n",
       "      <td>Energy</td>\n",
       "      <td>3</td>\n",
       "      <td>China</td>\n",
       "      <td>Beijing, China</td>\n",
       "      <td>http://www.cnpc.com.cn</td>\n",
       "      <td>17</td>\n",
       "      <td>1512048</td>\n",
       "      <td>301893</td>\n",
       "    </tr>\n",
       "    <tr>\n",
       "      <th>Toyota Motor</th>\n",
       "      <td>5</td>\n",
       "      <td>254694</td>\n",
       "      <td>7.7</td>\n",
       "      <td>16899.3</td>\n",
       "      <td>437575</td>\n",
       "      <td>-12.3</td>\n",
       "      <td>Akio Toyoda</td>\n",
       "      <td>Motor Vehicles and Parts</td>\n",
       "      <td>Motor Vehicles &amp; Parts</td>\n",
       "      <td>8</td>\n",
       "      <td>Japan</td>\n",
       "      <td>Toyota, Japan</td>\n",
       "      <td>http://www.toyota-global.com</td>\n",
       "      <td>23</td>\n",
       "      <td>364445</td>\n",
       "      <td>157210</td>\n",
       "    </tr>\n",
       "  </tbody>\n",
       "</table>\n",
       "</div>"
      ],
      "text/plain": [
       "                          rank  revenues  revenue_change  profits  assets  \\\n",
       "company                                                                     \n",
       "State Grid                   2    315199            -4.4   9571.3  489838   \n",
       "Sinopec Group                3    267518            -9.1   1257.9  310726   \n",
       "China National Petroleum     4    262573           -12.3   1867.5  585619   \n",
       "Toyota Motor                 5    254694             7.7  16899.3  437575   \n",
       "\n",
       "                          profit_change            ceo  \\\n",
       "company                                                  \n",
       "State Grid                         -6.2        Kou Wei   \n",
       "Sinopec Group                     -65.0      Wang Yupu   \n",
       "China National Petroleum          -73.7  Zhang Jianhua   \n",
       "Toyota Motor                      -12.3    Akio Toyoda   \n",
       "\n",
       "                                          industry                  sector  \\\n",
       "company                                                                      \n",
       "State Grid                               Utilities                  Energy   \n",
       "Sinopec Group                   Petroleum Refining                  Energy   \n",
       "China National Petroleum        Petroleum Refining                  Energy   \n",
       "Toyota Motor              Motor Vehicles and Parts  Motor Vehicles & Parts   \n",
       "\n",
       "                          previous_rank country     hq_location  \\\n",
       "company                                                           \n",
       "State Grid                            2   China  Beijing, China   \n",
       "Sinopec Group                         4   China  Beijing, China   \n",
       "China National Petroleum              3   China  Beijing, China   \n",
       "Toyota Motor                          8   Japan   Toyota, Japan   \n",
       "\n",
       "                                               website  \\\n",
       "company                                                  \n",
       "State Grid                      http://www.sgcc.com.cn   \n",
       "Sinopec Group                   http://www.sinopec.com   \n",
       "China National Petroleum        http://www.cnpc.com.cn   \n",
       "Toyota Motor              http://www.toyota-global.com   \n",
       "\n",
       "                          years_on_global_500_list  employees  \\\n",
       "company                                                         \n",
       "State Grid                                      17     926067   \n",
       "Sinopec Group                                   19     713288   \n",
       "China National Petroleum                        17    1512048   \n",
       "Toyota Motor                                    23     364445   \n",
       "\n",
       "                          total_stockholder_equity  \n",
       "company                                             \n",
       "State Grid                                  209456  \n",
       "Sinopec Group                               106523  \n",
       "China National Petroleum                    301893  \n",
       "Toyota Motor                                157210  "
      ]
     },
     "execution_count": 45,
     "metadata": {},
     "output_type": "execute_result"
    }
   ],
   "source": [
    "# slice of rows\n",
    "row = f500.loc[\"State Grid\" : \"Toyota Motor\"]\n",
    "row"
   ]
  },
  {
   "cell_type": "code",
   "execution_count": 39,
   "metadata": {},
   "outputs": [
    {
     "name": "stdout",
     "output_type": "stream",
     "text": [
      "Financials                       118\n",
      "Energy                            80\n",
      "Technology                        44\n",
      "Motor Vehicles & Parts            34\n",
      "Wholesalers                       28\n",
      "Health Care                       27\n",
      "Food & Drug Stores                20\n",
      "Transportation                    19\n",
      "Telecommunications                18\n",
      "Retailing                         17\n",
      "Food, Beverages & Tobacco         16\n",
      "Materials                         16\n",
      "Industrials                       15\n",
      "Aerospace & Defense               14\n",
      "Engineering & Construction        13\n",
      "Chemicals                          7\n",
      "Household Products                 3\n",
      "Media                              3\n",
      "Hotels, Restaurants & Leisure      3\n",
      "Business Services                  3\n",
      "Apparel                            2\n",
      "Name: sector, dtype: int64\n"
     ]
    }
   ],
   "source": [
    "sectors = f500[\"sector\"] # izberemo stolpec sector\n",
    "sectors\n",
    "count_sectors = sectors.value_counts() # groups the same and counts them\n",
    "print(count_sectors)"
   ]
  },
  {
   "cell_type": "code",
   "execution_count": 40,
   "metadata": {},
   "outputs": [
    {
     "data": {
      "text/plain": [
       "16"
      ]
     },
     "execution_count": 40,
     "metadata": {},
     "output_type": "execute_result"
    }
   ],
   "source": [
    "count_sectors[\"Materials\"]"
   ]
  },
  {
   "cell_type": "code",
   "execution_count": 41,
   "metadata": {},
   "outputs": [
    {
     "data": {
      "text/plain": [
       "Materials    16\n",
       "Media         3\n",
       "Name: sector, dtype: int64"
      ]
     },
     "execution_count": 41,
     "metadata": {},
     "output_type": "execute_result"
    }
   ],
   "source": [
    "# izbira dven novih vrstic iz df, ki smo ga ustvarili\n",
    "count_sectors[[\"Materials\", \"Media\"]]"
   ]
  },
  {
   "cell_type": "markdown",
   "metadata": {},
   "source": [
    "**Select a list of rows**"
   ]
  },
  {
   "cell_type": "code",
   "execution_count": 43,
   "metadata": {},
   "outputs": [
    {
     "data": {
      "text/plain": [
       "['Toyota Motor', 'Walmart']"
      ]
     },
     "execution_count": 43,
     "metadata": {},
     "output_type": "execute_result"
    }
   ],
   "source": [
    "cols = [\"Toyota Motor\", \"Walmart\"]\n",
    "cols"
   ]
  },
  {
   "cell_type": "markdown",
   "metadata": {},
   "source": [
    "**Select a slice object with labels**"
   ]
  },
  {
   "cell_type": "code",
   "execution_count": 46,
   "metadata": {},
   "outputs": [
    {
     "data": {
      "text/html": [
       "<div>\n",
       "<style scoped>\n",
       "    .dataframe tbody tr th:only-of-type {\n",
       "        vertical-align: middle;\n",
       "    }\n",
       "\n",
       "    .dataframe tbody tr th {\n",
       "        vertical-align: top;\n",
       "    }\n",
       "\n",
       "    .dataframe thead th {\n",
       "        text-align: right;\n",
       "    }\n",
       "</style>\n",
       "<table border=\"1\" class=\"dataframe\">\n",
       "  <thead>\n",
       "    <tr style=\"text-align: right;\">\n",
       "      <th></th>\n",
       "      <th>rank</th>\n",
       "      <th>revenues</th>\n",
       "      <th>revenue_change</th>\n",
       "      <th>profits</th>\n",
       "      <th>assets</th>\n",
       "      <th>profit_change</th>\n",
       "      <th>ceo</th>\n",
       "      <th>industry</th>\n",
       "      <th>sector</th>\n",
       "      <th>previous_rank</th>\n",
       "      <th>country</th>\n",
       "      <th>hq_location</th>\n",
       "      <th>website</th>\n",
       "      <th>years_on_global_500_list</th>\n",
       "      <th>employees</th>\n",
       "      <th>total_stockholder_equity</th>\n",
       "    </tr>\n",
       "    <tr>\n",
       "      <th>company</th>\n",
       "      <th></th>\n",
       "      <th></th>\n",
       "      <th></th>\n",
       "      <th></th>\n",
       "      <th></th>\n",
       "      <th></th>\n",
       "      <th></th>\n",
       "      <th></th>\n",
       "      <th></th>\n",
       "      <th></th>\n",
       "      <th></th>\n",
       "      <th></th>\n",
       "      <th></th>\n",
       "      <th></th>\n",
       "      <th></th>\n",
       "      <th></th>\n",
       "    </tr>\n",
       "  </thead>\n",
       "  <tbody>\n",
       "    <tr>\n",
       "      <th>State Grid</th>\n",
       "      <td>2</td>\n",
       "      <td>315199</td>\n",
       "      <td>-4.4</td>\n",
       "      <td>9571.3</td>\n",
       "      <td>489838</td>\n",
       "      <td>-6.2</td>\n",
       "      <td>Kou Wei</td>\n",
       "      <td>Utilities</td>\n",
       "      <td>Energy</td>\n",
       "      <td>2</td>\n",
       "      <td>China</td>\n",
       "      <td>Beijing, China</td>\n",
       "      <td>http://www.sgcc.com.cn</td>\n",
       "      <td>17</td>\n",
       "      <td>926067</td>\n",
       "      <td>209456</td>\n",
       "    </tr>\n",
       "    <tr>\n",
       "      <th>Sinopec Group</th>\n",
       "      <td>3</td>\n",
       "      <td>267518</td>\n",
       "      <td>-9.1</td>\n",
       "      <td>1257.9</td>\n",
       "      <td>310726</td>\n",
       "      <td>-65.0</td>\n",
       "      <td>Wang Yupu</td>\n",
       "      <td>Petroleum Refining</td>\n",
       "      <td>Energy</td>\n",
       "      <td>4</td>\n",
       "      <td>China</td>\n",
       "      <td>Beijing, China</td>\n",
       "      <td>http://www.sinopec.com</td>\n",
       "      <td>19</td>\n",
       "      <td>713288</td>\n",
       "      <td>106523</td>\n",
       "    </tr>\n",
       "    <tr>\n",
       "      <th>China National Petroleum</th>\n",
       "      <td>4</td>\n",
       "      <td>262573</td>\n",
       "      <td>-12.3</td>\n",
       "      <td>1867.5</td>\n",
       "      <td>585619</td>\n",
       "      <td>-73.7</td>\n",
       "      <td>Zhang Jianhua</td>\n",
       "      <td>Petroleum Refining</td>\n",
       "      <td>Energy</td>\n",
       "      <td>3</td>\n",
       "      <td>China</td>\n",
       "      <td>Beijing, China</td>\n",
       "      <td>http://www.cnpc.com.cn</td>\n",
       "      <td>17</td>\n",
       "      <td>1512048</td>\n",
       "      <td>301893</td>\n",
       "    </tr>\n",
       "    <tr>\n",
       "      <th>Toyota Motor</th>\n",
       "      <td>5</td>\n",
       "      <td>254694</td>\n",
       "      <td>7.7</td>\n",
       "      <td>16899.3</td>\n",
       "      <td>437575</td>\n",
       "      <td>-12.3</td>\n",
       "      <td>Akio Toyoda</td>\n",
       "      <td>Motor Vehicles and Parts</td>\n",
       "      <td>Motor Vehicles &amp; Parts</td>\n",
       "      <td>8</td>\n",
       "      <td>Japan</td>\n",
       "      <td>Toyota, Japan</td>\n",
       "      <td>http://www.toyota-global.com</td>\n",
       "      <td>23</td>\n",
       "      <td>364445</td>\n",
       "      <td>157210</td>\n",
       "    </tr>\n",
       "  </tbody>\n",
       "</table>\n",
       "</div>"
      ],
      "text/plain": [
       "                          rank  revenues  revenue_change  profits  assets  \\\n",
       "company                                                                     \n",
       "State Grid                   2    315199            -4.4   9571.3  489838   \n",
       "Sinopec Group                3    267518            -9.1   1257.9  310726   \n",
       "China National Petroleum     4    262573           -12.3   1867.5  585619   \n",
       "Toyota Motor                 5    254694             7.7  16899.3  437575   \n",
       "\n",
       "                          profit_change            ceo  \\\n",
       "company                                                  \n",
       "State Grid                         -6.2        Kou Wei   \n",
       "Sinopec Group                     -65.0      Wang Yupu   \n",
       "China National Petroleum          -73.7  Zhang Jianhua   \n",
       "Toyota Motor                      -12.3    Akio Toyoda   \n",
       "\n",
       "                                          industry                  sector  \\\n",
       "company                                                                      \n",
       "State Grid                               Utilities                  Energy   \n",
       "Sinopec Group                   Petroleum Refining                  Energy   \n",
       "China National Petroleum        Petroleum Refining                  Energy   \n",
       "Toyota Motor              Motor Vehicles and Parts  Motor Vehicles & Parts   \n",
       "\n",
       "                          previous_rank country     hq_location  \\\n",
       "company                                                           \n",
       "State Grid                            2   China  Beijing, China   \n",
       "Sinopec Group                         4   China  Beijing, China   \n",
       "China National Petroleum              3   China  Beijing, China   \n",
       "Toyota Motor                          8   Japan   Toyota, Japan   \n",
       "\n",
       "                                               website  \\\n",
       "company                                                  \n",
       "State Grid                      http://www.sgcc.com.cn   \n",
       "Sinopec Group                   http://www.sinopec.com   \n",
       "China National Petroleum        http://www.cnpc.com.cn   \n",
       "Toyota Motor              http://www.toyota-global.com   \n",
       "\n",
       "                          years_on_global_500_list  employees  \\\n",
       "company                                                         \n",
       "State Grid                                      17     926067   \n",
       "Sinopec Group                                   19     713288   \n",
       "China National Petroleum                        17    1512048   \n",
       "Toyota Motor                                    23     364445   \n",
       "\n",
       "                          total_stockholder_equity  \n",
       "company                                             \n",
       "State Grid                                  209456  \n",
       "Sinopec Group                               106523  \n",
       "China National Petroleum                    301893  \n",
       "Toyota Motor                                157210  "
      ]
     },
     "execution_count": 46,
     "metadata": {},
     "output_type": "execute_result"
    }
   ],
   "source": [
    "f500.loc[\"State Grid\":\"Toyota Motor\"]"
   ]
  },
  {
   "cell_type": "markdown",
   "metadata": {},
   "source": [
    "<img alt=\"series vs dataframe: series\" src=\"images/df_series_s_updated.svg\">"
   ]
  },
  {
   "cell_type": "markdown",
   "metadata": {},
   "source": [
    "<img alt=\"series vs dataframe: dataframe\" src=\"images/df_series_df_updated.svg\">"
   ]
  },
  {
   "cell_type": "markdown",
   "metadata": {},
   "source": [
    "### Selecting Items from a Series by Label (.loc)"
   ]
  },
  {
   "cell_type": "code",
   "execution_count": 50,
   "metadata": {},
   "outputs": [],
   "source": [
    "# najprej iz df izberemo stolpec -> to sedaj predstavlja series\n",
    "sectors = f500[\"sector\"]"
   ]
  },
  {
   "cell_type": "code",
   "execution_count": 54,
   "metadata": {},
   "outputs": [
    {
     "data": {
      "text/plain": [
       "Materials    16\n",
       "Media         3\n",
       "Name: sector, dtype: int64"
      ]
     },
     "execution_count": 54,
     "metadata": {},
     "output_type": "execute_result"
    }
   ],
   "source": [
    "count_sectors = sectors.value_counts()\n",
    "count_sectors\n",
    "count_sectors[\"Materials\"]\n",
    "count_sectors[[\"Materials\", \"Media\"]]"
   ]
  },
  {
   "cell_type": "markdown",
   "metadata": {},
   "source": [
    "<table>\n",
    "<thead>\n",
    "<tr>\n",
    "<th>Select by Label</th>\n",
    "<th>Explicit Syntax</th>\n",
    "<th>Shorthand Convention</th>\n",
    "</tr>\n",
    "</thead>\n",
    "<tbody>\n",
    "<tr>\n",
    "<td>Single item from series</td>\n",
    "<td><code>s.loc[\"item8\"]</code></td>\n",
    "<td bgcolor=\"#00FF00\"> <code>s[\"item8\"]</code></td>\n",
    "</tr>\n",
    "<tr>\n",
    "<td>List of items from series</td>\n",
    "<td><code>s.loc[[\"item1\",\"item7\"]]</code></td>\n",
    "<td bgcolor=\"#00FF00\"><code>s[[\"item1\",\"item7\"]]</code></td>\n",
    "</tr>\n",
    "<tr>\n",
    "<td>Slice of items from series</td>\n",
    "<td><code>s.loc[\"item2\":\"item4\"]</code></td>\n",
    "<td bgcolor=\"#00FF00\"><code>s[\"item2\":\"item4\"]</code></td>\n",
    "</tr>\n",
    "</tbody>\n",
    "</table>"
   ]
  },
  {
   "cell_type": "markdown",
   "metadata": {},
   "source": [
    "### Summary of label selection (.loc)"
   ]
  },
  {
   "cell_type": "markdown",
   "metadata": {},
   "source": [
    "<table>\n",
    "<thead>\n",
    "<tr>\n",
    "<th>Select by Label</th>\n",
    "<th>Explicit Syntax</th>\n",
    "<th>Shorthand Convention</th>\n",
    "</tr>\n",
    "</thead>\n",
    "<tbody>\n",
    "<tr>\n",
    "<td>Single column from dataframe</td>\n",
    "<td><code>df.loc[:,\"col1\"]</code></td>\n",
    "<td bgcolor=\"#00FF00\"><code>df[\"col1\"]</code></td>\n",
    "</tr>\n",
    "<tr>\n",
    "<td>List of columns from dataframe</td>\n",
    "<td><code>df.loc[:,[\"col1\",\"col7\"]]</code></td>\n",
    "<td bgcolor=\"#00FF00\"><code>df[[\"col1\",\"col7\"]]</code></td>\n",
    "</tr>\n",
    "<tr>\n",
    "<td>Slice of columns from dataframe</td>\n",
    "<td bgcolor=\"#00FF00\"><code>df.loc[:,\"col1\":\"col4\"]</code></td>\n",
    "<td></td>\n",
    "</tr>\n",
    "<tr>\n",
    "<td>Single row from dataframe</td>\n",
    "<td bgcolor=\"#00FF00\"><code>df.loc[\"row4\"]</code></td>\n",
    "<td></td>\n",
    "</tr>\n",
    "<tr>\n",
    "<td>List of rows from dataframe</td>\n",
    "<td bgcolor=\"#00FF00\"><code>df.loc[[\"row1\", \"row8\"]]</code></td>\n",
    "<td></td>\n",
    "</tr>\n",
    "<tr>\n",
    "<td>Slice of rows from dataframe</td>\n",
    "<td bgcolor=\"#00FF00\"><code>df.loc[\"row3\":\"row5\"]</code></td>\n",
    "<td><code>df[\"row3\":\"row5\"]</code></td>\n",
    "</tr>\n",
    "<tr>\n",
    "<td>Single item from series</td>\n",
    "<td><code>s.loc[\"item8\"]</code></td>\n",
    "<td bgcolor=\"#00FF00\"><code>s[\"item8\"]</code></td>\n",
    "</tr>\n",
    "<tr>\n",
    "<td>List of items from series</td>\n",
    "<td><code>s.loc[[\"item1\",\"item7\"]]</code></td>\n",
    "<td bgcolor=\"#00FF00\"><code>s[[\"item1\",\"item7\"]]</code></td>\n",
    "</tr>\n",
    "<tr>\n",
    "<td>Slice of items from series</td>\n",
    "<td><code>s.loc[\"item2\":\"item4\"]</code></td>\n",
    "<td bgcolor=\"#00FF00\"><code>s[\"item2\":\"item4\"]</code></td>\n",
    "</tr>\n",
    "</tbody>\n",
    "</table>"
   ]
  },
  {
   "cell_type": "markdown",
   "metadata": {},
   "source": [
    "<div class=\"alert alert-block alert-info\">\n",
    "<b>Vaja:</b> Create a new variable big_movers, with: Rows with indices Aviva, HP, JD.com, and BHP Billiton, in that order. The rank and previous_rank columns, in that order.</div>"
   ]
  },
  {
   "cell_type": "code",
   "execution_count": null,
   "metadata": {},
   "outputs": [],
   "source": [
    "big_movers = f500.loc[[\"Aviva\", \"HP\", \"JD.com\", \"BHP Billiton\"], [\"rank\",\"previous_rank\"]]\n",
    "big_movers"
   ]
  },
  {
   "cell_type": "markdown",
   "metadata": {},
   "source": [
    "​\n",
    " \n",
    "<div class=\"alert alert-block alert-info\">\n",
    "<b>Vaja:</b> Create a new variable, bottom_companies with: All rows with indices from National Gridto AutoNation, inclusive. The rank, sector, and country columns.</div>"
   ]
  },
  {
   "cell_type": "code",
   "execution_count": null,
   "metadata": {},
   "outputs": [],
   "source": [
    "bottom_companies = f500.loc[\"National Grid\":\"AutoNation\", [\"rank\",\"sector\",\"country\"]]\n",
    "bottom_companies"
   ]
  },
  {
   "cell_type": "code",
   "execution_count": null,
   "metadata": {},
   "outputs": [],
   "source": [
    "f500.head(5)"
   ]
  },
  {
   "cell_type": "code",
   "execution_count": null,
   "metadata": {},
   "outputs": [],
   "source": [
    "f500.loc[\"China National Petroleum\":\"Volkswagen\", [\"ceo\", \"industry\", \"country\"]]"
   ]
  },
  {
   "cell_type": "markdown",
   "metadata": {},
   "source": [
    "## Vectorized Operations"
   ]
  },
  {
   "cell_type": "markdown",
   "metadata": {},
   "source": [
    "<p><img alt=\"Vectorized operation\" src=\"images/vectorized.gif\"></p>"
   ]
  },
  {
   "cell_type": "code",
   "execution_count": 55,
   "metadata": {},
   "outputs": [
    {
     "data": {
      "text/plain": [
       "0    1\n",
       "1    2\n",
       "2    3\n",
       "3    4\n",
       "4    5\n",
       "dtype: int64"
      ]
     },
     "execution_count": 55,
     "metadata": {},
     "output_type": "execute_result"
    }
   ],
   "source": [
    "my_series = pd.Series([1, 2, 3, 4, 5]) # manual init of pandas series\n",
    "my_series"
   ]
  },
  {
   "cell_type": "code",
   "execution_count": 56,
   "metadata": {},
   "outputs": [],
   "source": [
    "my_series = my_series + 10"
   ]
  },
  {
   "cell_type": "code",
   "execution_count": 57,
   "metadata": {},
   "outputs": [
    {
     "data": {
      "text/plain": [
       "0    11\n",
       "1    12\n",
       "2    13\n",
       "3    14\n",
       "4    15\n",
       "dtype: int64"
      ]
     },
     "execution_count": 57,
     "metadata": {},
     "output_type": "execute_result"
    }
   ],
   "source": [
    "my_series"
   ]
  },
  {
   "cell_type": "markdown",
   "metadata": {},
   "source": [
    "<div>\n",
    "<ul>\n",
    "<li><code>series_a + series_b</code> - Addition</li>\n",
    "<li><code>series_a - series_b</code> - Subtraction</li>\n",
    "<li><code>series_a * series_b</code> - Multiplication (this is unrelated to the multiplications used in linear algebra).</li>\n",
    "<li><code>series_a / series_b</code> - Division</li>\n",
    "</ul>\n",
    "</div>"
   ]
  },
  {
   "cell_type": "code",
   "execution_count": null,
   "metadata": {},
   "outputs": [],
   "source": [
    "change_rank = f500[\"rank\"] - f500[\"previous_rank\"]\n",
    "change_rank"
   ]
  },
  {
   "cell_type": "markdown",
   "metadata": {},
   "source": [
    "##  Series Data Exploration Methods"
   ]
  },
  {
   "cell_type": "markdown",
   "metadata": {},
   "source": [
    "<div>\n",
    "<ul>\n",
    "<li><a target=\"_blank\" href=\"http://pandas.pydata.org/pandas-docs/stable/generated/pandas.Series.max.html\"><code>Series.max()</code></a></li>\n",
    "<li><a target=\"_blank\" href=\"http://pandas.pydata.org/pandas-docs/stable/generated/pandas.Series.min.html\"><code>Series.min()</code></a></li>\n",
    "<li><a target=\"_blank\" href=\"http://pandas.pydata.org/pandas-docs/stable/generated/pandas.Series.mean.html\"><code>Series.mean()</code></a></li>\n",
    "<li><a target=\"_blank\" href=\"http://pandas.pydata.org/pandas-docs/stable/generated/pandas.Series.median.html\"><code>Series.median()</code></a></li>\n",
    "<li><a target=\"_blank\" href=\"http://pandas.pydata.org/pandas-docs/stable/generated/pandas.Series.mode.html\"><code>Series.mode()</code></a></li>\n",
    "<li><a target=\"_blank\" href=\"http://pandas.pydata.org/pandas-docs/stable/generated/pandas.Series.sum.html\"><code>Series.sum()</code></a></li>\n",
    "</ul>\n",
    "\n",
    "</div>"
   ]
  },
  {
   "cell_type": "code",
   "execution_count": null,
   "metadata": {},
   "outputs": [],
   "source": [
    "my_series = pd.Series([0, 1, 2, 3, 4])\n",
    "my_series"
   ]
  },
  {
   "cell_type": "code",
   "execution_count": null,
   "metadata": {},
   "outputs": [],
   "source": [
    "print(my_series.sum())"
   ]
  },
  {
   "cell_type": "markdown",
   "metadata": {},
   "source": [
    "<div class=\"alert alert-block alert-info\">\n",
    "<b>Vaja:</b> Use the Series.max() method to fMind the maximum value for the rank_change series. Assign the result to the variable rank_change_max.</div>"
   ]
  },
  {
   "cell_type": "code",
   "execution_count": null,
   "metadata": {},
   "outputs": [],
   "source": [
    "change_rank.max()"
   ]
  },
  {
   "cell_type": "markdown",
   "metadata": {},
   "source": [
    "<div class=\"alert alert-block alert-info\">\n",
    "<b>Vaja:</b> Use the Series.min() method to find the minimum value for the rank_change series. Assign the result to the variable rank_change_min.</div>"
   ]
  },
  {
   "cell_type": "code",
   "execution_count": null,
   "metadata": {},
   "outputs": [],
   "source": [
    "change_rank.min()"
   ]
  },
  {
   "cell_type": "markdown",
   "metadata": {},
   "source": [
    "### Series Describe Method"
   ]
  },
  {
   "cell_type": "code",
   "execution_count": 58,
   "metadata": {
    "scrolled": true
   },
   "outputs": [
    {
     "data": {
      "text/plain": [
       "count    5.000000e+02\n",
       "mean     2.436323e+05\n",
       "std      4.851937e+05\n",
       "min      3.717000e+03\n",
       "25%      3.658850e+04\n",
       "50%      7.326150e+04\n",
       "75%      1.805640e+05\n",
       "max      3.473238e+06\n",
       "Name: assets, dtype: float64"
      ]
     },
     "execution_count": 58,
     "metadata": {},
     "output_type": "execute_result"
    }
   ],
   "source": [
    "assets = f500[\"assets\"]\n",
    "assets.describe()"
   ]
  },
  {
   "cell_type": "code",
   "execution_count": 59,
   "metadata": {},
   "outputs": [
    {
     "data": {
      "text/plain": [
       "count     500\n",
       "unique     34\n",
       "top       USA\n",
       "freq      132\n",
       "Name: country, dtype: object"
      ]
     },
     "execution_count": 59,
     "metadata": {},
     "output_type": "execute_result"
    }
   ],
   "source": [
    "f500[\"country\"].describe() # metoda se prilagodi tipu"
   ]
  },
  {
   "cell_type": "markdown",
   "metadata": {},
   "source": [
    "<div class=\"alert alert-block alert-info\">\n",
    "<b>Vaja:</b> Return a series of descriptive statistics for the rank column in f500.</div>"
   ]
  },
  {
   "cell_type": "code",
   "execution_count": 61,
   "metadata": {},
   "outputs": [
    {
     "data": {
      "text/plain": [
       "500.0"
      ]
     },
     "execution_count": 61,
     "metadata": {},
     "output_type": "execute_result"
    }
   ],
   "source": [
    "rank = f500[\"rank\"]\n",
    "rank.describe()\n",
    "rank.describe()[\"count\"]"
   ]
  },
  {
   "cell_type": "markdown",
   "metadata": {},
   "source": [
    "<div class=\"alert alert-block alert-info\">\n",
    "<b>Vaja:</b> Return a series of descriptive statistics for the previous_rank column in f500.</div>"
   ]
  },
  {
   "cell_type": "code",
   "execution_count": null,
   "metadata": {},
   "outputs": [],
   "source": [
    "prev_rank = f500[\"previous_rank\"]\n",
    "prev_rank.describe()\n"
   ]
  },
  {
   "cell_type": "markdown",
   "metadata": {},
   "source": [
    "## Method Chaining"
   ]
  },
  {
   "cell_type": "code",
   "execution_count": null,
   "metadata": {},
   "outputs": [],
   "source": [
    "f500[\"country\"].value_counts()[\"USA\"]"
   ]
  },
  {
   "cell_type": "markdown",
   "metadata": {},
   "source": [
    "<div class=\"alert alert-block alert-info\">\n",
    "<b>Vaja:</b> Use Series.value_counts() and Series.loc to return the number of companies with a value of 0 in the previous_rank column in the f500 dataframe. Assign the results to zero_previous_rank.</div>"
   ]
  },
  {
   "cell_type": "code",
   "execution_count": 80,
   "metadata": {},
   "outputs": [
    {
     "name": "stdout",
     "output_type": "stream",
     "text": [
      "33\n"
     ]
    }
   ],
   "source": [
    "# najdi število podjetij ki imajo previous rank enak 0, koliko je teh?\n",
    "number_of_prev_rank_0 = f500.loc[f500[\"previous_rank\"] == 0].shape[0]\n",
    "print(number_of_prev_rank_0)\n"
   ]
  },
  {
   "cell_type": "markdown",
   "metadata": {},
   "source": [
    "## Dataframe Exploration Methods"
   ]
  },
  {
   "cell_type": "markdown",
   "metadata": {},
   "source": [
    "<div>\n",
    "\n",
    "<ul>\n",
    "<li><a target=\"_blank\" href=\"http://pandas.pydata.org/pandas-docs/stable/generated/pandas.Series.max.html\"><code>Series.max()</code></a> and <a target=\"_blank\" href=\"http://pandas.pydata.org/pandas-docs/stable/generated/pandas.DataFrame.max.html\"><code>DataFrame.max()</code></a></li>\n",
    "<li><a target=\"_blank\" href=\"http://pandas.pydata.org/pandas-docs/stable/generated/pandas.Series.min.html\"><code>Series.min()</code></a> and <a target=\"_blank\" href=\"http://pandas.pydata.org/pandas-docs/stable/generated/pandas.DataFrame.min.html\"><code>DataFrame.min()</code></a></li>\n",
    "<li><a target=\"_blank\" href=\"http://pandas.pydata.org/pandas-docs/stable/generated/pandas.Series.mean.html\"><code>Series.mean()</code></a> and <a target=\"_blank\" href=\"http://pandas.pydata.org/pandas-docs/stable/generated/pandas.DataFrame.mean.html\"><code>DataFrame.mean()</code></a></li>\n",
    "<li><a target=\"_blank\" href=\"http://pandas.pydata.org/pandas-docs/stable/generated/pandas.Series.median.html\"><code>Series.median()</code></a> and <a target=\"_blank\" href=\"http://pandas.pydata.org/pandas-docs/stable/generated/pandas.DataFrame.median.html\"><code>DataFrame.median()</code></a></li>\n",
    "<li><a target=\"_blank\" href=\"http://pandas.pydata.org/pandas-docs/stable/generated/pandas.Series.mode.html\"><code>Series.mode()</code></a> and <a target=\"_blank\" href=\"http://pandas.pydata.org/pandas-docs/stable/generated/pandas.DataFrame.mode.html\"><code>DataFrame.mode()</code></a></li>\n",
    "<li><a target=\"_blank\" href=\"http://pandas.pydata.org/pandas-docs/stable/generated/pandas.Series.sum.html\"><code>Series.sum()</code></a> and <a target=\"_blank\" href=\"http://pandas.pydata.org/pandas-docs/stable/generated/pandas.DataFrame.sum.html\"><code>DataFrame.sum()</code></a></li>\n",
    "</ul>\n",
    "\n",
    "<p><img alt=\"dataframe axis parameters\" src=\"images/axis_param.svg\"></p>\n",
    "\n",
    "</div>"
   ]
  },
  {
   "cell_type": "code",
   "execution_count": 84,
   "metadata": {},
   "outputs": [
    {
     "data": {
      "text/plain": [
       "revenues    40236.0\n",
       "profits      1761.6\n",
       "dtype: float64"
      ]
     },
     "execution_count": 84,
     "metadata": {},
     "output_type": "execute_result"
    }
   ],
   "source": [
    "# mediano stolpca revenues in profits\n",
    "f500[[\"revenues\", \"profits\"]]# .median(axis=0) # default je axis 0, po stolpcih tudi, če damo brez argumenta\n",
    "f500[[\"revenues\", \"profits\"]].median()"
   ]
  },
  {
   "cell_type": "markdown",
   "metadata": {},
   "source": [
    "<div class=\"alert alert-block alert-info\">\n",
    "<b>Vaja:</b> Use the DataFrame.max() method to find the maximum value for only the numeric columns from f500 (you may need to check the documentation). Assign the result to the variable max_f500.</div>"
   ]
  },
  {
   "cell_type": "code",
   "execution_count": 85,
   "metadata": {},
   "outputs": [
    {
     "data": {
      "text/plain": [
       "rank                            500.0\n",
       "revenues                     485873.0\n",
       "revenue_change                  442.3\n",
       "profits                       45687.0\n",
       "assets                      3473238.0\n",
       "profit_change                  8909.5\n",
       "previous_rank                   500.0\n",
       "years_on_global_500_list         23.0\n",
       "employees                   2300000.0\n",
       "total_stockholder_equity     301893.0\n",
       "dtype: float64"
      ]
     },
     "execution_count": 85,
     "metadata": {},
     "output_type": "execute_result"
    }
   ],
   "source": [
    "# poisci maximalno vrednost za vsak stolpec\n",
    "f500.max(numeric_only=1)"
   ]
  },
  {
   "cell_type": "markdown",
   "metadata": {},
   "source": [
    "### Dataframe Describe Method"
   ]
  },
  {
   "cell_type": "code",
   "execution_count": 86,
   "metadata": {},
   "outputs": [
    {
     "data": {
      "text/html": [
       "<div>\n",
       "<style scoped>\n",
       "    .dataframe tbody tr th:only-of-type {\n",
       "        vertical-align: middle;\n",
       "    }\n",
       "\n",
       "    .dataframe tbody tr th {\n",
       "        vertical-align: top;\n",
       "    }\n",
       "\n",
       "    .dataframe thead th {\n",
       "        text-align: right;\n",
       "    }\n",
       "</style>\n",
       "<table border=\"1\" class=\"dataframe\">\n",
       "  <thead>\n",
       "    <tr style=\"text-align: right;\">\n",
       "      <th></th>\n",
       "      <th>rank</th>\n",
       "      <th>revenues</th>\n",
       "      <th>revenue_change</th>\n",
       "      <th>profits</th>\n",
       "      <th>assets</th>\n",
       "      <th>profit_change</th>\n",
       "      <th>previous_rank</th>\n",
       "      <th>years_on_global_500_list</th>\n",
       "      <th>employees</th>\n",
       "      <th>total_stockholder_equity</th>\n",
       "    </tr>\n",
       "  </thead>\n",
       "  <tbody>\n",
       "    <tr>\n",
       "      <th>count</th>\n",
       "      <td>500.000000</td>\n",
       "      <td>500.000000</td>\n",
       "      <td>498.000000</td>\n",
       "      <td>499.000000</td>\n",
       "      <td>5.000000e+02</td>\n",
       "      <td>436.000000</td>\n",
       "      <td>500.000000</td>\n",
       "      <td>500.000000</td>\n",
       "      <td>5.000000e+02</td>\n",
       "      <td>500.000000</td>\n",
       "    </tr>\n",
       "    <tr>\n",
       "      <th>mean</th>\n",
       "      <td>250.500000</td>\n",
       "      <td>55416.358000</td>\n",
       "      <td>4.538353</td>\n",
       "      <td>3055.203206</td>\n",
       "      <td>2.436323e+05</td>\n",
       "      <td>24.152752</td>\n",
       "      <td>222.134000</td>\n",
       "      <td>15.036000</td>\n",
       "      <td>1.339983e+05</td>\n",
       "      <td>30628.076000</td>\n",
       "    </tr>\n",
       "    <tr>\n",
       "      <th>std</th>\n",
       "      <td>144.481833</td>\n",
       "      <td>45725.478963</td>\n",
       "      <td>28.549067</td>\n",
       "      <td>5171.981071</td>\n",
       "      <td>4.851937e+05</td>\n",
       "      <td>437.509566</td>\n",
       "      <td>146.941961</td>\n",
       "      <td>7.932752</td>\n",
       "      <td>1.700878e+05</td>\n",
       "      <td>43642.576833</td>\n",
       "    </tr>\n",
       "    <tr>\n",
       "      <th>min</th>\n",
       "      <td>1.000000</td>\n",
       "      <td>21609.000000</td>\n",
       "      <td>-67.300000</td>\n",
       "      <td>-13038.000000</td>\n",
       "      <td>3.717000e+03</td>\n",
       "      <td>-793.700000</td>\n",
       "      <td>0.000000</td>\n",
       "      <td>1.000000</td>\n",
       "      <td>3.280000e+02</td>\n",
       "      <td>-59909.000000</td>\n",
       "    </tr>\n",
       "    <tr>\n",
       "      <th>25%</th>\n",
       "      <td>125.750000</td>\n",
       "      <td>29003.000000</td>\n",
       "      <td>-5.900000</td>\n",
       "      <td>556.950000</td>\n",
       "      <td>3.658850e+04</td>\n",
       "      <td>-22.775000</td>\n",
       "      <td>92.750000</td>\n",
       "      <td>7.000000</td>\n",
       "      <td>4.293250e+04</td>\n",
       "      <td>7553.750000</td>\n",
       "    </tr>\n",
       "    <tr>\n",
       "      <th>50%</th>\n",
       "      <td>250.500000</td>\n",
       "      <td>40236.000000</td>\n",
       "      <td>0.550000</td>\n",
       "      <td>1761.600000</td>\n",
       "      <td>7.326150e+04</td>\n",
       "      <td>-0.350000</td>\n",
       "      <td>219.500000</td>\n",
       "      <td>17.000000</td>\n",
       "      <td>9.291050e+04</td>\n",
       "      <td>15809.500000</td>\n",
       "    </tr>\n",
       "    <tr>\n",
       "      <th>75%</th>\n",
       "      <td>375.250000</td>\n",
       "      <td>63926.750000</td>\n",
       "      <td>6.975000</td>\n",
       "      <td>3954.000000</td>\n",
       "      <td>1.805640e+05</td>\n",
       "      <td>17.700000</td>\n",
       "      <td>347.250000</td>\n",
       "      <td>23.000000</td>\n",
       "      <td>1.689172e+05</td>\n",
       "      <td>37828.500000</td>\n",
       "    </tr>\n",
       "    <tr>\n",
       "      <th>max</th>\n",
       "      <td>500.000000</td>\n",
       "      <td>485873.000000</td>\n",
       "      <td>442.300000</td>\n",
       "      <td>45687.000000</td>\n",
       "      <td>3.473238e+06</td>\n",
       "      <td>8909.500000</td>\n",
       "      <td>500.000000</td>\n",
       "      <td>23.000000</td>\n",
       "      <td>2.300000e+06</td>\n",
       "      <td>301893.000000</td>\n",
       "    </tr>\n",
       "  </tbody>\n",
       "</table>\n",
       "</div>"
      ],
      "text/plain": [
       "             rank       revenues  revenue_change       profits        assets  \\\n",
       "count  500.000000     500.000000      498.000000    499.000000  5.000000e+02   \n",
       "mean   250.500000   55416.358000        4.538353   3055.203206  2.436323e+05   \n",
       "std    144.481833   45725.478963       28.549067   5171.981071  4.851937e+05   \n",
       "min      1.000000   21609.000000      -67.300000 -13038.000000  3.717000e+03   \n",
       "25%    125.750000   29003.000000       -5.900000    556.950000  3.658850e+04   \n",
       "50%    250.500000   40236.000000        0.550000   1761.600000  7.326150e+04   \n",
       "75%    375.250000   63926.750000        6.975000   3954.000000  1.805640e+05   \n",
       "max    500.000000  485873.000000      442.300000  45687.000000  3.473238e+06   \n",
       "\n",
       "       profit_change  previous_rank  years_on_global_500_list     employees  \\\n",
       "count     436.000000     500.000000                500.000000  5.000000e+02   \n",
       "mean       24.152752     222.134000                 15.036000  1.339983e+05   \n",
       "std       437.509566     146.941961                  7.932752  1.700878e+05   \n",
       "min      -793.700000       0.000000                  1.000000  3.280000e+02   \n",
       "25%       -22.775000      92.750000                  7.000000  4.293250e+04   \n",
       "50%        -0.350000     219.500000                 17.000000  9.291050e+04   \n",
       "75%        17.700000     347.250000                 23.000000  1.689172e+05   \n",
       "max      8909.500000     500.000000                 23.000000  2.300000e+06   \n",
       "\n",
       "       total_stockholder_equity  \n",
       "count                500.000000  \n",
       "mean               30628.076000  \n",
       "std                43642.576833  \n",
       "min               -59909.000000  \n",
       "25%                 7553.750000  \n",
       "50%                15809.500000  \n",
       "75%                37828.500000  \n",
       "max               301893.000000  "
      ]
     },
     "execution_count": 86,
     "metadata": {},
     "output_type": "execute_result"
    }
   ],
   "source": [
    "f500.describe()"
   ]
  },
  {
   "cell_type": "code",
   "execution_count": 87,
   "metadata": {},
   "outputs": [
    {
     "data": {
      "text/html": [
       "<div>\n",
       "<style scoped>\n",
       "    .dataframe tbody tr th:only-of-type {\n",
       "        vertical-align: middle;\n",
       "    }\n",
       "\n",
       "    .dataframe tbody tr th {\n",
       "        vertical-align: top;\n",
       "    }\n",
       "\n",
       "    .dataframe thead th {\n",
       "        text-align: right;\n",
       "    }\n",
       "</style>\n",
       "<table border=\"1\" class=\"dataframe\">\n",
       "  <thead>\n",
       "    <tr style=\"text-align: right;\">\n",
       "      <th></th>\n",
       "      <th>ceo</th>\n",
       "      <th>industry</th>\n",
       "      <th>sector</th>\n",
       "      <th>country</th>\n",
       "      <th>hq_location</th>\n",
       "      <th>website</th>\n",
       "    </tr>\n",
       "  </thead>\n",
       "  <tbody>\n",
       "    <tr>\n",
       "      <th>count</th>\n",
       "      <td>500</td>\n",
       "      <td>500</td>\n",
       "      <td>500</td>\n",
       "      <td>500</td>\n",
       "      <td>500</td>\n",
       "      <td>500</td>\n",
       "    </tr>\n",
       "    <tr>\n",
       "      <th>unique</th>\n",
       "      <td>500</td>\n",
       "      <td>58</td>\n",
       "      <td>21</td>\n",
       "      <td>34</td>\n",
       "      <td>235</td>\n",
       "      <td>500</td>\n",
       "    </tr>\n",
       "    <tr>\n",
       "      <th>top</th>\n",
       "      <td>C. Douglas McMillon</td>\n",
       "      <td>Banks: Commercial and Savings</td>\n",
       "      <td>Financials</td>\n",
       "      <td>USA</td>\n",
       "      <td>Beijing, China</td>\n",
       "      <td>http://www.walmart.com</td>\n",
       "    </tr>\n",
       "    <tr>\n",
       "      <th>freq</th>\n",
       "      <td>1</td>\n",
       "      <td>51</td>\n",
       "      <td>118</td>\n",
       "      <td>132</td>\n",
       "      <td>56</td>\n",
       "      <td>1</td>\n",
       "    </tr>\n",
       "  </tbody>\n",
       "</table>\n",
       "</div>"
      ],
      "text/plain": [
       "                        ceo                       industry      sector  \\\n",
       "count                   500                            500         500   \n",
       "unique                  500                             58          21   \n",
       "top     C. Douglas McMillon  Banks: Commercial and Savings  Financials   \n",
       "freq                      1                             51         118   \n",
       "\n",
       "       country     hq_location                 website  \n",
       "count      500             500                     500  \n",
       "unique      34             235                     500  \n",
       "top        USA  Beijing, China  http://www.walmart.com  \n",
       "freq       132              56                       1  "
      ]
     },
     "execution_count": 87,
     "metadata": {},
     "output_type": "execute_result"
    }
   ],
   "source": [
    "f500.describe(include=[\"O\"])"
   ]
  },
  {
   "cell_type": "markdown",
   "metadata": {},
   "source": [
    "<div class=\"alert alert-block alert-info\">\n",
    "<b>Vaja:</b> Return a dataframe of descriptive statistics for all of the numeric columns in f500. Assign the result to f500_desc.</div>"
   ]
  },
  {
   "cell_type": "markdown",
   "metadata": {},
   "source": [
    "## Assignment with pandas"
   ]
  },
  {
   "cell_type": "code",
   "execution_count": 94,
   "metadata": {},
   "outputs": [
    {
     "data": {
      "text/html": [
       "<div>\n",
       "<style scoped>\n",
       "    .dataframe tbody tr th:only-of-type {\n",
       "        vertical-align: middle;\n",
       "    }\n",
       "\n",
       "    .dataframe tbody tr th {\n",
       "        vertical-align: top;\n",
       "    }\n",
       "\n",
       "    .dataframe thead th {\n",
       "        text-align: right;\n",
       "    }\n",
       "</style>\n",
       "<table border=\"1\" class=\"dataframe\">\n",
       "  <thead>\n",
       "    <tr style=\"text-align: right;\">\n",
       "      <th></th>\n",
       "      <th>rank</th>\n",
       "      <th>revenues</th>\n",
       "    </tr>\n",
       "    <tr>\n",
       "      <th>company</th>\n",
       "      <th></th>\n",
       "      <th></th>\n",
       "    </tr>\n",
       "  </thead>\n",
       "  <tbody>\n",
       "    <tr>\n",
       "      <th>Walmart</th>\n",
       "      <td>1</td>\n",
       "      <td>0</td>\n",
       "    </tr>\n",
       "    <tr>\n",
       "      <th>State Grid</th>\n",
       "      <td>2</td>\n",
       "      <td>0</td>\n",
       "    </tr>\n",
       "    <tr>\n",
       "      <th>Sinopec Group</th>\n",
       "      <td>3</td>\n",
       "      <td>999</td>\n",
       "    </tr>\n",
       "    <tr>\n",
       "      <th>China National Petroleum</th>\n",
       "      <td>4</td>\n",
       "      <td>0</td>\n",
       "    </tr>\n",
       "    <tr>\n",
       "      <th>Toyota Motor</th>\n",
       "      <td>5</td>\n",
       "      <td>0</td>\n",
       "    </tr>\n",
       "  </tbody>\n",
       "</table>\n",
       "</div>"
      ],
      "text/plain": [
       "                          rank  revenues\n",
       "company                                 \n",
       "Walmart                      1         0\n",
       "State Grid                   2         0\n",
       "Sinopec Group                3       999\n",
       "China National Petroleum     4         0\n",
       "Toyota Motor                 5         0"
      ]
     },
     "execution_count": 94,
     "metadata": {},
     "output_type": "execute_result"
    }
   ],
   "source": [
    "top5 = f500[[\"rank\", \"revenues\"]].head(5)\n",
    "top5[\"revenues\"] = 0\n",
    "top5.loc[\"Sinopec Group\",\"revenues\"] = 999\n",
    "top5"
   ]
  },
  {
   "cell_type": "code",
   "execution_count": 95,
   "metadata": {},
   "outputs": [
    {
     "data": {
      "text/html": [
       "<div>\n",
       "<style scoped>\n",
       "    .dataframe tbody tr th:only-of-type {\n",
       "        vertical-align: middle;\n",
       "    }\n",
       "\n",
       "    .dataframe tbody tr th {\n",
       "        vertical-align: top;\n",
       "    }\n",
       "\n",
       "    .dataframe thead th {\n",
       "        text-align: right;\n",
       "    }\n",
       "</style>\n",
       "<table border=\"1\" class=\"dataframe\">\n",
       "  <thead>\n",
       "    <tr style=\"text-align: right;\">\n",
       "      <th></th>\n",
       "      <th>rank</th>\n",
       "      <th>revenues</th>\n",
       "      <th>revenue_change</th>\n",
       "      <th>profits</th>\n",
       "      <th>assets</th>\n",
       "      <th>profit_change</th>\n",
       "      <th>ceo</th>\n",
       "      <th>industry</th>\n",
       "      <th>sector</th>\n",
       "      <th>previous_rank</th>\n",
       "      <th>country</th>\n",
       "      <th>hq_location</th>\n",
       "      <th>website</th>\n",
       "      <th>years_on_global_500_list</th>\n",
       "      <th>employees</th>\n",
       "      <th>total_stockholder_equity</th>\n",
       "    </tr>\n",
       "    <tr>\n",
       "      <th>company</th>\n",
       "      <th></th>\n",
       "      <th></th>\n",
       "      <th></th>\n",
       "      <th></th>\n",
       "      <th></th>\n",
       "      <th></th>\n",
       "      <th></th>\n",
       "      <th></th>\n",
       "      <th></th>\n",
       "      <th></th>\n",
       "      <th></th>\n",
       "      <th></th>\n",
       "      <th></th>\n",
       "      <th></th>\n",
       "      <th></th>\n",
       "      <th></th>\n",
       "    </tr>\n",
       "  </thead>\n",
       "  <tbody>\n",
       "    <tr>\n",
       "      <th>Walmart</th>\n",
       "      <td>1</td>\n",
       "      <td>485873</td>\n",
       "      <td>0.8</td>\n",
       "      <td>13643.0</td>\n",
       "      <td>198825</td>\n",
       "      <td>-7.2</td>\n",
       "      <td>C. Douglas McMillon</td>\n",
       "      <td>General Merchandisers</td>\n",
       "      <td>Retailing</td>\n",
       "      <td>1</td>\n",
       "      <td>USA</td>\n",
       "      <td>Bentonville, AR</td>\n",
       "      <td>http://www.walmart.com</td>\n",
       "      <td>23</td>\n",
       "      <td>2300000</td>\n",
       "      <td>77798</td>\n",
       "    </tr>\n",
       "    <tr>\n",
       "      <th>State Grid</th>\n",
       "      <td>2</td>\n",
       "      <td>315199</td>\n",
       "      <td>-4.4</td>\n",
       "      <td>9571.3</td>\n",
       "      <td>489838</td>\n",
       "      <td>-6.2</td>\n",
       "      <td>Kou Wei</td>\n",
       "      <td>Utilities</td>\n",
       "      <td>Energy</td>\n",
       "      <td>2</td>\n",
       "      <td>China</td>\n",
       "      <td>Beijing, China</td>\n",
       "      <td>http://www.sgcc.com.cn</td>\n",
       "      <td>17</td>\n",
       "      <td>926067</td>\n",
       "      <td>209456</td>\n",
       "    </tr>\n",
       "    <tr>\n",
       "      <th>Sinopec Group</th>\n",
       "      <td>3</td>\n",
       "      <td>267518</td>\n",
       "      <td>-9.1</td>\n",
       "      <td>1257.9</td>\n",
       "      <td>310726</td>\n",
       "      <td>-65.0</td>\n",
       "      <td>Wang Yupu</td>\n",
       "      <td>Petroleum Refining</td>\n",
       "      <td>Energy</td>\n",
       "      <td>4</td>\n",
       "      <td>China</td>\n",
       "      <td>Beijing, China</td>\n",
       "      <td>http://www.sinopec.com</td>\n",
       "      <td>19</td>\n",
       "      <td>713288</td>\n",
       "      <td>106523</td>\n",
       "    </tr>\n",
       "    <tr>\n",
       "      <th>China National Petroleum</th>\n",
       "      <td>4</td>\n",
       "      <td>262573</td>\n",
       "      <td>-12.3</td>\n",
       "      <td>1867.5</td>\n",
       "      <td>585619</td>\n",
       "      <td>-73.7</td>\n",
       "      <td>Zhang Jianhua</td>\n",
       "      <td>Petroleum Refining</td>\n",
       "      <td>Energy</td>\n",
       "      <td>3</td>\n",
       "      <td>China</td>\n",
       "      <td>Beijing, China</td>\n",
       "      <td>http://www.cnpc.com.cn</td>\n",
       "      <td>17</td>\n",
       "      <td>1512048</td>\n",
       "      <td>301893</td>\n",
       "    </tr>\n",
       "    <tr>\n",
       "      <th>Toyota Motor</th>\n",
       "      <td>5</td>\n",
       "      <td>254694</td>\n",
       "      <td>7.7</td>\n",
       "      <td>16899.3</td>\n",
       "      <td>437575</td>\n",
       "      <td>-12.3</td>\n",
       "      <td>Akio Toyoda</td>\n",
       "      <td>Motor Vehicles and Parts</td>\n",
       "      <td>Motor Vehicles &amp; Parts</td>\n",
       "      <td>8</td>\n",
       "      <td>Japan</td>\n",
       "      <td>Toyota, Japan</td>\n",
       "      <td>http://www.toyota-global.com</td>\n",
       "      <td>23</td>\n",
       "      <td>364445</td>\n",
       "      <td>157210</td>\n",
       "    </tr>\n",
       "  </tbody>\n",
       "</table>\n",
       "</div>"
      ],
      "text/plain": [
       "                          rank  revenues  revenue_change  profits  assets  \\\n",
       "company                                                                     \n",
       "Walmart                      1    485873             0.8  13643.0  198825   \n",
       "State Grid                   2    315199            -4.4   9571.3  489838   \n",
       "Sinopec Group                3    267518            -9.1   1257.9  310726   \n",
       "China National Petroleum     4    262573           -12.3   1867.5  585619   \n",
       "Toyota Motor                 5    254694             7.7  16899.3  437575   \n",
       "\n",
       "                          profit_change                  ceo  \\\n",
       "company                                                        \n",
       "Walmart                            -7.2  C. Douglas McMillon   \n",
       "State Grid                         -6.2              Kou Wei   \n",
       "Sinopec Group                     -65.0            Wang Yupu   \n",
       "China National Petroleum          -73.7        Zhang Jianhua   \n",
       "Toyota Motor                      -12.3          Akio Toyoda   \n",
       "\n",
       "                                          industry                  sector  \\\n",
       "company                                                                      \n",
       "Walmart                      General Merchandisers               Retailing   \n",
       "State Grid                               Utilities                  Energy   \n",
       "Sinopec Group                   Petroleum Refining                  Energy   \n",
       "China National Petroleum        Petroleum Refining                  Energy   \n",
       "Toyota Motor              Motor Vehicles and Parts  Motor Vehicles & Parts   \n",
       "\n",
       "                          previous_rank country      hq_location  \\\n",
       "company                                                            \n",
       "Walmart                               1     USA  Bentonville, AR   \n",
       "State Grid                            2   China   Beijing, China   \n",
       "Sinopec Group                         4   China   Beijing, China   \n",
       "China National Petroleum              3   China   Beijing, China   \n",
       "Toyota Motor                          8   Japan    Toyota, Japan   \n",
       "\n",
       "                                               website  \\\n",
       "company                                                  \n",
       "Walmart                         http://www.walmart.com   \n",
       "State Grid                      http://www.sgcc.com.cn   \n",
       "Sinopec Group                   http://www.sinopec.com   \n",
       "China National Petroleum        http://www.cnpc.com.cn   \n",
       "Toyota Motor              http://www.toyota-global.com   \n",
       "\n",
       "                          years_on_global_500_list  employees  \\\n",
       "company                                                         \n",
       "Walmart                                         23    2300000   \n",
       "State Grid                                      17     926067   \n",
       "Sinopec Group                                   19     713288   \n",
       "China National Petroleum                        17    1512048   \n",
       "Toyota Motor                                    23     364445   \n",
       "\n",
       "                          total_stockholder_equity  \n",
       "company                                             \n",
       "Walmart                                      77798  \n",
       "State Grid                                  209456  \n",
       "Sinopec Group                               106523  \n",
       "China National Petroleum                    301893  \n",
       "Toyota Motor                                157210  "
      ]
     },
     "execution_count": 95,
     "metadata": {},
     "output_type": "execute_result"
    }
   ],
   "source": [
    "f500.head() # nismo vplivali na originalne vrednosti"
   ]
  },
  {
   "cell_type": "markdown",
   "metadata": {},
   "source": [
    "<div class=\"alert alert-block alert-info\">\n",
    "<b>Vaja:</b> The company \"Dow Chemical\" has named a new CEO. Update the value where the row label is Dow Chemical and for the ceo column to Jim Fitterling in the f500 dataframe.</div>"
   ]
  },
  {
   "cell_type": "code",
   "execution_count": null,
   "metadata": {},
   "outputs": [],
   "source": [
    "f500.loc[\"Dow Chemical\", \"ceo\"] = \"Jim Fitterling\"\n",
    "f500.loc[\"Dow Chemical\"]"
   ]
  },
  {
   "cell_type": "markdown",
   "metadata": {},
   "source": [
    "## Using Boolean Indexing with pandas Objects"
   ]
  },
  {
   "cell_type": "code",
   "execution_count": 96,
   "metadata": {},
   "outputs": [
    {
     "data": {
      "text/html": [
       "<div>\n",
       "<style scoped>\n",
       "    .dataframe tbody tr th:only-of-type {\n",
       "        vertical-align: middle;\n",
       "    }\n",
       "\n",
       "    .dataframe tbody tr th {\n",
       "        vertical-align: top;\n",
       "    }\n",
       "\n",
       "    .dataframe thead th {\n",
       "        text-align: right;\n",
       "    }\n",
       "</style>\n",
       "<table border=\"1\" class=\"dataframe\">\n",
       "  <thead>\n",
       "    <tr style=\"text-align: right;\">\n",
       "      <th></th>\n",
       "      <th>name</th>\n",
       "      <th>num</th>\n",
       "    </tr>\n",
       "  </thead>\n",
       "  <tbody>\n",
       "    <tr>\n",
       "      <th>w</th>\n",
       "      <td>Bob</td>\n",
       "      <td>12</td>\n",
       "    </tr>\n",
       "    <tr>\n",
       "      <th>x</th>\n",
       "      <td>Eva</td>\n",
       "      <td>8</td>\n",
       "    </tr>\n",
       "    <tr>\n",
       "      <th>y</th>\n",
       "      <td>Sara</td>\n",
       "      <td>5</td>\n",
       "    </tr>\n",
       "    <tr>\n",
       "      <th>z</th>\n",
       "      <td>Mihael</td>\n",
       "      <td>8</td>\n",
       "    </tr>\n",
       "  </tbody>\n",
       "</table>\n",
       "</div>"
      ],
      "text/plain": [
       "     name  num\n",
       "w     Bob   12\n",
       "x     Eva    8\n",
       "y    Sara    5\n",
       "z  Mihael    8"
      ]
     },
     "execution_count": 96,
     "metadata": {},
     "output_type": "execute_result"
    }
   ],
   "source": [
    "d = {'name': ['Bob', 'Eva', 'Sara', 'Mihael'], 'num': [12, 8, 5, 8]}\n",
    "df = pd.DataFrame(data=d, index=['w', 'x', 'y', 'z'])\n",
    "df"
   ]
  },
  {
   "cell_type": "code",
   "execution_count": 97,
   "metadata": {},
   "outputs": [
    {
     "name": "stdout",
     "output_type": "stream",
     "text": [
      "     name  num\n",
      "x     Eva    8\n",
      "z  Mihael    8\n"
     ]
    }
   ],
   "source": [
    "# mask za stolpec, kjer vrednost enaka 8\n",
    "df[\"num\"] == 8\n",
    "df2 = df[df[\"num\"] == 8]\n",
    "print(df2)"
   ]
  },
  {
   "cell_type": "markdown",
   "metadata": {},
   "source": [
    "<div class=\"alert alert-block alert-info\">\n",
    "<b>Vaja:</b> Create a boolean series, motor_bool, that compares whether the values in the industry column from the f500 dataframe are equal to \"Motor Vehicles and Parts\".\n",
    "Use the motor_bool boolean series to index the country column. Assign the result to motor_countries.</div>"
   ]
  },
  {
   "cell_type": "code",
   "execution_count": null,
   "metadata": {},
   "outputs": [],
   "source": [
    "# industry -> \"Motor Vehicles and Parts\"\n",
    "# želimo dobiti države, ki se nahajajo v tem filtru"
   ]
  },
  {
   "cell_type": "code",
   "execution_count": 98,
   "metadata": {},
   "outputs": [
    {
     "name": "stdout",
     "output_type": "stream",
     "text": [
      "company\n",
      "Toyota Motor                                 Japan\n",
      "Volkswagen                                 Germany\n",
      "Daimler                                    Germany\n",
      "General Motors                                 USA\n",
      "Ford Motor                                     USA\n",
      "Honda Motor                                  Japan\n",
      "SAIC Motor                                   China\n",
      "Nissan Motor                                 Japan\n",
      "BMW Group                                  Germany\n",
      "Dongfeng Motor                               China\n",
      "Robert Bosch                               Germany\n",
      "Hyundai Motor                          South Korea\n",
      "China FAW Group                              China\n",
      "Beijing Automotive Group                     China\n",
      "Peugeot                                     France\n",
      "Renault                                     France\n",
      "Kia Motors                             South Korea\n",
      "Continental                                Germany\n",
      "Denso                                        Japan\n",
      "Guangzhou Automobile Industry Group          China\n",
      "Tata Motors                                  India\n",
      "ZF Friedrichshafen                         Germany\n",
      "Jardine Matheson                             China\n",
      "Magna International                         Canada\n",
      "Volvo                                       Sweden\n",
      "Hyundai Mobis                          South Korea\n",
      "Aisin Seiki                                  Japan\n",
      "Zhejiang Geely Holding Group                 China\n",
      "Subaru                                       Japan\n",
      "Bridgestone                                  Japan\n",
      "Mazda Motor                                  Japan\n",
      "Suzuki Motor                                 Japan\n",
      "Sumitomo Electric Industries                 Japan\n",
      "Michelin                                    France\n",
      "Name: country, dtype: object\n"
     ]
    }
   ],
   "source": [
    "countries_MVP = f500.loc[f500[\"industry\"] == \"Motor Vehicles and Parts\", \"country\"]\n",
    "print(countries_MVP)\n",
    "\n",
    "# v tem primeru ni cisto oki, glej naprej -> kopije dataframe-a\n",
    "# countries_MVP = f500[f500[\"industry\"] == \"Motor Vehicles and Parts\"][\"country\"]\n",
    "\n"
   ]
  },
  {
   "cell_type": "markdown",
   "metadata": {},
   "source": [
    "### Using Boolean Arrays to Assign Values"
   ]
  },
  {
   "cell_type": "code",
   "execution_count": null,
   "metadata": {},
   "outputs": [],
   "source": [
    "sector = \"Motor Vehicles & Parts\"\n",
    "f500[f500[\"sector\"] == sector].shape[0] # stevilo vrstic v df kjer je sector enak \"Motor Vehicles & Parts\"\n"
   ]
  },
  {
   "cell_type": "code",
   "execution_count": null,
   "metadata": {},
   "outputs": [],
   "source": [
    "sector_and = \"Motor Vehicles and Parts\"\n",
    "f500[f500[\"sector\"] == sector_and].shape[0]"
   ]
  },
  {
   "cell_type": "code",
   "execution_count": null,
   "metadata": {},
   "outputs": [],
   "source": [
    "# assign values to column only at specific values\n",
    "f500.loc[f500[\"sector\"] == \"Motor Vehicles & Parts\",\"sector\"] = \"Motor Vehicles and Parts\"\n",
    "f500"
   ]
  },
  {
   "cell_type": "markdown",
   "metadata": {},
   "source": [
    "## Creating New Columns"
   ]
  },
  {
   "cell_type": "code",
   "execution_count": null,
   "metadata": {},
   "outputs": [],
   "source": [
    "f500[\"rank_change\"] = f500[\"previous_rank\"] - f500[\"rank\"]\n",
    "\n"
   ]
  },
  {
   "cell_type": "code",
   "execution_count": null,
   "metadata": {},
   "outputs": [],
   "source": [
    "f500"
   ]
  },
  {
   "cell_type": "markdown",
   "metadata": {},
   "source": [
    "## Vaja: Top Performers by Country"
   ]
  },
  {
   "cell_type": "code",
   "execution_count": null,
   "metadata": {},
   "outputs": [],
   "source": [
    "# Najdi 5 najbolj pogostih industrij v USA\n",
    "f500.loc[f500[\"country\"] == \"USA\", \"industry\"].value_counts().head(5)"
   ]
  },
  {
   "cell_type": "code",
   "execution_count": null,
   "metadata": {},
   "outputs": [],
   "source": [
    "# Najdi 5 najbolj pogostih sektorjev v USA\n",
    "f500.loc[f500[\"country\"] == \"China\", \"sector\"].value_counts().head(5)"
   ]
  },
  {
   "cell_type": "markdown",
   "metadata": {},
   "source": [
    "Operatorji za kombiniranje pogojev (filtrov)\n",
    "- &  ...  IN\n",
    "- | ... ALI\n",
    "- ~ ... NEGACIJA"
   ]
  },
  {
   "cell_type": "code",
   "execution_count": null,
   "metadata": {
    "scrolled": true
   },
   "outputs": [],
   "source": [
    "# kombiniranje pogojev\n",
    "f500.loc[(f500[\"country\"] == \"USA\") & \\\n",
    "         (f500[\"sector\"] == \"Retailing\")] # uporabljanje \\ za lazjo berljivost\n"
   ]
  },
  {
   "cell_type": "code",
   "execution_count": null,
   "metadata": {},
   "outputs": [],
   "source": [
    "f500.loc[(((f500[\"country\"] == \"USA\") | (f500[\"country\"] == \"China\")) \\\n",
    "          & ~(f500[\"sector\"] == \"Retailing\"), \"industry\")] \\\n",
    "            .value_counts().head(5)"
   ]
  },
  {
   "cell_type": "markdown",
   "metadata": {},
   "source": [
    "## Reading CSV files with pandas"
   ]
  },
  {
   "cell_type": "markdown",
   "metadata": {},
   "source": [
    "<div>\n",
    "<p><img alt=\"csv_to_dataframe\" src=\"images/csv_to_dataframe.svg\"></p>\n",
    "\n",
    "\n",
    "</div>"
   ]
  },
  {
   "cell_type": "markdown",
   "metadata": {},
   "source": [
    "Primer ko naložimo brez nekega indexa (ni pametnega index stolpca)"
   ]
  },
  {
   "cell_type": "code",
   "execution_count": null,
   "metadata": {},
   "outputs": [],
   "source": [
    "f500 = pd.read_csv(\"data/f500.csv\")\n",
    "f500.head()\n",
    "f500.columns\n",
    "f500.index"
   ]
  },
  {
   "cell_type": "markdown",
   "metadata": {},
   "source": [
    "iloc - location based indexing\n",
    "loc - labeled based indexing"
   ]
  },
  {
   "cell_type": "markdown",
   "metadata": {},
   "source": [
    "## Using iloc to select by integer position"
   ]
  },
  {
   "cell_type": "code",
   "execution_count": null,
   "metadata": {},
   "outputs": [],
   "source": [
    "cols = ['company', 'rank', 'revenues']\n",
    "minif500 = f500[cols].head()\n",
    "print(minif500.iloc[4])\n",
    "print(\"------\")\n",
    "print(minif500.iloc[3,2])\n",
    "print(\"------\")\n",
    "print(minif500.iloc[2,:])\n"
   ]
  },
  {
   "cell_type": "markdown",
   "metadata": {},
   "source": [
    "<p><img alt=\"selection using iloc\" src=\"images/selection_iloc.svg\"></p>"
   ]
  },
  {
   "cell_type": "markdown",
   "metadata": {},
   "source": [
    "    df.iloc[row_index, column_index]"
   ]
  },
  {
   "cell_type": "markdown",
   "metadata": {},
   "source": [
    "<div class=\"alert alert-block alert-info\">\n",
    "<b>Vaja:</b> Select just the fifth row of the f500 dataframe. Assign the result to fifth_row.</div>"
   ]
  },
  {
   "cell_type": "code",
   "execution_count": null,
   "metadata": {},
   "outputs": [],
   "source": [
    "fifth_row = f500.iloc[4] # vse vrstice\n",
    "print(fifth_row)"
   ]
  },
  {
   "cell_type": "markdown",
   "metadata": {},
   "source": [
    "<div class=\"alert alert-block alert-info\">\n",
    "<b>Vaja:</b> Select the value in first row of the company column. Assign the result to company_value.</div>"
   ]
  },
  {
   "cell_type": "code",
   "execution_count": null,
   "metadata": {},
   "outputs": [],
   "source": [
    "f500.iloc[0,0]\n",
    "# f500.iloc[0][\"company\"] # !!! zopet pazi kak copy naredi to na arrayu"
   ]
  },
  {
   "cell_type": "markdown",
   "metadata": {},
   "source": [
    "<div>\n",
    "\n",
    "<table>\n",
    "<thead>\n",
    "<tr>\n",
    "<th>Select by integer position</th>\n",
    "<th>Explicit Syntax</th>\n",
    "<th>Shorthand Convention</th>\n",
    "</tr>\n",
    "</thead>\n",
    "<tbody>\n",
    "<tr>\n",
    "<td>Single column from dataframe</td>\n",
    "<td><code>df.iloc[:,3]</code></td>\n",
    "<td></td>\n",
    "</tr>\n",
    "<tr>\n",
    "<td>List of columns from dataframe</td>\n",
    "<td><code>df.iloc[:,[3,5,6]]</code></td>\n",
    "<td></td>\n",
    "</tr>\n",
    "<tr>\n",
    "<td>Slice of columns from dataframe</td>\n",
    "<td><code>df.iloc[:,3:7]</code></td>\n",
    "<td></td>\n",
    "</tr>\n",
    "<tr>\n",
    "<td>Single row from dataframe</td>\n",
    "<td><code>df.iloc[20]</code></td>\n",
    "<td></td>\n",
    "</tr>\n",
    "<tr>\n",
    "<td>List of rows from dataframe</td>\n",
    "<td><code>df.iloc[[0,3,8]]</code></td>\n",
    "<td></td>\n",
    "</tr>\n",
    "<tr>\n",
    "<td>Slice of rows from dataframe</td>\n",
    "<td><code>df.iloc[3:5]</code></td>\n",
    "<td><code>df[3:5]</code></td>\n",
    "</tr>\n",
    "<tr>\n",
    "<td>Single items from series</td>\n",
    "<td><code>s.iloc[8]</code></td>\n",
    "<td><code>s[8]</code></td>\n",
    "</tr>\n",
    "<tr>\n",
    "<td>List of item from series</td>\n",
    "<td><code>s.iloc[[2,8,1]]</code></td>\n",
    "<td><code>s[[2,8,1]]</code></td>\n",
    "</tr>\n",
    "<tr>\n",
    "<td>Slice of items from series</td>\n",
    "<td><code>s.iloc[5:10]</code></td>\n",
    "<td><code>s[5:10]</code></td>\n",
    "</tr>\n",
    "</tbody>\n",
    "</table>\n",
    "</div>"
   ]
  },
  {
   "cell_type": "markdown",
   "metadata": {},
   "source": [
    "<div class=\"alert alert-block alert-info\">\n",
    "<b>Vaja:</b> Select the first three rows of the f500 dataframe. Assign the result to first_three_rows.</div>"
   ]
  },
  {
   "cell_type": "markdown",
   "metadata": {},
   "source": [
    "### Pozor - razlika loc - iloc\n",
    "f500.iloc[0:3] ---> zadnja vrstica se ne upostevam  \n",
    "\n",
    "f500.loc[0:3] ---> gleda kot label (v tem primeru je label = indexs) in uposteva tudi zadnjo vrstico"
   ]
  },
  {
   "cell_type": "markdown",
   "metadata": {},
   "source": [
    "<p><img alt=\"loc vs iloc for rows in different order\" src=\"images/integer_labels_2.svg\"></p>"
   ]
  },
  {
   "cell_type": "code",
   "execution_count": null,
   "metadata": {},
   "outputs": [],
   "source": [
    "first_three_rows = f500.iloc[:3]\n",
    "first_three_rows"
   ]
  },
  {
   "cell_type": "markdown",
   "metadata": {},
   "source": [
    "<div class=\"alert alert-block alert-info\">\n",
    "<b>Vaja:</b> Select the first and seventh rows and the first five columns of the f500 dataframe. Assign the result to first_seventh_row_slice.</div>"
   ]
  },
  {
   "cell_type": "code",
   "execution_count": null,
   "metadata": {},
   "outputs": [],
   "source": [
    "first_seventh_row_slice = f500.iloc[[0,6],:5]\n",
    "first_seventh_row_slice"
   ]
  },
  {
   "cell_type": "markdown",
   "metadata": {},
   "source": [
    "## Using pandas methods to create boolean masks"
   ]
  },
  {
   "cell_type": "code",
   "execution_count": null,
   "metadata": {},
   "outputs": [],
   "source": [
    "f500[\"revenue_change\"].isnull().value_counts()"
   ]
  },
  {
   "cell_type": "code",
   "execution_count": null,
   "metadata": {
    "scrolled": true
   },
   "outputs": [],
   "source": [
    "f500[f500[\"revenue_change\"].isnull()]"
   ]
  },
  {
   "cell_type": "markdown",
   "metadata": {},
   "source": [
    "<div class=\"alert alert-block alert-info\">\n",
    "<b>Vaja:</b> Use the Series.isnull() method to select all rows from f500 that have a null value for the previous_rank column. Select only the company, rank, and previous_rank columns. Assign the result to null_previous_rank.</div>"
   ]
  },
  {
   "cell_type": "code",
   "execution_count": null,
   "metadata": {},
   "outputs": [],
   "source": [
    "import numpy as np\n",
    "# predpripravljeno\n",
    "f500 = pd.read_csv(\"data/f500.csv\")\n",
    "\n",
    "# povsod kjer je previous_rank 0 -> nastavimo na nan (manjkajoci podatek)\n",
    "# lazje delati naprej\n",
    "f500.loc[f500[\"previous_rank\"] == 0, \"previous_rank\"] = np.nan\n"
   ]
  },
  {
   "cell_type": "code",
   "execution_count": null,
   "metadata": {},
   "outputs": [],
   "source": [
    "# isnull metoda išče nan (NULL) vrednosti\n",
    "f500.loc[f500[\"previous_rank\"].isnull(), [\"company\", \"rank\", \"previous_rank\"]]"
   ]
  },
  {
   "cell_type": "code",
   "execution_count": null,
   "metadata": {},
   "outputs": [],
   "source": []
  },
  {
   "cell_type": "code",
   "execution_count": null,
   "metadata": {},
   "outputs": [],
   "source": []
  },
  {
   "cell_type": "markdown",
   "metadata": {},
   "source": [
    "## Working with Integer Labels"
   ]
  },
  {
   "cell_type": "code",
   "execution_count": null,
   "metadata": {},
   "outputs": [],
   "source": []
  },
  {
   "cell_type": "code",
   "execution_count": null,
   "metadata": {},
   "outputs": [],
   "source": []
  },
  {
   "cell_type": "markdown",
   "metadata": {},
   "source": [
    "<p><img alt=\"loc vs iloc for rows in different order\" src=\"images/integer_labels_2.svg\"></p>"
   ]
  },
  {
   "cell_type": "markdown",
   "metadata": {},
   "source": [
    "<div class=\"alert alert-block alert-info\">\n",
    "<b>Vaja:</b> Assign the first five rows of the null_previous_rank dataframe to the variable top5_null_prev_rank by choosing the correct method out of either loc[] or iloc[].</div>"
   ]
  },
  {
   "cell_type": "code",
   "execution_count": null,
   "metadata": {},
   "outputs": [],
   "source": []
  },
  {
   "cell_type": "code",
   "execution_count": null,
   "metadata": {},
   "outputs": [],
   "source": []
  },
  {
   "cell_type": "code",
   "execution_count": null,
   "metadata": {},
   "outputs": [],
   "source": []
  },
  {
   "cell_type": "code",
   "execution_count": null,
   "metadata": {},
   "outputs": [],
   "source": []
  },
  {
   "cell_type": "markdown",
   "metadata": {},
   "source": [
    "## Pandas Index Alignment\n",
    "Matchanje indexov"
   ]
  },
  {
   "cell_type": "code",
   "execution_count": null,
   "metadata": {},
   "outputs": [],
   "source": [
    "previously_ranked = f500.loc[f500[\"previous_rank\"].notnull()]\n",
    "previously_ranked"
   ]
  },
  {
   "cell_type": "code",
   "execution_count": null,
   "metadata": {},
   "outputs": [],
   "source": [
    "previously_ranked.loc[498:500] # ta label index ostane ???"
   ]
  },
  {
   "cell_type": "code",
   "execution_count": null,
   "metadata": {},
   "outputs": [],
   "source": [
    "previously_ranked.iloc[498:500] # tega integer indexa ni vec ???"
   ]
  },
  {
   "cell_type": "code",
   "execution_count": null,
   "metadata": {},
   "outputs": [],
   "source": []
  },
  {
   "cell_type": "code",
   "execution_count": null,
   "metadata": {},
   "outputs": [],
   "source": [
    "food = pd.DataFrame({'fruit_veg': ['fruit', 'veg', 'fruit', 'veg', 'veg'], 'qty': [4, 2, 4, 1, 2]}, \n",
    "                    index=['tomato', 'carrot', 'lime', 'corn', 'eggplant'])\n",
    "food\n",
    "\n"
   ]
  },
  {
   "cell_type": "code",
   "execution_count": null,
   "metadata": {},
   "outputs": [],
   "source": [
    "# matcha po indexu\n",
    "alt_name = pd.Series(['rocket', 'aubergine', 'maize'], index=['arugula', 'eggplant', 'corn'])"
   ]
  },
  {
   "cell_type": "code",
   "execution_count": null,
   "metadata": {},
   "outputs": [],
   "source": [
    "food[\"alt_name\"] = alt_name\n",
    "food"
   ]
  },
  {
   "cell_type": "markdown",
   "metadata": {},
   "source": [
    "<div class=\"alert alert-block alert-info\">\n",
    "<b>Vaja:</b> Use the Series.notnull() method to select all rows from f500 that have a non-null value for the previous_rank column. Assign the result to previously_ranked.  From the previously_ranked dataframe, subtract the rank column from the previous_rank column. Assign the result to rank_change. Assign the values in the rank_change to a new column in the f500 dataframe, \"rank_change\".</div>"
   ]
  },
  {
   "cell_type": "code",
   "execution_count": null,
   "metadata": {},
   "outputs": [],
   "source": [
    "previously_ranked = f500.loc[f500[\"previous_rank\"].notnull()]"
   ]
  },
  {
   "cell_type": "code",
   "execution_count": null,
   "metadata": {},
   "outputs": [],
   "source": [
    "rank_change = previously_ranked[\"previous_rank\"] - previously_ranked[\"rank\"]\n",
    "rank_change"
   ]
  },
  {
   "cell_type": "code",
   "execution_count": null,
   "metadata": {},
   "outputs": [],
   "source": [
    "f500[\"rank_change\"] = rank_change\n",
    "f500.tail()"
   ]
  },
  {
   "cell_type": "markdown",
   "metadata": {},
   "source": [
    "## Boolean Operators"
   ]
  },
  {
   "cell_type": "markdown",
   "metadata": {},
   "source": [
    "<div>\n",
    "<table>\n",
    "<thead>\n",
    "<tr>\n",
    "<th>pandas</th>\n",
    "<th>Python equivalent</th>\n",
    "<th>Meaning</th>\n",
    "</tr>\n",
    "</thead>\n",
    "<tbody>\n",
    "<tr>\n",
    "<td><code>a &amp; b</code></td>\n",
    "<td><code>a and b</code></td>\n",
    "<td><code>True</code> if both <code>a</code> and <code>b</code> are <code>True</code>, else <code>False</code></td>\n",
    "</tr>\n",
    "<tr>\n",
    "<td><code>a | b</code></td>\n",
    "<td><code>a or b</code></td>\n",
    "<td><code>True</code> if either <code>a</code> or <code>b</code> is <code>True</code></td>\n",
    "</tr>\n",
    "<tr>\n",
    "<td><code>~a</code></td>\n",
    "<td><code>not a</code></td>\n",
    "<td><code>True</code> if <code>a</code> is <code>False</code>, else <code>False</code></td>\n",
    "</tr>\n",
    "</tbody>\n",
    "</table>\n",
    "\n",
    "<p><img alt=\"boolean operators example 1\" src=\"images/bool_ops_1.svg\"></p>\n",
    "\n",
    "<p><img alt=\"boolean operators example 2\" src=\"images/bool_ops_2.svg\"></p>\n",
    "\n",
    "<p><img alt=\"boolean operators example 3\" src=\"images/bool_ops_3.svg\"></p>\n",
    "\n",
    "<p><img alt=\"boolean operators example 4\" src=\"images/bool_ops_4.svg\"></p>\n",
    "\n",
    "</div>"
   ]
  },
  {
   "cell_type": "markdown",
   "metadata": {},
   "source": [
    "<div class=\"alert alert-block alert-info\">\n",
    "<b>Vaja:</b> Select all companies with revenues over 100 billion and negative profits from the f500 dataframe. The result should include all columns.</div>"
   ]
  },
  {
   "cell_type": "code",
   "execution_count": null,
   "metadata": {},
   "outputs": [],
   "source": [
    "f500[(f500[\"revenues\"] > 100_000) & (f500[\"profits\"] > 0)]"
   ]
  },
  {
   "cell_type": "markdown",
   "metadata": {},
   "source": [
    "<div class=\"alert alert-block alert-info\">\n",
    "<b>Vaja:</b> Select all rows for companies headquartered in either Brazil or Venezuela. Assign the result to brazil_venezuela.</div>"
   ]
  },
  {
   "cell_type": "code",
   "execution_count": null,
   "metadata": {},
   "outputs": [],
   "source": [
    "brazil_venezuela = f500[f500[\"country\"].isin([\"Brazil\", \"Venezuela\"])]\n",
    "brazil_venezuela"
   ]
  },
  {
   "cell_type": "markdown",
   "metadata": {},
   "source": [
    "<div class=\"alert alert-block alert-info\">\n",
    "<b>Vaja:</b> Select the first five companies in the Technology sector that are not headquartered in the USA from the f500 dataframe. Assign the result to tech_outside_usa.</div>"
   ]
  },
  {
   "cell_type": "code",
   "execution_count": null,
   "metadata": {},
   "outputs": [],
   "source": [
    "tech_outside_usa = f500[(f500[\"sector\"] == \"Technology\") & (f500[\"country\"] != 'USA')]\n",
    "tech_outside_usa.head(5)"
   ]
  },
  {
   "cell_type": "markdown",
   "metadata": {},
   "source": [
    "## Sorting Values"
   ]
  },
  {
   "cell_type": "code",
   "execution_count": null,
   "metadata": {},
   "outputs": [],
   "source": [
    "china_rows = f500[f500[\"country\"] == \"China\"]\n",
    "china_rows.sort_values(\"employees\", ascending=False).head(5)"
   ]
  },
  {
   "cell_type": "markdown",
   "metadata": {},
   "source": [
    "<div class=\"alert alert-block alert-info\">\n",
    "<b>Vaja:</b> Find the company headquartered in Japan with the largest number of employees.</div>"
   ]
  },
  {
   "cell_type": "markdown",
   "metadata": {},
   "source": [
    "### ce sortiras -> lahko vedno iloc[0] uporabiš -> ni vezan na label indexing ampak enako kot python list"
   ]
  },
  {
   "cell_type": "code",
   "execution_count": null,
   "metadata": {},
   "outputs": [],
   "source": [
    "f500[f500[\"country\"] == \"Japan\"].sort_values(\"employees\", ascending=False).iloc[0][\"company\"] # ce sortiras -> lahko vedno iloc[0] uporabiš -> ni vezan na label indexing ampak enako kot python list"
   ]
  },
  {
   "cell_type": "markdown",
   "metadata": {},
   "source": [
    "## Using Loops with pandas"
   ]
  },
  {
   "cell_type": "code",
   "execution_count": null,
   "metadata": {},
   "outputs": [],
   "source": [
    "avg_rev_by_country = {}\n",
    "\n",
    "countries = f500[\"country\"].unique() # unikatne vrednosti\n",
    "countries"
   ]
  },
  {
   "cell_type": "code",
   "execution_count": null,
   "metadata": {},
   "outputs": [],
   "source": [
    "for c in countries:\n",
    "    selected_rows = f500[f500[\"country\"] == c]\n",
    "    mean = selected_rows[\"revenues\"].mean()\n",
    "    avg_rev_by_country[c] = mean"
   ]
  },
  {
   "cell_type": "code",
   "execution_count": null,
   "metadata": {},
   "outputs": [],
   "source": [
    "avg_rev_by_country"
   ]
  },
  {
   "cell_type": "markdown",
   "metadata": {},
   "source": [
    "<div class=\"alert alert-block alert-info\">\n",
    "<b>Vaja:</b> Calculate the company that employs the most people in each country</div>"
   ]
  },
  {
   "cell_type": "code",
   "execution_count": null,
   "metadata": {},
   "outputs": [],
   "source": [
    "top_employer_by_country = {}\n",
    "\n",
    "countries = f500[\"country\"].unique()\n",
    "for c in countries:\n",
    "    selected_rows = f500[f500[\"country\"] == c]\n",
    "    sorted_rows = selected_rows.sort_values(\"employees\", ascending=False)\n",
    "    top_employer = sorted_rows.iloc[0]\n",
    "    employer_name = top_employer[\"company\"]\n",
    "    top_employer_by_country[c] = employer_name"
   ]
  },
  {
   "cell_type": "code",
   "execution_count": null,
   "metadata": {},
   "outputs": [],
   "source": [
    "top_employer_by_country"
   ]
  },
  {
   "cell_type": "markdown",
   "metadata": {},
   "source": [
    "## Primer: Calculating Return on Assets by Country\n",
    "<b> SettingWithCopyWarning in Pandas </b> "
   ]
  },
  {
   "cell_type": "markdown",
   "metadata": {},
   "source": [
    "    return on assets = profit/assets"
   ]
  },
  {
   "cell_type": "markdown",
   "metadata": {},
   "source": [
    "<div class=\"alert alert-block alert-info\">\n",
    "<b>Vaja:</b> Create a new column roa in the f500 dataframe, containing the return on assets metric for each company.</div>"
   ]
  },
  {
   "cell_type": "code",
   "execution_count": null,
   "metadata": {},
   "outputs": [],
   "source": []
  },
  {
   "cell_type": "code",
   "execution_count": null,
   "metadata": {},
   "outputs": [],
   "source": []
  },
  {
   "cell_type": "code",
   "execution_count": null,
   "metadata": {},
   "outputs": [],
   "source": []
  },
  {
   "cell_type": "markdown",
   "metadata": {},
   "source": [
    "<div class=\"alert alert-block alert-info\">\n",
    "<b>Vaja:</b> Aggregate the data by the sector column, and create a dictionary top_roa_by_sector.</div>"
   ]
  },
  {
   "cell_type": "code",
   "execution_count": null,
   "metadata": {},
   "outputs": [],
   "source": []
  },
  {
   "cell_type": "code",
   "execution_count": null,
   "metadata": {},
   "outputs": [],
   "source": []
  },
  {
   "cell_type": "code",
   "execution_count": null,
   "metadata": {},
   "outputs": [],
   "source": []
  },
  {
   "cell_type": "markdown",
   "metadata": {},
   "source": [
    "## Understanding SettingwithCopyWarning in pandas\n"
   ]
  },
  {
   "cell_type": "code",
   "execution_count": null,
   "metadata": {},
   "outputs": [],
   "source": []
  },
  {
   "cell_type": "code",
   "execution_count": null,
   "metadata": {},
   "outputs": [],
   "source": []
  },
  {
   "cell_type": "code",
   "execution_count": null,
   "metadata": {},
   "outputs": [],
   "source": []
  },
  {
   "cell_type": "markdown",
   "metadata": {},
   "source": [
    "### What is SettingWithCopyWarning?\n",
    "\n",
    "\n",
    "\n",
    "<img class=\"full-width\" src=\"https://www.dataquest.io/wp-content/uploads/2019/01/view-vs-copy.png\" alt=\"view-vs-copy\">\n",
    "\n",
    "\n",
    "\n",
    "<img class=\"full-width\" src=\"https://www.dataquest.io/wp-content/uploads/2019/01/modifying.png\" alt=\"modifying\">\n"
   ]
  },
  {
   "cell_type": "markdown",
   "metadata": {},
   "source": [
    "### Chained assignment\n",
    "\n",
    "\n"
   ]
  },
  {
   "cell_type": "code",
   "execution_count": null,
   "metadata": {},
   "outputs": [],
   "source": [
    "f500[f500[\"sector\"] == \"Energy\"][\"sector\"] = \"Oil\"\n",
    "# ustvari se kopija, nismo sigurno da dalje spreminjamo na kopiji ali viewu?? Zato se prikaže warning!"
   ]
  },
  {
   "cell_type": "code",
   "execution_count": null,
   "metadata": {},
   "outputs": [],
   "source": [
    "# Sedaj vidimo, da se v originalnem df podatek ni spremenil\n",
    "f500.head()"
   ]
  },
  {
   "cell_type": "code",
   "execution_count": null,
   "metadata": {},
   "outputs": [],
   "source": [
    "# Uporabiti moramo .loc metodo, ko prirejamo nove vrednosti !!!\n",
    "f500.loc[f500[\"sector\"] == \"Energy\",\"sector\"] = \"Oil\""
   ]
  },
  {
   "cell_type": "code",
   "execution_count": null,
   "metadata": {},
   "outputs": [],
   "source": [
    "f500"
   ]
  },
  {
   "cell_type": "markdown",
   "metadata": {},
   "source": [
    "### Hidden chaining\n",
    "\n"
   ]
  },
  {
   "cell_type": "code",
   "execution_count": null,
   "metadata": {},
   "outputs": [],
   "source": [
    "???"
   ]
  },
  {
   "cell_type": "code",
   "execution_count": null,
   "metadata": {},
   "outputs": [],
   "source": [
    "???"
   ]
  },
  {
   "cell_type": "markdown",
   "metadata": {},
   "source": [
    "### Tips and tricks for dealing with SettingWithCopyWarning"
   ]
  },
  {
   "cell_type": "code",
   "execution_count": null,
   "metadata": {},
   "outputs": [],
   "source": []
  },
  {
   "cell_type": "code",
   "execution_count": null,
   "metadata": {},
   "outputs": [],
   "source": []
  },
  {
   "cell_type": "code",
   "execution_count": null,
   "metadata": {},
   "outputs": [],
   "source": []
  },
  {
   "cell_type": "markdown",
   "metadata": {},
   "source": [
    "### Chained assignment in Depth"
   ]
  },
  {
   "cell_type": "code",
   "execution_count": null,
   "metadata": {},
   "outputs": [],
   "source": [
    "df1 = pd.DataFrame(np.arange(6).reshape((3,2)), columns=list('AB'))\n",
    "df1"
   ]
  },
  {
   "cell_type": "code",
   "execution_count": null,
   "metadata": {},
   "outputs": [],
   "source": [
    "df2 = df1.loc[:1]"
   ]
  },
  {
   "cell_type": "code",
   "execution_count": null,
   "metadata": {},
   "outputs": [],
   "source": [
    "id(df1)"
   ]
  },
  {
   "cell_type": "code",
   "execution_count": null,
   "metadata": {},
   "outputs": [],
   "source": [
    "id(df2)"
   ]
  },
  {
   "cell_type": "code",
   "execution_count": null,
   "metadata": {},
   "outputs": [],
   "source": [
    "a = df2\n",
    "id(a)"
   ]
  },
  {
   "cell_type": "code",
   "execution_count": null,
   "metadata": {},
   "outputs": [],
   "source": [
    "a.loc[0,\"A\"] = 10"
   ]
  }
 ],
 "metadata": {
  "celltoolbar": "Raw Cell Format",
  "kernelspec": {
   "display_name": "Python 3 (ipykernel)",
   "language": "python",
   "name": "python3"
  },
  "language_info": {
   "codemirror_mode": {
    "name": "ipython",
    "version": 3
   },
   "file_extension": ".py",
   "mimetype": "text/x-python",
   "name": "python",
   "nbconvert_exporter": "python",
   "pygments_lexer": "ipython3",
   "version": "3.8.10"
  },
  "vscode": {
   "interpreter": {
    "hash": "239d66d44065eb5d6d6ecaa9a9cd74ba9306d9309d09ccd3465c7107214c4ac2"
   }
  }
 },
 "nbformat": 4,
 "nbformat_minor": 2
}
