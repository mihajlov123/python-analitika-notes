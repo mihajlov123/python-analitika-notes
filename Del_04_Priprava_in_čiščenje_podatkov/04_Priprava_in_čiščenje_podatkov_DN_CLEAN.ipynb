{
 "cells": [
  {
   "cell_type": "markdown",
   "metadata": {},
   "source": [
    "# DN - priprava in čiščenje podatkov"
   ]
  },
  {
   "cell_type": "markdown",
   "metadata": {},
   "source": [
    "Skozi domačo nalogo bomo uporabljali dataset oglasov rabljenih avtomobilov pridobljenih iz nemškega *eBay Kleinanzeigen*.\n",
    "\n",
    "Podatki so razvrščeni v sledeče stolpce:\n",
    "* *dateCrawled* - When this ad was first crawled. All field-values are taken from this date.\n",
    "* *name* - Name of the car.\n",
    "* *seller* - Whether the seller is private or a dealer.\n",
    "* *offerType* - The type of listing\n",
    "* *price* - The price on the ad to sell the car.\n",
    "* *abtest* - Whether the listing is included in an A/B test.\n",
    "* *vehicleType* - The vehicle Type.\n",
    "* *yearOfRegistration* - The year in which the car was first registered.\n",
    "* *gearbox* - The transmission type.\n",
    "* *powerPS* - The power of the car in PS.\n",
    "* *model* - The car model name.\n",
    "* *kilometer* - How many kilometers the car has driven.\n",
    "* *monthOfRegistration* - The month in which the car was first registered.\n",
    "* *fuelType* - What type of fuel the car uses.\n",
    "* *brand* - The brand of the car.\n",
    "* *notRepairedDamage* - If the car has a damage which is not yet repaired.\n",
    "* *dateCreated* - The date on which the eBay listing was created.\n",
    "* *nrOfPictures* - The number of pictures in the ad.\n",
    "* *postalCode* - The postal code for the location of the vehicle.\n",
    "* *lastSeenOnline* - When the crawler saw this ad last online.\n",
    "\n",
    "Tekom domače naloge bomo podatke očistili ter opravili neko osnovno analizo."
   ]
  },
  {
   "cell_type": "code",
   "execution_count": 2,
   "metadata": {},
   "outputs": [],
   "source": [
    "import pandas as pd\n",
    "import numpy as np\n",
    "\n",
    "autos = pd.read_csv('data/autos.csv', encoding='Latin-1')"
   ]
  },
  {
   "cell_type": "markdown",
   "metadata": {},
   "source": [
    "<div class=\"alert alert-block alert-info\">\n",
    "<b>Vaja: </b> Uporabite .info() metodo za izpis osnovnih informacij o našem dataframe-u.\n",
    "</div>"
   ]
  },
  {
   "cell_type": "code",
   "execution_count": 3,
   "metadata": {},
   "outputs": [],
   "source": [
    "# Rešitev\n"
   ]
  },
  {
   "cell_type": "markdown",
   "metadata": {},
   "source": [
    "<div class=\"alert alert-block alert-info\">\n",
    "<b>Vaja: </b>Izpišite prvih 5 vrstic dataframe-a.\n",
    "</div>"
   ]
  },
  {
   "cell_type": "code",
   "execution_count": 4,
   "metadata": {},
   "outputs": [],
   "source": [
    "# Rešitev\n"
   ]
  },
  {
   "cell_type": "markdown",
   "metadata": {},
   "source": [
    "Iz zgornjih vrstic lahko vidimo, da:\n",
    "* Dataset ima 20 stolpcev, večina katerih je tipa string\n",
    "* Nekaj stolpcev ima null vrednosti"
   ]
  },
  {
   "cell_type": "markdown",
   "metadata": {},
   "source": [
    "Za začetek bomo poiskali stolpce v katerih je večina vrednosti istih, ker taki stolpci za analizo ponavadi niso koristni."
   ]
  },
  {
   "cell_type": "markdown",
   "metadata": {},
   "source": [
    "<div class=\"alert alert-block alert-info\">\n",
    "<b>Vaja: </b>Uporabite metodo .describe() in izpišite osnovne statistike vseh 20 stolpcev\n",
    "</div>"
   ]
  },
  {
   "cell_type": "code",
   "execution_count": 5,
   "metadata": {},
   "outputs": [],
   "source": [
    "# Rešitev\n"
   ]
  },
  {
   "cell_type": "markdown",
   "metadata": {},
   "source": [
    "Opazimo naslednje stvari:\n",
    "* stolpca *seller* in *offerType* imata skoraj vse vrednosti enake. Ta dva stolpca bomo odstranili\n",
    "* vse vrednosti stolpca *nrOfPictures* so null. Stolpec bomo odstranilI\n",
    "* *price* stolpec ima vrednosti v obliki string. To bomo spremenili v številčno vrednost\n",
    "* *odometer* stolpec ima vrednosti v obliki string. To bomo spremenili v številčno vrednost"
   ]
  },
  {
   "cell_type": "markdown",
   "metadata": {},
   "source": [
    "<div class=\"alert alert-block alert-info\">\n",
    "<b>Vaja: </b>Odstranite stolpce seller, offerType in nrOfPictuers.\n",
    "</div>"
   ]
  },
  {
   "cell_type": "code",
   "execution_count": 6,
   "metadata": {},
   "outputs": [],
   "source": [
    "# Rešitev\n"
   ]
  },
  {
   "cell_type": "markdown",
   "metadata": {},
   "source": [
    "<div class=\"alert alert-block alert-info\">\n",
    "<b>Vaja: </b>Vrednosti v stolpcu price so tipa string. Odstranite nepotrebne znake ($) ter vrednosti pretvorite v tip integer.\n",
    "</div>"
   ]
  },
  {
   "cell_type": "code",
   "execution_count": 7,
   "metadata": {},
   "outputs": [],
   "source": [
    "# Rešitev\n"
   ]
  },
  {
   "cell_type": "markdown",
   "metadata": {},
   "source": [
    "<div class=\"alert alert-block alert-info\">\n",
    "<b>Vaja: </b>Vrednosti v stolpcu odometer prav tako pretvorite v integer vrednosti.\n",
    "</div>"
   ]
  },
  {
   "cell_type": "code",
   "execution_count": 8,
   "metadata": {},
   "outputs": [],
   "source": [
    "# Rešitev\n"
   ]
  },
  {
   "cell_type": "markdown",
   "metadata": {},
   "source": [
    "Sedaj si bomo pogledali stolpca *price* in *odometer* bolj podrobno."
   ]
  },
  {
   "cell_type": "markdown",
   "metadata": {},
   "source": [
    "<div class=\"alert alert-block alert-info\">\n",
    "<b>Vaja: </b>Izpišite maximalno in minimalno vrednost stolpca price ter kolikokrat se te dve vrednosti pojavita.\n",
    "</div>"
   ]
  },
  {
   "cell_type": "code",
   "execution_count": 9,
   "metadata": {},
   "outputs": [],
   "source": [
    "# Rešitev\n"
   ]
  },
  {
   "cell_type": "markdown",
   "metadata": {},
   "source": [
    "<div class=\"alert alert-block alert-info\">\n",
    "<b>Vaja: </b>Obdržite vrstice kjer je vrednost price stolpca med vključno 1 in 351000.\n",
    "</div>"
   ]
  },
  {
   "cell_type": "code",
   "execution_count": 10,
   "metadata": {},
   "outputs": [],
   "source": [
    "# Rešitev\n"
   ]
  },
  {
   "cell_type": "markdown",
   "metadata": {},
   "source": [
    "Poglejmo si sedaj stolpec *yearOfRegistration*."
   ]
  },
  {
   "cell_type": "markdown",
   "metadata": {},
   "source": [
    "<div class=\"alert alert-block alert-info\">\n",
    "<b>Vaja: </b>Poiščite max in min vrednost stolpca yearOfRegistration.\n",
    "</div>"
   ]
  },
  {
   "cell_type": "code",
   "execution_count": 11,
   "metadata": {},
   "outputs": [],
   "source": [
    "# Rešitev\n"
   ]
  },
  {
   "cell_type": "markdown",
   "metadata": {},
   "source": [
    "Opazimo, da je minimalna vrednost 1000 (daleč predno so iznašli prvi avto), in maximalna vrednost 9999 (daleč v prihodnosti).\n",
    "\n",
    "Ker avto ne more biti prvič registriran šele potem, ko je objavljen oglas, so vse letnice nad 2016 nepravilne.\n",
    "\n",
    "Težje je določiti začetno veljavno leto. Realistično je to lahko nekje v prvih desetletjih 1900. "
   ]
  },
  {
   "cell_type": "markdown",
   "metadata": {},
   "source": [
    "<div class=\"alert alert-block alert-info\">\n",
    "<b>Vaja: </b>Obdržite vrstice, kjer se vrednost stolpca yearOfRegistration nahaja znotraj območja 1900 - 2016.\n",
    "</div>"
   ]
  },
  {
   "cell_type": "code",
   "execution_count": 12,
   "metadata": {},
   "outputs": [],
   "source": [
    "# Rešitev\n"
   ]
  },
  {
   "cell_type": "markdown",
   "metadata": {},
   "source": [
    "Sedaj si bomo pogledali stolpca *price* in *brand*."
   ]
  },
  {
   "cell_type": "markdown",
   "metadata": {},
   "source": [
    "<div class=\"alert alert-block alert-info\">\n",
    "<b>Vaja: </b>Izpišite katere vrednosti se nahajajo v stolpcu brand in kolikokrat se vsaka vrednost pojavi (v %).\n",
    "</div>"
   ]
  },
  {
   "cell_type": "code",
   "execution_count": 13,
   "metadata": {},
   "outputs": [],
   "source": [
    "# Rešitev\n"
   ]
  },
  {
   "cell_type": "markdown",
   "metadata": {},
   "source": [
    "Opazimo, da nemški proizvajalci predstavljajo štiri od pvih 5 blagovnih znamk. Vidimo, da skupaj predstavljajo več kot 50% vseh oglasov. Volkswagen je najbolj priljubljena znamka, s približno dvakrat večjim številom, kot naslednja znamka."
   ]
  },
  {
   "cell_type": "markdown",
   "metadata": {},
   "source": [
    "V nalogi se bomo osredotočili na znamke, ki predstavljajo več kot 5% oglasov."
   ]
  },
  {
   "cell_type": "markdown",
   "metadata": {},
   "source": [
    "<div class=\"alert alert-block alert-info\">\n",
    "<b>Vaja: </b>Obdržite vse znamke, ki se pojavijo več kot 5%.\n",
    "</div>"
   ]
  },
  {
   "cell_type": "code",
   "execution_count": 14,
   "metadata": {},
   "outputs": [],
   "source": [
    "# Rešitev\n"
   ]
  },
  {
   "cell_type": "markdown",
   "metadata": {},
   "source": [
    "<div class=\"alert alert-block alert-info\">\n",
    "<b>Vaja: </b>Ustvarite nov dictionary in vanj shranite povprečno ceno za vsako znamko.\n",
    "    \n",
    "    \"znamka\": povprečna_cena,\n",
    "    \"znamka\": povprečna_cena,\n",
    "    \"znamka\": povprečna_cena,\n",
    "    \n",
    "</div>"
   ]
  },
  {
   "cell_type": "code",
   "execution_count": 15,
   "metadata": {},
   "outputs": [],
   "source": [
    "# Rešitev\n"
   ]
  },
  {
   "cell_type": "markdown",
   "metadata": {},
   "source": [
    "Vidimo, da je izrazit razkorak v cenah:\n",
    "* Audi, BMW in Marcedes Benz so dražje znamke\n",
    "* For in Opel sta cenejši\n",
    "* Volkswagen je nekje vmes"
   ]
  },
  {
   "cell_type": "markdown",
   "metadata": {},
   "source": [
    "<div class=\"alert alert-block alert-info\">\n",
    "<b>Vaja: </b>Iz zgornjega dictionary ustvarite nov pandas dataframe, kjer je ime znamke index vrstice in povprečna cena stolpec.\n",
    "</div>"
   ]
  },
  {
   "cell_type": "code",
   "execution_count": 16,
   "metadata": {},
   "outputs": [],
   "source": [
    "# Rešitev\n"
   ]
  },
  {
   "cell_type": "code",
   "execution_count": null,
   "metadata": {},
   "outputs": [],
   "source": []
  }
 ],
 "metadata": {
  "kernelspec": {
   "display_name": "Python 3",
   "language": "python",
   "name": "python3"
  },
  "language_info": {
   "codemirror_mode": {
    "name": "ipython",
    "version": 3
   },
   "file_extension": ".py",
   "mimetype": "text/x-python",
   "name": "python",
   "nbconvert_exporter": "python",
   "pygments_lexer": "ipython3",
   "version": "3.7.3"
  },
  "toc": {
   "base_numbering": 1,
   "nav_menu": {},
   "number_sections": true,
   "sideBar": true,
   "skip_h1_title": false,
   "title_cell": "Table of Contents",
   "title_sidebar": "Contents",
   "toc_cell": false,
   "toc_position": {},
   "toc_section_display": true,
   "toc_window_display": false
  }
 },
 "nbformat": 4,
 "nbformat_minor": 2
}
