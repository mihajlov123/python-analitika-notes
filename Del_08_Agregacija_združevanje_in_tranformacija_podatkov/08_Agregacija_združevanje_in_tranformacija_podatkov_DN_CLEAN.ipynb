{
 "cells": [
  {
   "cell_type": "markdown",
   "metadata": {},
   "source": [
    "# Domača naloga - del 8"
   ]
  },
  {
   "cell_type": "code",
   "execution_count": 3,
   "metadata": {},
   "outputs": [],
   "source": [
    "import pandas as pd\n",
    "import numpy as np\n",
    "import matplotlib.pyplot as plt"
   ]
  },
  {
   "cell_type": "markdown",
   "metadata": {},
   "source": [
    "## Naloga 1\n",
    "\n",
    "Nariši sliko (plot), kjer prikažete kolikšno oceno imajo osebe, ki obiskujejo študij \"FE\". Podatke prikažite s pokončnim bločnim grafom, kjer je vsak naslovljen z imenom osebe.\n",
    "\n",
    "Podatki so na voljo v datoteki `students.json`."
   ]
  },
  {
   "cell_type": "code",
   "execution_count": 1,
   "metadata": {},
   "outputs": [],
   "source": [
    "# rešitev\n",
    "\n"
   ]
  },
  {
   "cell_type": "markdown",
   "metadata": {},
   "source": [
    "## Naloga 2\n",
    "\n",
    "Z vodoravnim bločnim grafom prikažite za vsako šolo, kolikšno je povprečna ocena njihovih študentov.\n",
    "\n",
    "Če boste potrebovali: Za pretvorbo python dictionary-a v DataFrame lahko uporabite funkcijo `pd.DataFrame.from_dict(...)`"
   ]
  },
  {
   "cell_type": "code",
   "execution_count": 2,
   "metadata": {},
   "outputs": [],
   "source": [
    "# rešitev \n",
    "\n"
   ]
  },
  {
   "cell_type": "markdown",
   "metadata": {},
   "source": [
    "## Naloga 3\n",
    "\n",
    "Z uporabo agg() funkcije prikažite v DataFramu najboljšo oceno, najslabšo oceno in njuno zaliko na vsaki fakulteti posebaj."
   ]
  },
  {
   "cell_type": "code",
   "execution_count": 3,
   "metadata": {},
   "outputs": [],
   "source": [
    "# rešitev\n",
    "\n",
    "\n"
   ]
  },
  {
   "cell_type": "markdown",
   "metadata": {},
   "source": [
    "## Naloga 4\n",
    "\n",
    "Brez uporaba zanke, preveri, ali imajo vse osebo oceno nad 6.5"
   ]
  },
  {
   "cell_type": "code",
   "execution_count": 5,
   "metadata": {},
   "outputs": [],
   "source": [
    "# rešitev\n",
    "\n"
   ]
  },
  {
   "cell_type": "markdown",
   "metadata": {},
   "source": [
    "## Naloga 5\n",
    "\n",
    "Z uporabo funkcije pd.merge(...) združite in izpišite DataFrame, ki vsaki osebi v (students.json) doda še en stolpec, ki bo predstavljal ocene prejšnjega leta (students_last_year.json).\n",
    "\n",
    "Vse osebe so vsebovane v obeh dokumentih.\n",
    "\n",
    "> namig: poglejte definicijo argumenta \"on\" v funkciji pd.merge()"
   ]
  },
  {
   "cell_type": "code",
   "execution_count": 6,
   "metadata": {},
   "outputs": [],
   "source": [
    "# rešitev\n",
    "\n",
    "\n"
   ]
  },
  {
   "cell_type": "markdown",
   "metadata": {},
   "source": [
    "## Naloga 6\n",
    "\n",
    "Za DataFrame iz datoteke `students.json`, stolpec \"povprečna ocena\" spremenite vrednosti v \"pod povprečjem\", \"povprečje\" oziroma \"nad povprečjem\"."
   ]
  },
  {
   "cell_type": "code",
   "execution_count": 7,
   "metadata": {},
   "outputs": [],
   "source": [
    "# rešitev\n",
    "\n"
   ]
  }
 ],
 "metadata": {
  "interpreter": {
   "hash": "eeac7471a3648b56046e1eb5982b987c96d515b40323ec1f15cc6f8de311052b"
  },
  "kernelspec": {
   "display_name": "Python 3 (ipykernel)",
   "language": "python",
   "name": "python3"
  },
  "language_info": {
   "codemirror_mode": {
    "name": "ipython",
    "version": 3
   },
   "file_extension": ".py",
   "mimetype": "text/x-python",
   "name": "python",
   "nbconvert_exporter": "python",
   "pygments_lexer": "ipython3",
   "version": "3.8.10"
  }
 },
 "nbformat": 4,
 "nbformat_minor": 2
}
