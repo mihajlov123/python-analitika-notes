{
 "cells": [
  {
   "cell_type": "markdown",
   "metadata": {},
   "source": [
    "# Praktični izpit tečaja Analitika podatkov v Python-u"
   ]
  },
  {
   "cell_type": "markdown",
   "metadata": {},
   "source": [
    "Čas reševanja: `240 min`\n",
    "\n",
    "Skupaj točk: `100`. Za uspešno opravljen izpit potrebujete 70 točk."
   ]
  },
  {
   "cell_type": "markdown",
   "metadata": {
    "collapsed": true
   },
   "source": [
    "Odgovore na vprašanja vnesite v celice z komentarjem `# Odgovor`\n",
    "\n",
    "Za vsa vprašanja smo na voljo.\n",
    "\n",
    "Lahko si pomagate z uporabo gradiv in internetom. Ne pozabite na uradno dokumentacijo.\n",
    "\n",
    "Srečno!!"
   ]
  },
  {
   "cell_type": "markdown",
   "metadata": {},
   "source": [
    "**Pred začetkom izpita zaženite spodnjo celico:**\n",
    "    \n",
    "    "
   ]
  },
  {
   "cell_type": "code",
   "execution_count": null,
   "metadata": {},
   "outputs": [],
   "source": [
    "import pandas as pd\n",
    "import numpy as np\n",
    "\n",
    "%matplotlib inline\n",
    "import matplotlib.pyplot as plt\n",
    "import seaborn as sns"
   ]
  },
  {
   "cell_type": "markdown",
   "metadata": {},
   "source": [
    "## DEL 1 - Priprava (50 pts)"
   ]
  },
  {
   "cell_type": "markdown",
   "metadata": {},
   "source": [
    "### 1.1) Uvoz podatkov \n",
    "\n",
    "`3 pts`"
   ]
  },
  {
   "cell_type": "markdown",
   "metadata": {},
   "source": [
    "Pridobili smo podatke o posojilih. Datoteka se imenuje `DATA_loans_RAW.txt`. \n",
    "\n",
    "V spodnji spremenljivki `path_raw` je shranjena pot do datoteke. Naložite podatke v pandas dataframe, da jih lako uporabimo za nadaljno obdelavo. Pri nalaganju podatkov pazite na naslednje:\n",
    "- s pregledom datoteke ugotovite v katerem formatu so podatki\n",
    "- zaradi velike datoteke nastavite opcijo, ki omogoča pravilno branje pri velikih datotekah\n",
    "- pazite na pravilen separator"
   ]
  },
  {
   "cell_type": "code",
   "execution_count": null,
   "metadata": {},
   "outputs": [],
   "source": [
    "path_raw = 'data/DATA_loans_RAW.txt'"
   ]
  },
  {
   "cell_type": "code",
   "execution_count": null,
   "metadata": {},
   "outputs": [],
   "source": [
    "# Odgovor\n",
    "loans = pd.read_csv(path_raw,sep=',', low_memory=False)\n",
    "loans"
   ]
  },
  {
   "cell_type": "code",
   "execution_count": null,
   "metadata": {},
   "outputs": [],
   "source": [
    "# spremenljivko 'loans_raw' v nadaljevanju uporabljamo zgolj za kontrolo\n",
    "loans_raw = pd.read_csv(path_raw,sep=',', low_memory=False)"
   ]
  },
  {
   "cell_type": "markdown",
   "metadata": {},
   "source": [
    "### 1.2) Prikaz osnovnih lastnosti podatkov"
   ]
  },
  {
   "cell_type": "markdown",
   "metadata": {},
   "source": [
    "#### 1.2.1) Prikažite obliko uvoženega dataframe-a (število vrstic, število stolpcev)\n",
    "\n",
    "`1 pts`"
   ]
  },
  {
   "cell_type": "code",
   "execution_count": null,
   "metadata": {},
   "outputs": [],
   "source": [
    "# Odgovor\n",
    "loans.shape"
   ]
  },
  {
   "cell_type": "markdown",
   "metadata": {},
   "source": [
    "#### 1.2.2) Prikažite tipe spremenljivk za vsak stolpec uvoženega dataframe-a\n",
    "\n",
    "`1 pts`"
   ]
  },
  {
   "cell_type": "code",
   "execution_count": null,
   "metadata": {},
   "outputs": [],
   "source": [
    "# Odgovor\n",
    "loans.dtypes\n"
   ]
  },
  {
   "cell_type": "markdown",
   "metadata": {},
   "source": [
    "#### 1.2.3) Prikažite prvih 7 vrstic uvoženega dataframe-a\n",
    "\n",
    "`1 pts`"
   ]
  },
  {
   "cell_type": "code",
   "execution_count": null,
   "metadata": {},
   "outputs": [],
   "source": [
    "# Odgovor\n",
    "loans.head(7)"
   ]
  },
  {
   "cell_type": "markdown",
   "metadata": {},
   "source": [
    "#### 1.2.4) Prikažite zadnjih 6 vrstic uvoženega dataframe-a\n",
    "\n",
    "`1 pts`"
   ]
  },
  {
   "cell_type": "code",
   "execution_count": null,
   "metadata": {},
   "outputs": [],
   "source": [
    "# Odgovor\n",
    "loans.tail(6)"
   ]
  },
  {
   "cell_type": "markdown",
   "metadata": {},
   "source": [
    "Vidimo, da sta zadnji dve vrstici nepotrebni. Odstranili jih bomo v nadaljevanju."
   ]
  },
  {
   "attachments": {},
   "cell_type": "markdown",
   "metadata": {},
   "source": [
    "#### 1.2.5) Prikažite informacije (lastnosti vseh stolpcev, podatkovni tipi, pomnilnik...) uvoženega dataframe-a z uporabo ene metode\n",
    "\n",
    "`1 pts`"
   ]
  },
  {
   "cell_type": "code",
   "execution_count": null,
   "metadata": {},
   "outputs": [],
   "source": [
    "# Odgovor\n",
    "loans.describe(include='all')\n",
    "loans.info()\n"
   ]
  },
  {
   "cell_type": "markdown",
   "metadata": {},
   "source": [
    "#### 1.2.6) Prikažite realno porabo pomnilnika v MB (tudi porabo teksta v numpy objektih)\n",
    "\n",
    "`1 pts`"
   ]
  },
  {
   "cell_type": "code",
   "execution_count": null,
   "metadata": {},
   "outputs": [],
   "source": [
    "# Odgovor\n",
    "loans.info(memory_usage='deep')"
   ]
  },
  {
   "cell_type": "markdown",
   "metadata": {},
   "source": [
    "### 1.3) Priprava podatkov za obdelavo\n",
    "\n",
    "Pred analizo podatkov moramo naše podatke urediti in pripraviti."
   ]
  },
  {
   "attachments": {},
   "cell_type": "markdown",
   "metadata": {},
   "source": [
    "#### 1.3.1) Odstranjevanje nepotrebnih vrstic\n",
    "\n",
    "`2 pts`"
   ]
  },
  {
   "cell_type": "markdown",
   "metadata": {},
   "source": [
    "Odstranite zadnji dve vrstici, ki vsebujeta nepotrebne podatke. Operacijo opravite na mestu (inplace)."
   ]
  },
  {
   "cell_type": "code",
   "execution_count": null,
   "metadata": {},
   "outputs": [],
   "source": [
    "# Odgovor\n",
    "loans.drop(loans.tail(2).index, inplace=True)"
   ]
  },
  {
   "cell_type": "code",
   "execution_count": null,
   "metadata": {},
   "outputs": [],
   "source": [
    "# check tail and shape\n",
    "# loans.tail(6)\n",
    "# loans.shape"
   ]
  },
  {
   "cell_type": "markdown",
   "metadata": {},
   "source": [
    "#### 1.3.2) Odstrnjevanje nepotrebnih stolpcev\n",
    "\n",
    "Odstranite nepotrebne stolpce iz naših podatkov. Imena nepotrebnih stolpcev so shanjena v spodnji spremenljivki `to_drop`.\n",
    "\n",
    "Operacijo opravite na mestu (inplace).\n",
    "\n",
    "`2 pts`"
   ]
  },
  {
   "cell_type": "code",
   "execution_count": null,
   "metadata": {},
   "outputs": [],
   "source": [
    "to_drop = ['acc_now_delinq', 'chargeoff_within_12_mths', 'delinq_amnt', 'pub_rec_bankruptcies', 'tax_liens', \n",
    "           \"collections_12_mths_ex_med\", \"total_rec_late_fee\", \"collection_recovery_fee\", 'last_credit_pull_d',\n",
    "           'policy_code', 'total_pymnt_inv', 'total_rec_prncp', 'total_rec_int', \"funded_amnt_inv\", \"installment\",\n",
    "          \"sub_grade\", \"revol_util\", \"total_acc\", \"member_id\", \"emp_title\",'delinq_2yrs', 'earliest_cr_line', \n",
    "           'inq_last_6mths','pub_rec', 'revol_bal', 'initial_list_status', 'out_prncp', 'out_prncp_inv',\n",
    "          'recoveries', 'last_pymnt_amnt', 'zip_code', 'addr_state', 'dti', \"pymnt_plan\",\n",
    "          \"open_acc\", \"title\"]"
   ]
  },
  {
   "cell_type": "code",
   "execution_count": null,
   "metadata": {},
   "outputs": [],
   "source": [
    "# Odgovor\n",
    "loans.drop(columns=to_drop, inplace=True)\n"
   ]
  },
  {
   "cell_type": "code",
   "execution_count": null,
   "metadata": {},
   "outputs": [],
   "source": [
    "# check\n",
    "# loans.shape[1] + len(to_drop) == loans_raw.shape[1]"
   ]
  },
  {
   "cell_type": "markdown",
   "metadata": {},
   "source": [
    "#### 1.3.3) Preimenovanje imen stolpcev\n",
    "\n",
    "Preimenujte stolpce, da bo delo s podatki lažje. Preslikave imen stolpcev najdete v spodnji spremenljivki `new_names`.\n",
    "\n",
    "Operacijo opravite na mestu (inplace).\n",
    "\n",
    "`2 pts`"
   ]
  },
  {
   "cell_type": "code",
   "execution_count": null,
   "metadata": {},
   "outputs": [],
   "source": [
    "new_names = {'id': 'loan_id',\n",
    "             'loan_amnt': 'loan_amnount',\n",
    "             'funded_amnt': 'funded_amount',\n",
    "             'term': 'term_months',\n",
    "             'int_rate': 'interest_rate',\n",
    "             'grade': 'grade',\n",
    "             'emp_length': 'employee_length_years',\n",
    "             'home_ownership': 'home_ownership_type',\n",
    "             'annual_inc': 'annual_income',\n",
    "             'issue_d': 'issue_date',\n",
    "             'total_pymnt': 'total_payment_amount',\n",
    "             'last_pymnt_d': 'last_payment_date'\n",
    "}"
   ]
  },
  {
   "cell_type": "code",
   "execution_count": null,
   "metadata": {},
   "outputs": [],
   "source": [
    "# Odgovor\n",
    "loans.rename(columns=new_names, inplace = True)"
   ]
  },
  {
   "cell_type": "code",
   "execution_count": null,
   "metadata": {},
   "outputs": [],
   "source": [
    "# check\n",
    "# loans.columns"
   ]
  },
  {
   "cell_type": "markdown",
   "metadata": {},
   "source": [
    "#### 1.3.4) Iskanje podvojenih vrstic v podatkih"
   ]
  },
  {
   "cell_type": "markdown",
   "metadata": {},
   "source": [
    "Poišči število podvojenih vrstic v naših podatkih.\n",
    "\n",
    "`1 pts`"
   ]
  },
  {
   "cell_type": "code",
   "execution_count": null,
   "metadata": {},
   "outputs": [],
   "source": [
    "# Odgovor\n",
    "loans.duplicated().value_counts()"
   ]
  },
  {
   "attachments": {},
   "cell_type": "markdown",
   "metadata": {},
   "source": [
    "Odgovor: število podvojenih vrstic je enako številu True vrednosti, ki jih vrne zgornja vrstica. V tem primeru torej 3."
   ]
  },
  {
   "cell_type": "markdown",
   "metadata": {},
   "source": [
    "---"
   ]
  },
  {
   "cell_type": "markdown",
   "metadata": {},
   "source": [
    "`1 pts`"
   ]
  },
  {
   "cell_type": "markdown",
   "metadata": {},
   "source": [
    "Odstrani vse podvojene vrstice iz naših podatkov."
   ]
  },
  {
   "cell_type": "code",
   "execution_count": null,
   "metadata": {},
   "outputs": [],
   "source": [
    "# Odgovor\n",
    "loans.drop_duplicates(inplace=True)"
   ]
  },
  {
   "cell_type": "markdown",
   "metadata": {},
   "source": [
    "#### 1.3.5) Odstranjevenje mankajočih vrednosti\n",
    "\n",
    "Izpiši število mankajočih vrednosti za vsak stolpec v pandas Series obliki.\n",
    "\n",
    "Pričakovan odgovor:\n",
    "```\n",
    "loan_id                     0\n",
    "loan_amnount                1\n",
    "funded_amount               1\n",
    "term_months                 1\n",
    "interest_rate               1\n",
    "grade                       1\n",
    "employee_length_years    1113\n",
    "home_ownership_type         1\n",
    "annual_income               5\n",
    "verification_status         1\n",
    "issue_date                  1\n",
    "loan_status                 1\n",
    "...\n",
    "```\n",
    "\n",
    "`2 pts`"
   ]
  },
  {
   "cell_type": "code",
   "execution_count": null,
   "metadata": {},
   "outputs": [],
   "source": [
    "# Odgovor\n",
    "loans.isnull().sum()"
   ]
  },
  {
   "cell_type": "markdown",
   "metadata": {},
   "source": [
    "---"
   ]
  },
  {
   "cell_type": "markdown",
   "metadata": {},
   "source": [
    "`2 pts`"
   ]
  },
  {
   "cell_type": "markdown",
   "metadata": {},
   "source": [
    "Odstrani vse vrstice v naših podatkih za katere imata stolpca `last_payment_date` in `annual_income` manjkajoče vrednosti.\n",
    "\n",
    "Delo nadaljuj z novimi podatki."
   ]
  },
  {
   "cell_type": "code",
   "execution_count": null,
   "metadata": {},
   "outputs": [],
   "source": [
    "# Odgovor\n",
    "loans.dropna(axis=0, subset=[\"last_payment_date\", \"annual_income\"], how='any', inplace=True)"
   ]
  },
  {
   "cell_type": "markdown",
   "metadata": {},
   "source": [
    "---"
   ]
  },
  {
   "cell_type": "markdown",
   "metadata": {},
   "source": [
    "`2 pts`"
   ]
  },
  {
   "cell_type": "markdown",
   "metadata": {},
   "source": [
    "Vse manjkajoče vrednosti v stolpcu `employee_length_years` nadomesti z besedilom `10+ years`.\n",
    "\n",
    "Delo nadaljuj z novimi podatki."
   ]
  },
  {
   "cell_type": "code",
   "execution_count": null,
   "metadata": {},
   "outputs": [],
   "source": [
    "# Precheck: first check number of empty rows that need replacement\n",
    "loans['employee_length_years'].value_counts(dropna=False)"
   ]
  },
  {
   "cell_type": "code",
   "execution_count": null,
   "metadata": {},
   "outputs": [],
   "source": [
    "# Odgovor\n",
    "loans.loc[loans[\"employee_length_years\"].isnull(), \"employee_length_years\"] = '10+ years'"
   ]
  },
  {
   "cell_type": "code",
   "execution_count": null,
   "metadata": {},
   "outputs": [],
   "source": [
    "# Check after\n",
    "loans['employee_length_years'].value_counts(dropna=False)"
   ]
  },
  {
   "cell_type": "markdown",
   "metadata": {},
   "source": [
    "Dataset trenutno ne vsebuje več manjkajočih vrednosti."
   ]
  },
  {
   "cell_type": "markdown",
   "metadata": {},
   "source": [
    "#### 1.3.6) Transformiranje podatkov"
   ]
  },
  {
   "cell_type": "markdown",
   "metadata": {},
   "source": [
    "Stolpec `grade` vsebuje oceno kreditojemalca. Spodaj je podan slovar, ki preslika črko ocene v natančnejši opis. Omenjeni stolpec nadomestite z opisi namesto črk. \n",
    "\n",
    "Nadaljujte delo z novimi podatki.\n",
    "\n",
    "Namig: Uporabite pandas metodo .map()\n",
    "\n",
    "`2 pts`"
   ]
  },
  {
   "cell_type": "code",
   "execution_count": null,
   "metadata": {},
   "outputs": [],
   "source": [
    "grade_to_name = {\"A\": \"flawless\",\n",
    "                 \"B\": \"excelent\",\n",
    "                 \"C\": \"good\",\n",
    "                 \"D\": \"average\",\n",
    "                 \"E\": \"not_good\",\n",
    "                 \"F\": \"poor\",\n",
    "                 \"G\": \"terrible\",\n",
    "                }"
   ]
  },
  {
   "cell_type": "code",
   "execution_count": null,
   "metadata": {},
   "outputs": [],
   "source": [
    "# pre-check\n",
    "loans[\"grade\"].value_counts()"
   ]
  },
  {
   "cell_type": "code",
   "execution_count": null,
   "metadata": {},
   "outputs": [],
   "source": [
    "# Odgovor\n",
    "loans[\"grade\"] = loans[\"grade\"].map(grade_to_name)\n",
    "\n"
   ]
  },
  {
   "cell_type": "code",
   "execution_count": null,
   "metadata": {},
   "outputs": [],
   "source": [
    "# check\n",
    "loans[\"grade\"].value_counts()"
   ]
  },
  {
   "cell_type": "markdown",
   "metadata": {},
   "source": [
    "#### 1.3.7) Sprememba vrednsoti v določenih celicah"
   ]
  },
  {
   "cell_type": "markdown",
   "metadata": {},
   "source": [
    "- V stolpcu `loan_status` imamo vrednost `Does not meet the credit policy. Status:Fully Paid`. Kot zgleda podatek ni bil pravilno vnešen. Spremenite vse take vrednosti v `Fully Paid`.\n",
    "\n",
    "- V stolpcu `loan_status` imamo vrednost `Does not meet the credit policy. Status:Charged Off`. Kot zgleda podatek ni bil pravilno vnešen. Spremenite vse take vrednosti v `Charged Off`.\n",
    "\n",
    "`2 pts`"
   ]
  },
  {
   "cell_type": "code",
   "execution_count": null,
   "metadata": {},
   "outputs": [],
   "source": [
    "# pre-check\n",
    "loans['loan_status'].value_counts()"
   ]
  },
  {
   "cell_type": "code",
   "execution_count": null,
   "metadata": {},
   "outputs": [],
   "source": [
    "# Odgovor\n",
    "loans.loc[loans['loan_status'] == 'Does not meet the credit policy. Status:Fully Paid', 'loan_status'] = 'Fully Paid'\n",
    "loans.loc[loans['loan_status'] == 'Does not meet the credit policy. Status:Charged Off', 'loan_status'] = 'Charged Off'"
   ]
  },
  {
   "cell_type": "code",
   "execution_count": null,
   "metadata": {},
   "outputs": [],
   "source": [
    "# check\n",
    "loans['loan_status'].value_counts()"
   ]
  },
  {
   "cell_type": "markdown",
   "metadata": {},
   "source": [
    "#### 1.3.8) Dodatno urejanje podatkov"
   ]
  },
  {
   "cell_type": "markdown",
   "metadata": {},
   "source": [
    "Stolpec `loan_id` nastavimo kot index naših podatkov.\n",
    "\n",
    "`1 pts`"
   ]
  },
  {
   "cell_type": "code",
   "execution_count": null,
   "metadata": {},
   "outputs": [],
   "source": [
    "# Odgovor\n",
    "loans.set_index('loan_id', inplace=True)"
   ]
  },
  {
   "cell_type": "code",
   "execution_count": null,
   "metadata": {},
   "outputs": [],
   "source": [
    "loans"
   ]
  },
  {
   "cell_type": "markdown",
   "metadata": {},
   "source": [
    "---"
   ]
  },
  {
   "cell_type": "markdown",
   "metadata": {},
   "source": [
    "Za tekstovne stolpce preverite število edinstvenih vrednosti. Če celoten stolpec vsebuje enake vrednosti, ga odstranite. \n",
    "\n",
    "`3 pts`"
   ]
  },
  {
   "cell_type": "code",
   "execution_count": null,
   "metadata": {},
   "outputs": [],
   "source": [
    "# Odgovor\n",
    "# check only object data\n",
    "loans_object_data = loans.select_dtypes(include=['object'])\n",
    "# determine list of column names that have only one value\n",
    "object_columns_to_drop = loans_object_data.columns[loans_object_data.nunique(dropna=True) == 1]\n",
    "# finally inplace drop columns\n",
    "loans.drop(columns=object_columns_to_drop, inplace=True)\n"
   ]
  },
  {
   "cell_type": "code",
   "execution_count": null,
   "metadata": {},
   "outputs": [],
   "source": [
    "# check - one columns was droped\n",
    "loans.shape"
   ]
  },
  {
   "cell_type": "markdown",
   "metadata": {},
   "source": [
    "#### 1.3.9) Čiščenje vrednosti in sprememba podatkovnih tipov"
   ]
  },
  {
   "cell_type": "markdown",
   "metadata": {},
   "source": [
    "Stolpce `loan_amnount`, `funded_amount`, `annual_income`, `term_months` pretvorite v podatkovni tip `integer`. Pri tem je potrebno paziti, da uporabimo najbolj optimalen subtip (npr. int8, int16...) glede na vsebovane vrednosti. Nadaljujte delo z novimi podatki.\n",
    "- Pri stolpcu `term_months` je prehodno potrebno izluščiti številsko vrednost!\n",
    "\n",
    "`4 pts`"
   ]
  },
  {
   "cell_type": "code",
   "execution_count": null,
   "metadata": {},
   "outputs": [],
   "source": []
  },
  {
   "cell_type": "code",
   "execution_count": null,
   "metadata": {},
   "outputs": [],
   "source": [
    "# Odgovor\n",
    "loans[\"loan_amnount\"] = pd.to_numeric(loans['loan_amnount'].astype('int'), downcast='integer')\n",
    "loans[\"funded_amount\"] = pd.to_numeric(loans['funded_amount'].astype('int'), downcast='integer')\n",
    "loans[\"annual_income\"] = pd.to_numeric(loans['annual_income'].astype('int'), downcast='integer')\n",
    "loans[\"term_months\"] = pd.to_numeric(loans['term_months'].str.replace(\" months\", \"\").astype('int'), downcast='integer')"
   ]
  },
  {
   "cell_type": "code",
   "execution_count": null,
   "metadata": {},
   "outputs": [],
   "source": [
    "# check\n",
    "loans.dtypes"
   ]
  },
  {
   "cell_type": "markdown",
   "metadata": {},
   "source": [
    "---"
   ]
  },
  {
   "cell_type": "markdown",
   "metadata": {},
   "source": [
    "Stolpca `interest_rate` in `total_payment_amount` pretvorite v podatkovni tip `float`. Pri tem je potrebno paziti, da uporabimo najbolj optimalen subtip (npr. float32, float64...) glede na vsebovane vrednosti. Nadaljujte delo z novimi podatki.\n",
    "- Pri stolpcu `interest_rate` je prehodno potrebno izluščiti številsko vrednost!\n",
    "\n",
    "`3 pts`"
   ]
  },
  {
   "cell_type": "code",
   "execution_count": null,
   "metadata": {},
   "outputs": [],
   "source": [
    "# Odgovor\n",
    "loans[\"interest_rate\"] = pd.to_numeric(loans['interest_rate'].str.replace(\"%\",\"\").astype('float'), downcast='float')\n",
    "loans[\"total_payment_amount\"] = pd.to_numeric(loans['total_payment_amount'].astype('float'), downcast='float')\n"
   ]
  },
  {
   "cell_type": "code",
   "execution_count": null,
   "metadata": {},
   "outputs": [],
   "source": [
    "loans.dtypes"
   ]
  },
  {
   "cell_type": "markdown",
   "metadata": {},
   "source": [
    "---"
   ]
  },
  {
   "cell_type": "markdown",
   "metadata": {},
   "source": [
    "Stolpca `issue_date` in `last_payment_date` pretvorite v podatkovni tip `datetime64[ns]` (format: `YYYY-MM-DD`). Nadaljujte delo z novimi podatki. \n",
    "\n",
    "`2 pts`"
   ]
  },
  {
   "cell_type": "code",
   "execution_count": null,
   "metadata": {},
   "outputs": [],
   "source": [
    "loans.head()"
   ]
  },
  {
   "cell_type": "code",
   "execution_count": null,
   "metadata": {},
   "outputs": [],
   "source": [
    "# Odgovor\n",
    "loans[\"issue_date\"] = pd.to_datetime(loans[\"last_payment_date\"])\n",
    "loans[\"last_payment_date\"] = pd.to_datetime(loans[\"last_payment_date\"])"
   ]
  },
  {
   "cell_type": "markdown",
   "metadata": {},
   "source": [
    "---"
   ]
  },
  {
   "cell_type": "markdown",
   "metadata": {},
   "source": [
    "Ostale stolpce tipa `object` pretvorite v `category` tip:\n",
    "\n",
    "`5 pts`"
   ]
  },
  {
   "cell_type": "code",
   "execution_count": null,
   "metadata": {},
   "outputs": [],
   "source": [
    "# Odgovor\n",
    "# select object columns\n",
    "object_columns = loans.select_dtypes(include='object')\n",
    "\n",
    "# Convert object columns to category\n",
    "object_columns = object_columns.apply(lambda x: x.astype('category'))\n",
    "\n",
    "# Assign the converted columns back to the DataFrame\n",
    "loans[object_columns.columns] = object_columns\n"
   ]
  },
  {
   "cell_type": "code",
   "execution_count": null,
   "metadata": {},
   "outputs": [],
   "source": [
    "loans.dtypes"
   ]
  },
  {
   "cell_type": "markdown",
   "metadata": {},
   "source": [
    "---"
   ]
  },
  {
   "cell_type": "markdown",
   "metadata": {},
   "source": [
    "Primer vrstice:\n",
    "\n",
    "    loan_amnount                            2500\n",
    "    funded_amount                           2500\n",
    "    term_months                               60\n",
    "    interest_rate                          15.27\n",
    "    grade                                   good\n",
    "    employee_length_years               < 1 year\n",
    "    home_ownership_type                     RENT\n",
    "    annual_income                          30000\n",
    "    verification_status          Source Verified\n",
    "    issue_date               2011-12-01 00:00:00\n",
    "    loan_status                      Charged Off\n",
    "    purpose                                  car\n",
    "    total_payment_amount             1008.710022\n",
    "    last_payment_date        2013-04-01 00:00:00"
   ]
  },
  {
   "cell_type": "markdown",
   "metadata": {},
   "source": [
    "Na koncu morajo podatki biti takšnih tipov: \n",
    "```\n",
    " #   Column                 Non-Null Count  Dtype         \n",
    "---  ------                 --------------  -----         \n",
    " 0   loan_amnount           42448 non-null  int32         \n",
    " 1   funded_amount          42448 non-null  int32         \n",
    " 2   term_months            42448 non-null  int8          \n",
    " 3   interest_rate          42448 non-null  float32       \n",
    " 4   grade                  42448 non-null  category      \n",
    " 5   employee_length_years  42448 non-null  category      \n",
    " 6   home_ownership_type    42448 non-null  category      \n",
    " 7   annual_income          42448 non-null  int32         \n",
    " 8   verification_status    42448 non-null  category      \n",
    " 9   issue_date             42448 non-null  datetime64[ns]\n",
    " 10  loan_status            42448 non-null  category      \n",
    " 11  purpose                42448 non-null  category      \n",
    " 12  total_payment_amount   42448 non-null  float32       \n",
    " 13  last_payment_date      42448 non-null  datetime64[ns]\n",
    "```"
   ]
  },
  {
   "cell_type": "markdown",
   "metadata": {},
   "source": [
    "Prikažite realno porabo pomnilnika v MB (tudi porabo teksta v numpy objektih)\n",
    "\n",
    "`1 pts`"
   ]
  },
  {
   "cell_type": "code",
   "execution_count": null,
   "metadata": {},
   "outputs": [],
   "source": [
    "# Odgovor\n",
    "loans.info(memory_usage='deep')"
   ]
  },
  {
   "cell_type": "markdown",
   "metadata": {},
   "source": [
    "### 1.4) Izvoz urejenih podatkov"
   ]
  },
  {
   "cell_type": "markdown",
   "metadata": {},
   "source": [
    "Pripravljene in urejene podatke izvozite v novo csv datoteko z imenom `DATA_loans_CLEAN.csv`. Za pot lahko uporabite pripravljano spremenljivko `path_clean`. Za separator uporabite `,`.\n",
    "\n",
    "`1 pts`"
   ]
  },
  {
   "cell_type": "code",
   "execution_count": null,
   "metadata": {},
   "outputs": [],
   "source": [
    "path_clean = 'data/DATA_loans_CLEAN.csv'\n"
   ]
  },
  {
   "cell_type": "code",
   "execution_count": null,
   "metadata": {},
   "outputs": [],
   "source": [
    "# Odgovor\n",
    "loans.to_csv(path_clean, sep=',', index=False)"
   ]
  },
  {
   "cell_type": "markdown",
   "metadata": {},
   "source": [
    "<hr>"
   ]
  },
  {
   "cell_type": "markdown",
   "metadata": {},
   "source": [
    "Podatke želite shraniti tudi v SQLite bazo. Tako, da urejene podatke shranite še v SQLlite bazo z imenom `DATA_loans_CLEAN.db`. Lahko uporabite pripravljeno spremnljivko `path_db`. Za ime table uporabite `loans`."
   ]
  },
  {
   "cell_type": "markdown",
   "metadata": {},
   "source": [
    "`3 pts`"
   ]
  },
  {
   "cell_type": "code",
   "execution_count": null,
   "metadata": {},
   "outputs": [],
   "source": [
    "path_db = 'data/DATA_loans_CLEAN.db'"
   ]
  },
  {
   "cell_type": "code",
   "execution_count": null,
   "metadata": {},
   "outputs": [],
   "source": [
    "# Odgovor\n",
    "import sqlite3\n",
    "from sqlalchemy import create_engine\n",
    "table = 'laptops'\n",
    "engine = create_engine(f'sqlite:///{path_db}', echo=False)\n",
    "loans.to_sql(table, con=engine, if_exists='append')\n"
   ]
  },
  {
   "cell_type": "markdown",
   "metadata": {},
   "source": [
    "## DEL 2 - Analiza (50 pts)"
   ]
  },
  {
   "cell_type": "markdown",
   "metadata": {},
   "source": [
    "V tem delu sledi analiza urejenih podatkov."
   ]
  },
  {
   "cell_type": "markdown",
   "metadata": {},
   "source": [
    "V primeru, da vam ni uspelo urediti podatkov v prejšnjem delu, si jih lahko naložite v pomočjo spodnje celice."
   ]
  },
  {
   "cell_type": "code",
   "execution_count": null,
   "metadata": {},
   "outputs": [],
   "source": [
    "# Naložimo urejene podatke\n",
    "df = pd.read_pickle(\"data/loans_CLEAN.pkl\")"
   ]
  },
  {
   "cell_type": "code",
   "execution_count": null,
   "metadata": {
    "scrolled": true
   },
   "outputs": [],
   "source": [
    "df.head()"
   ]
  },
  {
   "cell_type": "markdown",
   "metadata": {},
   "source": [
    "Prikažite glavne statistične lastnosti za numerične z uporabo ene metode. To ponovite še za kategorične stolpce.\n",
    "\n",
    "`2 pts`"
   ]
  },
  {
   "cell_type": "code",
   "execution_count": null,
   "metadata": {},
   "outputs": [],
   "source": [
    "# Odgovor\n",
    "df.describe()"
   ]
  },
  {
   "cell_type": "code",
   "execution_count": null,
   "metadata": {},
   "outputs": [],
   "source": [
    "df.describe(include='category')"
   ]
  },
  {
   "cell_type": "markdown",
   "metadata": {},
   "source": [
    "### 2.1) Analiza - Namen kredita `8 pts`"
   ]
  },
  {
   "cell_type": "markdown",
   "metadata": {},
   "source": [
    "Analizirajte stolpec `purpose`.\n",
    "\n",
    "Izpišite število kredititov za posamezen namen.\n",
    "\n",
    "`2 pts`"
   ]
  },
  {
   "cell_type": "code",
   "execution_count": null,
   "metadata": {},
   "outputs": [],
   "source": [
    "# Odgovor\n",
    "df['purpose'].value_counts()\n"
   ]
  },
  {
   "cell_type": "markdown",
   "metadata": {},
   "source": [
    "Prvih 10 vrednosti (10 najbolj pogostih) zgornjega izračuna shranite v spremenljivko `purpose_top_10`.\n",
    "\n",
    "`2 pts`"
   ]
  },
  {
   "cell_type": "code",
   "execution_count": null,
   "metadata": {},
   "outputs": [],
   "source": [
    "# Odgovor\n",
    "purpose_top_10 = df['purpose'].value_counts().sort_values(ascending=False)[0:10]\n",
    "# purpose_top_10 = df.groupby(\"purpose\").size().sort_values(ascending=False).head(10)\n",
    "purpose_top_10\n"
   ]
  },
  {
   "cell_type": "markdown",
   "metadata": {},
   "source": [
    "Izrišite graf števil kreditov v odvisnosti od namena (za `purpose_top_10` Series). \n",
    "\n",
    "Uporabite funkcijo plot v knjižnjici pandas. Graf naj bo tipa `bar` z naslovom `Namen kreditov`\n",
    "\n",
    "`4 pts`"
   ]
  },
  {
   "cell_type": "code",
   "execution_count": null,
   "metadata": {},
   "outputs": [],
   "source": [
    "# Odgovor\n",
    "purpose_top_10.plot(kind=\"bar\", title=\"Namen kreditov\")\n"
   ]
  },
  {
   "cell_type": "markdown",
   "metadata": {},
   "source": [
    "### 2.2) Analiza - Povprečna vrednost kredita glede na oceno kreditojemalca `6 pts`"
   ]
  },
  {
   "cell_type": "markdown",
   "metadata": {},
   "source": [
    "Izdelejte nov dataframe z imenom `df_fully_paid`, v katerem shranite samo vrstice, ki predstavljajo v celoti vrnjene kredite (stolpec `loan_status` -> vrednost `Fully Paid`).\n",
    "\n",
    "`2 pts`"
   ]
  },
  {
   "cell_type": "code",
   "execution_count": null,
   "metadata": {},
   "outputs": [],
   "source": [
    "# Odgovor\n",
    "df_fully_paid = df.loc[df['loan_status'] == 'Fully Paid',:]\n"
   ]
  },
  {
   "cell_type": "markdown",
   "metadata": {},
   "source": [
    "V `df_fully_paid` shranite samo stolpca `grade` in `loan_amnount`. z uporabo `loc metode`.\n",
    "\n",
    "`2 pts`"
   ]
  },
  {
   "cell_type": "code",
   "execution_count": null,
   "metadata": {},
   "outputs": [],
   "source": [
    "# Odgovor\n",
    "df_fully_paid = df.loc[df['loan_status'] == 'Fully Paid',['grade', 'loan_amnount']]\n"
   ]
  },
  {
   "cell_type": "markdown",
   "metadata": {},
   "source": [
    "Izračunajte povprečno vrednost stolpca `grade` za vsako izmed ocen.\n",
    "\n",
    "`2 pts`"
   ]
  },
  {
   "cell_type": "code",
   "execution_count": null,
   "metadata": {},
   "outputs": [],
   "source": [
    "# Odgovor\n",
    "df_fully_paid.groupby('grade').mean()\n",
    "\n"
   ]
  },
  {
   "cell_type": "markdown",
   "metadata": {},
   "source": [
    "### 2.3) Analiza - Primerjava prhodkov `10 pts`"
   ]
  },
  {
   "cell_type": "markdown",
   "metadata": {},
   "source": [
    "Izdelejte nov dataframe z imenom `df_small_business_verified`, v katerem shranite samo vrstice, ki predstavljajo:\n",
    "- stolpec `purpose` -> vrednost `small_business`) in hkrati, \n",
    "- stolpec `verification_status`  -> vrednost `Verified`).\n",
    "\n",
    "`4 pts`"
   ]
  },
  {
   "cell_type": "code",
   "execution_count": null,
   "metadata": {},
   "outputs": [],
   "source": [
    "# Odgovor\n",
    "df_small_business_verified = df.loc[(df['purpose']=='small_business') & (df['verification_status'] == 'Verified'),:]\n",
    "df_small_business_verified\n"
   ]
  },
  {
   "cell_type": "markdown",
   "metadata": {},
   "source": [
    "Dobljen dataframe grupirajte po stolpcu `grade` in izračunjte povprečno vrednost za stolpec `annual_income`. Dobljen Series poimenujte `income_mean`.\n",
    "\n",
    "`3 pts`"
   ]
  },
  {
   "cell_type": "code",
   "execution_count": null,
   "metadata": {},
   "outputs": [],
   "source": [
    "# Odgovor\n",
    "income_mean = df_small_business_verified.groupby('grade')['annual_income'].mean()\n",
    "income_mean\n"
   ]
  },
  {
   "cell_type": "markdown",
   "metadata": {},
   "source": [
    "V grafu prikažite `income_mean` za vsako oceno. Uporabite graf tipa `bar`.\n",
    "\n",
    "`3 pts`"
   ]
  },
  {
   "cell_type": "code",
   "execution_count": null,
   "metadata": {},
   "outputs": [],
   "source": [
    "# Odgovor\n",
    "income_mean.plot(kind=\"bar\", title=\"Mean income per grade\")\n",
    "\n"
   ]
  },
  {
   "cell_type": "markdown",
   "metadata": {},
   "source": [
    "### 2.4) Analiza - Največji in najmanjši kredit `4 pts`"
   ]
  },
  {
   "cell_type": "markdown",
   "metadata": {},
   "source": [
    "Izpišite največji in najmanjši odobren (`verification_status` -> `Verified`) kredit (stolpec `loan_amnount`).\n",
    "\n",
    "`4 pts`"
   ]
  },
  {
   "cell_type": "code",
   "execution_count": null,
   "metadata": {},
   "outputs": [],
   "source": [
    "# Odgovor\n",
    "max_verified = df.loc[df['verification_status']=='Verified',['loan_amnount']].max()\n",
    "print(f\"max_credit={max_verified[0]}\")\n",
    "min_verified = df.loc[df['verification_status']=='Verified',['loan_amnount']].min()\n",
    "print(f\"min_credit={min_verified[0]}\")\n"
   ]
  },
  {
   "cell_type": "markdown",
   "metadata": {},
   "source": [
    "### 2.5) Analiza - naloga odprtega tipa 1 `10 pts`"
   ]
  },
  {
   "cell_type": "markdown",
   "metadata": {},
   "source": [
    "Pri tej nalogi sami analizirajte podatke po lastni želji. Rešitev mora vsebovati naslednje dele:\n",
    "- opis problema (na kratko napisano, kaj želimo ugotoviti)\n",
    "- po potrebi filtracija in izbira podatkov\n",
    "- analiza podatkov, ki pripelje k rešitvi problema\n",
    "- graf, ki prikazuje končne podatke (če je možno)\n",
    "- ugotovitev (na kratko opisana ugotovitev na zastavljen problem)"
   ]
  },
  {
   "cell_type": "code",
   "execution_count": null,
   "metadata": {},
   "outputs": [],
   "source": [
    "# Odgovor\n",
    "# zanima nas po kako se giba obrestna mera odobrenih kreditov v odvisnosti od zneska kredita.\n",
    "# Hipoteza: Obrestna mera je ugodnejsa pri kreditih vecjih zneskov\n",
    "df_interes_rates = df.loc[df['verification_status']=='Verified',['interest_rate','loan_amnount']].sort_values(by='loan_amnount', ascending=True)\n",
    "df_interes_rates\n",
    "# grupiramo po binih\n",
    "bins = [0, 10_000, 20_000, 30_000, 40_000]\n",
    "bin_labels = ['small','medium','high','extra high']\n",
    "df_interes_rates['loan_amount_groups'] = pd.cut(df['loan_amnount'], bins=bins, labels=bin_labels)\n",
    "result = df_interes_rates.groupby('loan_amount_groups').mean()\n",
    "result.plot(kind='barh', title='Intereset rate vs loan size group')\n",
    "# Ugotovitve: Ne zaznamo direktne korelacije med zneski kreditov in obrestnimi merami, verjetno drugi dejavniki vplivajo na obrestno mero"
   ]
  },
  {
   "cell_type": "markdown",
   "metadata": {},
   "source": [
    "### 2.6) Analiza - naloga odprtega tipa 2 `10 pts`"
   ]
  },
  {
   "cell_type": "markdown",
   "metadata": {},
   "source": [
    "Pri tej nalogi sami analizirajte podatke po lastni želji. Rešitev mora vsebovati naslednje dele:\n",
    "- opis problema (na kratko napisano, kaj želimo ugotoviti)\n",
    "- po potrebi filtracija in izbira podatkov\n",
    "- analiza podatkov, ki pripelje k rešitvi problema\n",
    "- graf, ki prikazuje končne podatke (če je možno)\n",
    "- ugotovitev (na kratko opisana ugotovitev na zastavljen problem)"
   ]
  },
  {
   "cell_type": "code",
   "execution_count": null,
   "metadata": {},
   "outputs": [],
   "source": [
    "# Odgovor\n",
    "# Hipoteza: Ce zanemarimo vpliv globalne krize (2007 do 2008) sklepamo,\n",
    "# da se povprecne vrednosti visine kreditov s casom povecujejo\n",
    "\n",
    "# filtriramo - zanimajo nas samo odobreni\n",
    "df_verified = df.loc[df['verification_status']=='Verified',:]\n",
    "\n",
    "# uporabimo date kot index\n",
    "df_time_influence = df_verified.set_index(\"issue_date\")\n",
    "\n",
    "# ustvarimo year in month stolpec za grupacijo po casovnih obdobjih\n",
    "df_time_influence['Year'] = df_time_influence.index.year\n",
    "df_time_influence['Month'] = df_time_influence.index.month\n",
    "\n",
    "# Grupiramo po leto-mesec in izracunamo povprecje odobrenih kreditov\n",
    "plt.figure()\n",
    "result = df_time_influence.groupby(['Year', 'Month'])['loan_amnount'].mean()\n",
    "result.plot(title='Average loan ammount vs. year-month')\n",
    "\n",
    "# Ugotovitev: Razviden je vpliv globalne finančne krize konec 2007 ter po krizi narascanje posojil."
   ]
  },
  {
   "cell_type": "markdown",
   "metadata": {},
   "source": [
    "## Oddaja\n",
    "\n",
    "Rešeni notebook pošljite na naslednja e-mail naslova:\n",
    "- leon.stefanic@ltfe.org \n",
    "\n",
    "**POMEMBNO!** Pred pošiljanjem notebook preimenujte na naslednji način:\n",
    "\n",
    "`IZPIT_2022_04_IME_PRIMEK` (npr: `IZPIT_2022_04_JANEZ_NOVAK`)"
   ]
  }
 ],
 "metadata": {
  "kernelspec": {
   "display_name": ".venv",
   "language": "python",
   "name": "python3"
  },
  "language_info": {
   "codemirror_mode": {
    "name": "ipython",
    "version": 3
   },
   "file_extension": ".py",
   "mimetype": "text/x-python",
   "name": "python",
   "nbconvert_exporter": "python",
   "pygments_lexer": "ipython3",
   "version": "3.11.1"
  },
  "vscode": {
   "interpreter": {
    "hash": "f2fad0e9f852f21124fcc46a84485239e3e738ccda87c01717e16016aa56993d"
   }
  }
 },
 "nbformat": 4,
 "nbformat_minor": 2
}
