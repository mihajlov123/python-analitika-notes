{
 "cells": [
  {
   "cell_type": "markdown",
   "metadata": {},
   "source": [
    "# SQL"
   ]
  },
  {
   "cell_type": "markdown",
   "metadata": {},
   "source": [
    "## Shema\n",
    "\n",
    "Poveži se na `jobs.db` databazo.\n",
    "\n",
    "Prikaži shemo `recent_grads` tabele.\n",
    "\n",
    "Prilepite ukaz, ki ste ga izvedli in izpisane vrstice."
   ]
  },
  {
   "cell_type": "markdown",
   "metadata": {},
   "source": [
    "```sqlite3\n",
    "CREATE TABLE IF NOT EXISTS \"recent_grads\" (\n",
    "\"index\" INTEGER,\n",
    "  \"Rank\" INTEGER,\n",
    "  \"Major_code\" INTEGER,\n",
    "  \"Major\" TEXT,\n",
    "  \"Major_category\" TEXT,\n",
    "  \"Total\" INTEGER,\n",
    "  \"Sample_size\" INTEGER,\n",
    "  \"Men\" INTEGER,\n",
    "  \"Women\" INTEGER,\n",
    "  \"ShareWomen\" REAL,\n",
    "  \"Employed\" INTEGER,\n",
    "  \"Full_time\" INTEGER,\n",
    "  \"Part_time\" INTEGER,\n",
    "  \"Full_time_year_round\" INTEGER,\n",
    "  \"Unemployed\" INTEGER,\n",
    "  \"Unemployment_rate\" REAL,\n",
    "  \"Median\" INTEGER,\n",
    "  \"P25th\" INTEGER,\n",
    "  \"P75th\" INTEGER,\n",
    "  \"College_jobs\" INTEGER,\n",
    "  \"Non_college_jobs\" INTEGER,\n",
    "  \"Low_wage_jobs\" INTEGER\n",
    ");\n",
    "CREATE INDEX \"ix_recent_grads_index\"ON \"recent_grads\" (\"index\");\n",
    "```"
   ]
  },
  {
   "cell_type": "code",
   "execution_count": null,
   "metadata": {},
   "outputs": [],
   "source": [
    "# Rešitev\n",
    "\n",
    "\n",
    "\n"
   ]
  },
  {
   "cell_type": "markdown",
   "metadata": {},
   "source": [
    "## SELECT and LIMIT\n",
    "\n",
    "Prikaži prvih 12 vrstic stolpcev `Rank` in `Major`, v tem vrstnem redu, tabele `recent_grads`.\n",
    "\n",
    "Prilepite ukaz, ki ste ga izvedli in izpisane vrstice."
   ]
  },
  {
   "cell_type": "markdown",
   "metadata": {},
   "source": [
    "```sql\n",
    "1|PETROLEUM ENGINEERING\n",
    "2|MINING AND MINERAL ENGINEERING\n",
    "3|METALLURGICAL ENGINEERING\n",
    "4|NAVAL ARCHITECTURE AND MARINE ENGINEERING\n",
    "5|CHEMICAL ENGINEERING\n",
    "6|NUCLEAR ENGINEERING\n",
    "7|ACTUARIAL SCIENCE\n",
    "8|ASTRONOMY AND ASTROPHYSICS\n",
    "9|MECHANICAL ENGINEERING\n",
    "10|ELECTRICAL ENGINEERING\n",
    "11|COMPUTER ENGINEERING\n",
    "12|AEROSPACE ENGINEERING\n",
    "```"
   ]
  },
  {
   "cell_type": "code",
   "execution_count": null,
   "metadata": {},
   "outputs": [],
   "source": [
    "# Rešitev\n",
    "\n"
   ]
  },
  {
   "cell_type": "markdown",
   "metadata": {},
   "source": [
    "## WHERE\n",
    "\n",
    "Prikaži stolpca `Major`, `Unemployment_rate` in `Total`, kjer je `Unemployment_rate` večji od 10% in stolpec `Total` (celotno število diplomantov) manjši od 1000.\n",
    "\n",
    "Prilepite ukaz, ki ste ga izvedli in izpisane vrstice."
   ]
  },
  {
   "cell_type": "markdown",
   "metadata": {},
   "source": [
    "```sql\n",
    "MINING AND MINERAL ENGINEERING|0.117241379|756\n",
    "SCHOOL STUDENT COUNSELING|0.107579462|818\n",
    "```"
   ]
  },
  {
   "cell_type": "code",
   "execution_count": null,
   "metadata": {},
   "outputs": [],
   "source": [
    "# Rešitev\n",
    "\n"
   ]
  },
  {
   "cell_type": "markdown",
   "metadata": {},
   "source": [
    "## ORDER BY\n",
    "\n",
    "Prikažite prvih 5 stolpecv `Major`, `Mediana`. Vrstni red naj bo naraščajoč glede na stolpec `Mediana`.\n",
    "\n",
    "Prilepite ukaz, ki ste ga izvedli in izpisane vrstice."
   ]
  },
  {
   "cell_type": "markdown",
   "metadata": {},
   "source": [
    "```sql\n",
    "LIBRARY SCIENCE|22000\n",
    "COUNSELING PSYCHOLOGY|23400\n",
    "EDUCATIONAL PSYCHOLOGY|25000\n",
    "CLINICAL PSYCHOLOGY|25000\n",
    "ZOOLOGY|26000\n",
    "```"
   ]
  },
  {
   "cell_type": "code",
   "execution_count": null,
   "metadata": {},
   "outputs": [],
   "source": [
    "# Rešitev\n",
    "\n"
   ]
  },
  {
   "cell_type": "markdown",
   "metadata": {},
   "source": [
    "# Python SQLite3"
   ]
  },
  {
   "cell_type": "code",
   "execution_count": 44,
   "metadata": {},
   "outputs": [],
   "source": [
    "import sqlite3"
   ]
  },
  {
   "cell_type": "markdown",
   "metadata": {},
   "source": [
    "Povežite se na `job.db` databazo.\n",
    "\n",
    "Prikažite vrstice od 10 do 15, za stolpce `Rank`, `Major`, `Total`. "
   ]
  },
  {
   "cell_type": "code",
   "execution_count": 1,
   "metadata": {},
   "outputs": [],
   "source": [
    "# Rešitev\n"
   ]
  },
  {
   "cell_type": "markdown",
   "metadata": {},
   "source": [
    "# SQLAlchemy and Pandas\n",
    "\n"
   ]
  },
  {
   "cell_type": "code",
   "execution_count": 47,
   "metadata": {},
   "outputs": [],
   "source": [
    "import sqlalchemy\n",
    "from sqlalchemy import create_engine\n",
    "from sqlalchemy import DateTime, Integer, String, Boolean\n",
    "\n",
    "import pandas as pd\n",
    "import numpy as np"
   ]
  },
  {
   "cell_type": "markdown",
   "metadata": {},
   "source": [
    "Povežite se na `logs.db` databazo.\n",
    "\n",
    "Preberite celotno `weblog` tabelo v DataFrame in prikažite prvih 5 vrstic.\n",
    "(stolpec `id` naj bo index DataFrama)"
   ]
  },
  {
   "cell_type": "code",
   "execution_count": 2,
   "metadata": {},
   "outputs": [],
   "source": [
    "# Rešitev\n",
    "\n",
    "\n"
   ]
  },
  {
   "cell_type": "markdown",
   "metadata": {},
   "source": [
    "Najdite najpogostejši `ip`.\n",
    "DataFramu dodajte stolpec `Ban`. Če vrstica vsebuje najpogostejši ip naj bo v `Ban` stolpcu vrednost `True`, drugače naj bo vrenost `False`."
   ]
  },
  {
   "cell_type": "code",
   "execution_count": 3,
   "metadata": {},
   "outputs": [],
   "source": [
    "# Rešitev\n",
    "\n",
    "\n"
   ]
  },
  {
   "cell_type": "markdown",
   "metadata": {},
   "source": [
    "DataFrame zapišite v `logs.db` databazo, v `ban_log` tabelo. Če tabela še ne obstaja jo ustvarite.\n",
    "\n",
    "Glede databaznih stolpcev in njihovih data-tipov si pomagajte s spodnjim `dtype_dict`."
   ]
  },
  {
   "cell_type": "code",
   "execution_count": 53,
   "metadata": {},
   "outputs": [],
   "source": [
    "dtype_dict = {'ip': String(15), \n",
    "              'timestamp': DateTime(), \n",
    "              'status': Integer(), \n",
    "              'method': String(10), \n",
    "              'Ban': Boolean()\n",
    "}"
   ]
  },
  {
   "cell_type": "code",
   "execution_count": 4,
   "metadata": {},
   "outputs": [],
   "source": [
    "# Rešitev\n"
   ]
  },
  {
   "cell_type": "code",
   "execution_count": null,
   "metadata": {},
   "outputs": [],
   "source": []
  },
  {
   "cell_type": "code",
   "execution_count": null,
   "metadata": {},
   "outputs": [],
   "source": []
  },
  {
   "cell_type": "code",
   "execution_count": null,
   "metadata": {},
   "outputs": [],
   "source": []
  },
  {
   "cell_type": "code",
   "execution_count": null,
   "metadata": {},
   "outputs": [],
   "source": []
  }
 ],
 "metadata": {
  "kernelspec": {
   "display_name": "Python 3 (ipykernel)",
   "language": "python",
   "name": "python3"
  },
  "language_info": {
   "codemirror_mode": {
    "name": "ipython",
    "version": 3
   },
   "file_extension": ".py",
   "mimetype": "text/x-python",
   "name": "python",
   "nbconvert_exporter": "python",
   "pygments_lexer": "ipython3",
   "version": "3.8.10"
  },
  "toc": {
   "base_numbering": 1,
   "nav_menu": {},
   "number_sections": true,
   "sideBar": true,
   "skip_h1_title": false,
   "title_cell": "Table of Contents",
   "title_sidebar": "Contents",
   "toc_cell": false,
   "toc_position": {},
   "toc_section_display": true,
   "toc_window_display": false
  }
 },
 "nbformat": 4,
 "nbformat_minor": 2
}
