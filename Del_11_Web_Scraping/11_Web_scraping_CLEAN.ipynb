{
 "cells": [
  {
   "cell_type": "markdown",
   "metadata": {},
   "source": [
    "# Web scraping"
   ]
  },
  {
   "cell_type": "markdown",
   "metadata": {},
   "source": [
    "## What Is Web Scraping?"
   ]
  },
  {
   "cell_type": "code",
   "execution_count": 1,
   "metadata": {},
   "outputs": [],
   "source": [
    "import pandas as pd"
   ]
  },
  {
   "cell_type": "markdown",
   "metadata": {},
   "source": [
    "<img class=\"progressiveMedia-image js-progressiveMedia-image\" data-src=\"https://cdn-images-1.medium.com/max/1600/1*GOyqaID2x1N5lD_rhTDKVQ.png\" src=\"https://cdn-images-1.medium.com/max/1600/1*GOyqaID2x1N5lD_rhTDKVQ.png\">"
   ]
  },
  {
   "cell_type": "markdown",
   "metadata": {},
   "source": [
    "### Why Web Scraping for Data Science?"
   ]
  },
  {
   "cell_type": "markdown",
   "metadata": {},
   "source": [
    "## Network complexity"
   ]
  },
  {
   "cell_type": "markdown",
   "metadata": {},
   "source": [
    "## HTTP"
   ]
  },
  {
   "cell_type": "markdown",
   "metadata": {},
   "source": [
    "## HTTP in Python: The Requests Library"
   ]
  },
  {
   "cell_type": "markdown",
   "metadata": {},
   "source": [
    "[Requests: HTTP for Humans](https://2.python-requests.org/en/master/)"
   ]
  },
  {
   "cell_type": "code",
   "execution_count": 2,
   "metadata": {},
   "outputs": [],
   "source": [
    "import requests"
   ]
  },
  {
   "cell_type": "code",
   "execution_count": 3,
   "metadata": {},
   "outputs": [],
   "source": [
    "url = 'http://example.com/'\n",
    "r = requests.get(url)"
   ]
  },
  {
   "cell_type": "code",
   "execution_count": 4,
   "metadata": {},
   "outputs": [
    {
     "data": {
      "text/plain": [
       "requests.models.Response"
      ]
     },
     "execution_count": 4,
     "metadata": {},
     "output_type": "execute_result"
    }
   ],
   "source": [
    "type(r)"
   ]
  },
  {
   "cell_type": "code",
   "execution_count": 5,
   "metadata": {},
   "outputs": [
    {
     "name": "stdout",
     "output_type": "stream",
     "text": [
      "200\n",
      "Ok\n"
     ]
    }
   ],
   "source": [
    "print(r.status_code)\n",
    "if r:\n",
    "    print(\"Ok\")\n",
    "else:\n",
    "    print(\"Not valid response\")"
   ]
  },
  {
   "cell_type": "code",
   "execution_count": 6,
   "metadata": {},
   "outputs": [
    {
     "name": "stdout",
     "output_type": "stream",
     "text": [
      "True\n"
     ]
    }
   ],
   "source": [
    "print(r.ok)"
   ]
  },
  {
   "cell_type": "code",
   "execution_count": 7,
   "metadata": {},
   "outputs": [
    {
     "name": "stdout",
     "output_type": "stream",
     "text": [
      "{'Content-Encoding': 'gzip', 'Accept-Ranges': 'bytes', 'Age': '602525', 'Cache-Control': 'max-age=604800', 'Content-Type': 'text/html; charset=UTF-8', 'Date': 'Mon, 19 Dec 2022 16:26:57 GMT', 'Etag': '\"3147526947+ident\"', 'Expires': 'Mon, 26 Dec 2022 16:26:57 GMT', 'Last-Modified': 'Thu, 17 Oct 2019 07:18:26 GMT', 'Server': 'ECS (dcb/7ECA)', 'Vary': 'Accept-Encoding', 'X-Cache': 'HIT', 'Content-Length': '648'}\n"
     ]
    }
   ],
   "source": [
    "print(r.headers)"
   ]
  },
  {
   "cell_type": "code",
   "execution_count": 8,
   "metadata": {},
   "outputs": [
    {
     "name": "stdout",
     "output_type": "stream",
     "text": [
      "<!doctype html>\n",
      "<html>\n",
      "<head>\n",
      "    <title>Example Domain</title>\n",
      "\n",
      "    <meta charset=\"utf-8\" />\n",
      "    <meta http-equiv=\"Content-type\" content=\"text/html; charset=utf-8\" />\n",
      "    <meta name=\"viewport\" content=\"width=device-width, initial-scale=1\" />\n",
      "    <style type=\"text/css\">\n",
      "    body {\n",
      "        background-color: #f0f0f2;\n",
      "        margin: 0;\n",
      "        padding: 0;\n",
      "        font-family: -apple-system, system-ui, BlinkMacSystemFont, \"Segoe UI\", \"Open Sans\", \"Helvetica Neue\", Helvetica, Arial, sans-serif;\n",
      "        \n",
      "    }\n",
      "    div {\n",
      "        width: 600px;\n",
      "        margin: 5em auto;\n",
      "        padding: 2em;\n",
      "        background-color: #fdfdff;\n",
      "        border-radius: 0.5em;\n",
      "        box-shadow: 2px 3px 7px 2px rgba(0,0,0,0.02);\n",
      "    }\n",
      "    a:link, a:visited {\n",
      "        color: #38488f;\n",
      "        text-decoration: none;\n",
      "    }\n",
      "    @media (max-width: 700px) {\n",
      "        div {\n",
      "            margin: 0 auto;\n",
      "            width: auto;\n",
      "        }\n",
      "    }\n",
      "    </style>    \n",
      "</head>\n",
      "\n",
      "<body>\n",
      "<div>\n",
      "    <h1>Example Domain</h1>\n",
      "    <p>This domain is for use in illustrative examples in documents. You may use this\n",
      "    domain in literature without prior coordination or asking for permission.</p>\n",
      "    <p><a href=\"https://www.iana.org/domains/example\">More information...</a></p>\n",
      "</div>\n",
      "</body>\n",
      "</html>\n",
      "\n"
     ]
    }
   ],
   "source": [
    "print(r.text)"
   ]
  },
  {
   "cell_type": "code",
   "execution_count": 9,
   "metadata": {},
   "outputs": [],
   "source": [
    "from datetime import datetime\n",
    "\n",
    "# primer branja datoteke direktno iz url\n",
    "url = 'https://www.bsp-southpool.com/files/documents/trading/MarketResultsAuction.xlsx'\n",
    "resp = requests.get(url)\n",
    "\n",
    "if resp:\n",
    "    with open(f\"MarketResultsAuction_{datetime.now().date()}\", \"wb\") as output:\n",
    "        output.write(resp.content)\n"
   ]
  },
  {
   "cell_type": "markdown",
   "metadata": {},
   "source": [
    "## HTML and CSS"
   ]
  },
  {
   "cell_type": "markdown",
   "metadata": {},
   "source": [
    "### Hypertext Markup Language: HTML"
   ]
  },
  {
   "cell_type": "markdown",
   "metadata": {},
   "source": [
    "Link strani: https://en.wikipedia.org/w/index.php?title=List_of_Game_of_Thrones_episodes"
   ]
  },
  {
   "cell_type": "code",
   "execution_count": 10,
   "metadata": {},
   "outputs": [],
   "source": [
    "import requests\n",
    "\n",
    "url_got = 'https://en.wikipedia.org/wiki/List_of_Game_of_Thrones_episodes'\n",
    "r = requests.get(url_got)"
   ]
  },
  {
   "attachments": {},
   "cell_type": "markdown",
   "metadata": {},
   "source": [
    "Pandas omogoča avtomatsko parsanje html table-ov"
   ]
  },
  {
   "cell_type": "code",
   "execution_count": 11,
   "metadata": {},
   "outputs": [],
   "source": [
    "tables = pd.read_html(url_got)"
   ]
  },
  {
   "cell_type": "code",
   "execution_count": 12,
   "metadata": {},
   "outputs": [
    {
     "data": {
      "text/plain": [
       "18"
      ]
     },
     "execution_count": 12,
     "metadata": {},
     "output_type": "execute_result"
    }
   ],
   "source": [
    "type(tables) # list dataframeov v katerem se nahajajo vse tabele na spletni strani\n",
    "len(tables)"
   ]
  },
  {
   "cell_type": "code",
   "execution_count": 13,
   "metadata": {},
   "outputs": [
    {
     "data": {
      "text/html": [
       "<div>\n",
       "<style scoped>\n",
       "    .dataframe tbody tr th:only-of-type {\n",
       "        vertical-align: middle;\n",
       "    }\n",
       "\n",
       "    .dataframe tbody tr th {\n",
       "        vertical-align: top;\n",
       "    }\n",
       "\n",
       "    .dataframe thead th {\n",
       "        text-align: right;\n",
       "    }\n",
       "</style>\n",
       "<table border=\"1\" class=\"dataframe\">\n",
       "  <thead>\n",
       "    <tr style=\"text-align: right;\">\n",
       "      <th></th>\n",
       "      <th>No. in season</th>\n",
       "      <th>Title</th>\n",
       "      <th>Directed by</th>\n",
       "      <th>Written by</th>\n",
       "      <th>Original air date [20]</th>\n",
       "      <th>U.S. viewers (millions)</th>\n",
       "    </tr>\n",
       "    <tr>\n",
       "      <th>No. overall</th>\n",
       "      <th></th>\n",
       "      <th></th>\n",
       "      <th></th>\n",
       "      <th></th>\n",
       "      <th></th>\n",
       "      <th></th>\n",
       "    </tr>\n",
       "  </thead>\n",
       "  <tbody>\n",
       "    <tr>\n",
       "      <th>1</th>\n",
       "      <td>1</td>\n",
       "      <td>\"Winter Is Coming\"</td>\n",
       "      <td>Tim Van Patten</td>\n",
       "      <td>David Benioff &amp; D. B. Weiss</td>\n",
       "      <td>April 17, 2011</td>\n",
       "      <td>2.22[21]</td>\n",
       "    </tr>\n",
       "    <tr>\n",
       "      <th>2</th>\n",
       "      <td>2</td>\n",
       "      <td>\"The Kingsroad\"</td>\n",
       "      <td>Tim Van Patten</td>\n",
       "      <td>David Benioff &amp; D. B. Weiss</td>\n",
       "      <td>April 24, 2011</td>\n",
       "      <td>2.20[22]</td>\n",
       "    </tr>\n",
       "    <tr>\n",
       "      <th>3</th>\n",
       "      <td>3</td>\n",
       "      <td>\"Lord Snow\"</td>\n",
       "      <td>Brian Kirk</td>\n",
       "      <td>David Benioff &amp; D. B. Weiss</td>\n",
       "      <td>May 1, 2011</td>\n",
       "      <td>2.44[23]</td>\n",
       "    </tr>\n",
       "    <tr>\n",
       "      <th>4</th>\n",
       "      <td>4</td>\n",
       "      <td>\"Cripples, Bastards, and Broken Things\"</td>\n",
       "      <td>Brian Kirk</td>\n",
       "      <td>Bryan Cogman</td>\n",
       "      <td>May 8, 2011</td>\n",
       "      <td>2.45[24]</td>\n",
       "    </tr>\n",
       "    <tr>\n",
       "      <th>5</th>\n",
       "      <td>5</td>\n",
       "      <td>\"The Wolf and the Lion\"</td>\n",
       "      <td>Brian Kirk</td>\n",
       "      <td>David Benioff &amp; D. B. Weiss</td>\n",
       "      <td>May 15, 2011</td>\n",
       "      <td>2.58[25]</td>\n",
       "    </tr>\n",
       "    <tr>\n",
       "      <th>...</th>\n",
       "      <td>...</td>\n",
       "      <td>...</td>\n",
       "      <td>...</td>\n",
       "      <td>...</td>\n",
       "      <td>...</td>\n",
       "      <td>...</td>\n",
       "    </tr>\n",
       "    <tr>\n",
       "      <th>69</th>\n",
       "      <td>2</td>\n",
       "      <td>\"A Knight of the Seven Kingdoms\"</td>\n",
       "      <td>David Nutter</td>\n",
       "      <td>Bryan Cogman</td>\n",
       "      <td>April 21, 2019</td>\n",
       "      <td>10.29[89]</td>\n",
       "    </tr>\n",
       "    <tr>\n",
       "      <th>70</th>\n",
       "      <td>3</td>\n",
       "      <td>\"The Long Night\"</td>\n",
       "      <td>Miguel Sapochnik</td>\n",
       "      <td>David Benioff &amp; D. B. Weiss</td>\n",
       "      <td>April 28, 2019</td>\n",
       "      <td>12.02[90]</td>\n",
       "    </tr>\n",
       "    <tr>\n",
       "      <th>71</th>\n",
       "      <td>4</td>\n",
       "      <td>\"The Last of the Starks\"</td>\n",
       "      <td>David Nutter</td>\n",
       "      <td>David Benioff &amp; D. B. Weiss</td>\n",
       "      <td>May 5, 2019</td>\n",
       "      <td>11.80[91]</td>\n",
       "    </tr>\n",
       "    <tr>\n",
       "      <th>72</th>\n",
       "      <td>5</td>\n",
       "      <td>\"The Bells\"</td>\n",
       "      <td>Miguel Sapochnik</td>\n",
       "      <td>David Benioff &amp; D. B. Weiss</td>\n",
       "      <td>May 12, 2019</td>\n",
       "      <td>12.48[92]</td>\n",
       "    </tr>\n",
       "    <tr>\n",
       "      <th>73</th>\n",
       "      <td>6</td>\n",
       "      <td>\"The Iron Throne\"</td>\n",
       "      <td>David Benioff &amp; D. B. Weiss</td>\n",
       "      <td>David Benioff &amp; D. B. Weiss</td>\n",
       "      <td>May 19, 2019</td>\n",
       "      <td>13.61[93]</td>\n",
       "    </tr>\n",
       "  </tbody>\n",
       "</table>\n",
       "<p>73 rows × 6 columns</p>\n",
       "</div>"
      ],
      "text/plain": [
       "             No. in season                                    Title  \\\n",
       "No. overall                                                           \n",
       "1                        1                       \"Winter Is Coming\"   \n",
       "2                        2                          \"The Kingsroad\"   \n",
       "3                        3                              \"Lord Snow\"   \n",
       "4                        4  \"Cripples, Bastards, and Broken Things\"   \n",
       "5                        5                  \"The Wolf and the Lion\"   \n",
       "...                    ...                                      ...   \n",
       "69                       2         \"A Knight of the Seven Kingdoms\"   \n",
       "70                       3                         \"The Long Night\"   \n",
       "71                       4                 \"The Last of the Starks\"   \n",
       "72                       5                              \"The Bells\"   \n",
       "73                       6                        \"The Iron Throne\"   \n",
       "\n",
       "                             Directed by                   Written by  \\\n",
       "No. overall                                                             \n",
       "1                         Tim Van Patten  David Benioff & D. B. Weiss   \n",
       "2                         Tim Van Patten  David Benioff & D. B. Weiss   \n",
       "3                             Brian Kirk  David Benioff & D. B. Weiss   \n",
       "4                             Brian Kirk                 Bryan Cogman   \n",
       "5                             Brian Kirk  David Benioff & D. B. Weiss   \n",
       "...                                  ...                          ...   \n",
       "69                          David Nutter                 Bryan Cogman   \n",
       "70                      Miguel Sapochnik  David Benioff & D. B. Weiss   \n",
       "71                          David Nutter  David Benioff & D. B. Weiss   \n",
       "72                      Miguel Sapochnik  David Benioff & D. B. Weiss   \n",
       "73           David Benioff & D. B. Weiss  David Benioff & D. B. Weiss   \n",
       "\n",
       "            Original air date [20] U.S. viewers (millions)  \n",
       "No. overall                                                 \n",
       "1                   April 17, 2011                2.22[21]  \n",
       "2                   April 24, 2011                2.20[22]  \n",
       "3                      May 1, 2011                2.44[23]  \n",
       "4                      May 8, 2011                2.45[24]  \n",
       "5                     May 15, 2011                2.58[25]  \n",
       "...                            ...                     ...  \n",
       "69                  April 21, 2019               10.29[89]  \n",
       "70                  April 28, 2019               12.02[90]  \n",
       "71                     May 5, 2019               11.80[91]  \n",
       "72                    May 12, 2019               12.48[92]  \n",
       "73                    May 19, 2019               13.61[93]  \n",
       "\n",
       "[73 rows x 6 columns]"
      ]
     },
     "execution_count": 13,
     "metadata": {},
     "output_type": "execute_result"
    }
   ],
   "source": [
    "episodes = pd.concat(tables[1:9])\n",
    "episodes.head(20)\n",
    "episodes.set_index(\"No. overall\")"
   ]
  },
  {
   "cell_type": "code",
   "execution_count": 14,
   "metadata": {},
   "outputs": [],
   "source": [
    "episodes[\"U.S. viewers (millions)\"] = episodes[\"U.S. viewers (millions)\"].str.replace(r\"\\[.+\\]\", \"\", regex=True).astype(float)\n"
   ]
  },
  {
   "cell_type": "code",
   "execution_count": 15,
   "metadata": {},
   "outputs": [
    {
     "data": {
      "text/html": [
       "<div>\n",
       "<style scoped>\n",
       "    .dataframe tbody tr th:only-of-type {\n",
       "        vertical-align: middle;\n",
       "    }\n",
       "\n",
       "    .dataframe tbody tr th {\n",
       "        vertical-align: top;\n",
       "    }\n",
       "\n",
       "    .dataframe thead th {\n",
       "        text-align: right;\n",
       "    }\n",
       "</style>\n",
       "<table border=\"1\" class=\"dataframe\">\n",
       "  <thead>\n",
       "    <tr style=\"text-align: right;\">\n",
       "      <th></th>\n",
       "      <th>No. overall</th>\n",
       "      <th>No. in season</th>\n",
       "      <th>Title</th>\n",
       "      <th>Directed by</th>\n",
       "      <th>Written by</th>\n",
       "      <th>Original air date [20]</th>\n",
       "      <th>U.S. viewers (millions)</th>\n",
       "    </tr>\n",
       "  </thead>\n",
       "  <tbody>\n",
       "    <tr>\n",
       "      <th>0</th>\n",
       "      <td>1</td>\n",
       "      <td>1</td>\n",
       "      <td>\"Winter Is Coming\"</td>\n",
       "      <td>Tim Van Patten</td>\n",
       "      <td>David Benioff &amp; D. B. Weiss</td>\n",
       "      <td>April 17, 2011</td>\n",
       "      <td>2.22</td>\n",
       "    </tr>\n",
       "    <tr>\n",
       "      <th>1</th>\n",
       "      <td>2</td>\n",
       "      <td>2</td>\n",
       "      <td>\"The Kingsroad\"</td>\n",
       "      <td>Tim Van Patten</td>\n",
       "      <td>David Benioff &amp; D. B. Weiss</td>\n",
       "      <td>April 24, 2011</td>\n",
       "      <td>2.20</td>\n",
       "    </tr>\n",
       "    <tr>\n",
       "      <th>2</th>\n",
       "      <td>3</td>\n",
       "      <td>3</td>\n",
       "      <td>\"Lord Snow\"</td>\n",
       "      <td>Brian Kirk</td>\n",
       "      <td>David Benioff &amp; D. B. Weiss</td>\n",
       "      <td>May 1, 2011</td>\n",
       "      <td>2.44</td>\n",
       "    </tr>\n",
       "    <tr>\n",
       "      <th>3</th>\n",
       "      <td>4</td>\n",
       "      <td>4</td>\n",
       "      <td>\"Cripples, Bastards, and Broken Things\"</td>\n",
       "      <td>Brian Kirk</td>\n",
       "      <td>Bryan Cogman</td>\n",
       "      <td>May 8, 2011</td>\n",
       "      <td>2.45</td>\n",
       "    </tr>\n",
       "    <tr>\n",
       "      <th>4</th>\n",
       "      <td>5</td>\n",
       "      <td>5</td>\n",
       "      <td>\"The Wolf and the Lion\"</td>\n",
       "      <td>Brian Kirk</td>\n",
       "      <td>David Benioff &amp; D. B. Weiss</td>\n",
       "      <td>May 15, 2011</td>\n",
       "      <td>2.58</td>\n",
       "    </tr>\n",
       "    <tr>\n",
       "      <th>...</th>\n",
       "      <td>...</td>\n",
       "      <td>...</td>\n",
       "      <td>...</td>\n",
       "      <td>...</td>\n",
       "      <td>...</td>\n",
       "      <td>...</td>\n",
       "      <td>...</td>\n",
       "    </tr>\n",
       "    <tr>\n",
       "      <th>1</th>\n",
       "      <td>69</td>\n",
       "      <td>2</td>\n",
       "      <td>\"A Knight of the Seven Kingdoms\"</td>\n",
       "      <td>David Nutter</td>\n",
       "      <td>Bryan Cogman</td>\n",
       "      <td>April 21, 2019</td>\n",
       "      <td>10.29</td>\n",
       "    </tr>\n",
       "    <tr>\n",
       "      <th>2</th>\n",
       "      <td>70</td>\n",
       "      <td>3</td>\n",
       "      <td>\"The Long Night\"</td>\n",
       "      <td>Miguel Sapochnik</td>\n",
       "      <td>David Benioff &amp; D. B. Weiss</td>\n",
       "      <td>April 28, 2019</td>\n",
       "      <td>12.02</td>\n",
       "    </tr>\n",
       "    <tr>\n",
       "      <th>3</th>\n",
       "      <td>71</td>\n",
       "      <td>4</td>\n",
       "      <td>\"The Last of the Starks\"</td>\n",
       "      <td>David Nutter</td>\n",
       "      <td>David Benioff &amp; D. B. Weiss</td>\n",
       "      <td>May 5, 2019</td>\n",
       "      <td>11.80</td>\n",
       "    </tr>\n",
       "    <tr>\n",
       "      <th>4</th>\n",
       "      <td>72</td>\n",
       "      <td>5</td>\n",
       "      <td>\"The Bells\"</td>\n",
       "      <td>Miguel Sapochnik</td>\n",
       "      <td>David Benioff &amp; D. B. Weiss</td>\n",
       "      <td>May 12, 2019</td>\n",
       "      <td>12.48</td>\n",
       "    </tr>\n",
       "    <tr>\n",
       "      <th>5</th>\n",
       "      <td>73</td>\n",
       "      <td>6</td>\n",
       "      <td>\"The Iron Throne\"</td>\n",
       "      <td>David Benioff &amp; D. B. Weiss</td>\n",
       "      <td>David Benioff &amp; D. B. Weiss</td>\n",
       "      <td>May 19, 2019</td>\n",
       "      <td>13.61</td>\n",
       "    </tr>\n",
       "  </tbody>\n",
       "</table>\n",
       "<p>73 rows × 7 columns</p>\n",
       "</div>"
      ],
      "text/plain": [
       "    No. overall  No. in season                                    Title  \\\n",
       "0             1              1                       \"Winter Is Coming\"   \n",
       "1             2              2                          \"The Kingsroad\"   \n",
       "2             3              3                              \"Lord Snow\"   \n",
       "3             4              4  \"Cripples, Bastards, and Broken Things\"   \n",
       "4             5              5                  \"The Wolf and the Lion\"   \n",
       "..          ...            ...                                      ...   \n",
       "1            69              2         \"A Knight of the Seven Kingdoms\"   \n",
       "2            70              3                         \"The Long Night\"   \n",
       "3            71              4                 \"The Last of the Starks\"   \n",
       "4            72              5                              \"The Bells\"   \n",
       "5            73              6                        \"The Iron Throne\"   \n",
       "\n",
       "                    Directed by                   Written by  \\\n",
       "0                Tim Van Patten  David Benioff & D. B. Weiss   \n",
       "1                Tim Van Patten  David Benioff & D. B. Weiss   \n",
       "2                    Brian Kirk  David Benioff & D. B. Weiss   \n",
       "3                    Brian Kirk                 Bryan Cogman   \n",
       "4                    Brian Kirk  David Benioff & D. B. Weiss   \n",
       "..                          ...                          ...   \n",
       "1                  David Nutter                 Bryan Cogman   \n",
       "2              Miguel Sapochnik  David Benioff & D. B. Weiss   \n",
       "3                  David Nutter  David Benioff & D. B. Weiss   \n",
       "4              Miguel Sapochnik  David Benioff & D. B. Weiss   \n",
       "5   David Benioff & D. B. Weiss  David Benioff & D. B. Weiss   \n",
       "\n",
       "   Original air date [20]  U.S. viewers (millions)  \n",
       "0          April 17, 2011                     2.22  \n",
       "1          April 24, 2011                     2.20  \n",
       "2             May 1, 2011                     2.44  \n",
       "3             May 8, 2011                     2.45  \n",
       "4            May 15, 2011                     2.58  \n",
       "..                    ...                      ...  \n",
       "1          April 21, 2019                    10.29  \n",
       "2          April 28, 2019                    12.02  \n",
       "3             May 5, 2019                    11.80  \n",
       "4            May 12, 2019                    12.48  \n",
       "5            May 19, 2019                    13.61  \n",
       "\n",
       "[73 rows x 7 columns]"
      ]
     },
     "execution_count": 15,
     "metadata": {},
     "output_type": "execute_result"
    }
   ],
   "source": [
    "episodes"
   ]
  },
  {
   "cell_type": "code",
   "execution_count": 16,
   "metadata": {},
   "outputs": [
    {
     "data": {
      "image/png": "[encoded data removed]",
      "text/plain": [
       "<Figure size 640x480 with 1 Axes>"
      ]
     },
     "metadata": {},
     "output_type": "display_data"
    }
   ],
   "source": [
    "import matplotlib.pyplot as plt\n",
    "episodes.plot(x=\"No. overall\", y=\"U.S. viewers (millions)\")\n",
    "plt.show()"
   ]
  },
  {
   "cell_type": "markdown",
   "metadata": {},
   "source": [
    "- `<p>...</p>` to enclose a paragraph;\n",
    "- `<br>` to set a line break;\n",
    "- `<table>...</table>` to start a table block, inside; `<tr>...<tr/>` is used for the rows; and `<td>...</td>` cells;\n",
    "- `<img>` for images;\n",
    "- `<h1>...</h1> to <h6>...</h6>` for headers;\n",
    "- `<div>...</div>` to indicate a “division” in an HTML document, basically used to group a set of elements;\n",
    "- `<a>...</a>` for hyperlinks;\n",
    "- `<ul>...</ul>, <ol>...</ol>` for unordered and ordered lists respectively; inside of these, `<li>...</li>` is used for each list item."
   ]
  },
  {
   "cell_type": "markdown",
   "metadata": {},
   "source": [
    "## Using Your Browser as a Development Tool"
   ]
  },
  {
   "cell_type": "markdown",
   "metadata": {},
   "source": [
    "## The Beautiful Soup Library"
   ]
  },
  {
   "cell_type": "code",
   "execution_count": 38,
   "metadata": {},
   "outputs": [],
   "source": [
    "from bs4 import BeautifulSoup"
   ]
  },
  {
   "cell_type": "code",
   "execution_count": 39,
   "metadata": {},
   "outputs": [],
   "source": [
    "import requests\n",
    "url = 'https://developer.mozilla.org/en-US/docs/Web/HTTP/Status'\n",
    "r = requests.get(url)\n",
    "html_soup = BeautifulSoup(r.text, \"lxml\")"
   ]
  },
  {
   "cell_type": "code",
   "execution_count": 40,
   "metadata": {},
   "outputs": [
    {
     "data": {
      "text/plain": [
       "bs4.BeautifulSoup"
      ]
     },
     "execution_count": 40,
     "metadata": {},
     "output_type": "execute_result"
    }
   ],
   "source": [
    "type(html_soup)"
   ]
  },
  {
   "cell_type": "code",
   "execution_count": 65,
   "metadata": {},
   "outputs": [
    {
     "data": {
      "text/html": [
       "<div>\n",
       "<style scoped>\n",
       "    .dataframe tbody tr th:only-of-type {\n",
       "        vertical-align: middle;\n",
       "    }\n",
       "\n",
       "    .dataframe tbody tr th {\n",
       "        vertical-align: top;\n",
       "    }\n",
       "\n",
       "    .dataframe thead th {\n",
       "        text-align: right;\n",
       "    }\n",
       "</style>\n",
       "<table border=\"1\" class=\"dataframe\">\n",
       "  <thead>\n",
       "    <tr style=\"text-align: right;\">\n",
       "      <th></th>\n",
       "      <th>status_code</th>\n",
       "      <th>reason</th>\n",
       "      <th>description</th>\n",
       "    </tr>\n",
       "  </thead>\n",
       "  <tbody>\n",
       "    <tr>\n",
       "      <th>0</th>\n",
       "      <td>100</td>\n",
       "      <td>Continue</td>\n",
       "      <td>This interim response indicates that the clien...</td>\n",
       "    </tr>\n",
       "    <tr>\n",
       "      <th>1</th>\n",
       "      <td>101</td>\n",
       "      <td>Switching</td>\n",
       "      <td>This code is sent in response to an Upgrade re...</td>\n",
       "    </tr>\n",
       "    <tr>\n",
       "      <th>2</th>\n",
       "      <td>102</td>\n",
       "      <td>Processing</td>\n",
       "      <td>This code indicates that the server has receiv...</td>\n",
       "    </tr>\n",
       "    <tr>\n",
       "      <th>3</th>\n",
       "      <td>103</td>\n",
       "      <td>Early</td>\n",
       "      <td>This status code is primarily intended to be u...</td>\n",
       "    </tr>\n",
       "    <tr>\n",
       "      <th>4</th>\n",
       "      <td>200</td>\n",
       "      <td>OK</td>\n",
       "      <td>The request succeeded. The result meaning of \"...</td>\n",
       "    </tr>\n",
       "    <tr>\n",
       "      <th>...</th>\n",
       "      <td>...</td>\n",
       "      <td>...</td>\n",
       "      <td>...</td>\n",
       "    </tr>\n",
       "    <tr>\n",
       "      <th>58</th>\n",
       "      <td>506</td>\n",
       "      <td>Variant</td>\n",
       "      <td>The server has an internal configuration error...</td>\n",
       "    </tr>\n",
       "    <tr>\n",
       "      <th>59</th>\n",
       "      <td>507</td>\n",
       "      <td>Insufficient</td>\n",
       "      <td>The method could not be performed on the resou...</td>\n",
       "    </tr>\n",
       "    <tr>\n",
       "      <th>60</th>\n",
       "      <td>508</td>\n",
       "      <td>Loop</td>\n",
       "      <td>The server detected an infinite loop while pro...</td>\n",
       "    </tr>\n",
       "    <tr>\n",
       "      <th>61</th>\n",
       "      <td>510</td>\n",
       "      <td>Not</td>\n",
       "      <td>Further extensions to the request are required...</td>\n",
       "    </tr>\n",
       "    <tr>\n",
       "      <th>62</th>\n",
       "      <td>511</td>\n",
       "      <td>Network</td>\n",
       "      <td>Indicates that the client needs to authenticat...</td>\n",
       "    </tr>\n",
       "  </tbody>\n",
       "</table>\n",
       "<p>63 rows × 3 columns</p>\n",
       "</div>"
      ],
      "text/plain": [
       "   status_code        reason  \\\n",
       "0          100      Continue   \n",
       "1          101     Switching   \n",
       "2          102    Processing   \n",
       "3          103         Early   \n",
       "4          200            OK   \n",
       "..         ...           ...   \n",
       "58         506       Variant   \n",
       "59         507  Insufficient   \n",
       "60         508          Loop   \n",
       "61         510           Not   \n",
       "62         511       Network   \n",
       "\n",
       "                                          description  \n",
       "0   This interim response indicates that the clien...  \n",
       "1   This code is sent in response to an Upgrade re...  \n",
       "2   This code indicates that the server has receiv...  \n",
       "3   This status code is primarily intended to be u...  \n",
       "4   The request succeeded. The result meaning of \"...  \n",
       "..                                                ...  \n",
       "58  The server has an internal configuration error...  \n",
       "59  The method could not be performed on the resou...  \n",
       "60  The server detected an infinite loop while pro...  \n",
       "61  Further extensions to the request are required...  \n",
       "62  Indicates that the client needs to authenticat...  \n",
       "\n",
       "[63 rows x 3 columns]"
      ]
     },
     "execution_count": 65,
     "metadata": {},
     "output_type": "execute_result"
    }
   ],
   "source": [
    "sections = html_soup.find_all(\"section\")\n",
    "# ko pregledamo zgornji rezultat vidimo da nas zanima seznam od 2:7\n",
    "sections = sections[2:7]\n",
    "\n",
    "my_status_codes = []\n",
    "\n",
    "for section in sections:\n",
    "    elements = section.find(\"dl\") # metoda find vrne prvi element\n",
    "    dts = elements.find_all(\"dt\")\n",
    "    dds = elements.find_all(\"dd\")\n",
    "    for dt, dd in zip(dts,dds):\n",
    "        code_metadata = {}\n",
    "        code_metadata[\"status_code\"] = dt.find(\"code\").text.split()[0]\n",
    "        code_metadata[\"reason\"] = dt.find(\"code\").text.split()[1]\n",
    "        code_metadata[\"description\"] = dd.find(\"p\").text\n",
    "        my_status_codes.append(code_metadata)\n",
    "\n",
    "pd.DataFrame(my_status_codes)"
   ]
  },
  {
   "cell_type": "code",
   "execution_count": null,
   "metadata": {},
   "outputs": [],
   "source": [
    "html_soup.fetchNextSiblings"
   ]
  },
  {
   "attachments": {},
   "cell_type": "markdown",
   "metadata": {},
   "source": [
    "## Posebni primeri (frameworks)\n",
    "\n",
    "Request knjižnica ne podpira JS strani, ki so npr narejene na nekih FW (React, Angular, ...). Za te primere rabimo posebne knjižnice (Robot, Selenium...), kar presega obseg tega tečaja."
   ]
  },
  {
   "cell_type": "markdown",
   "metadata": {},
   "source": [
    "## Web APIs"
   ]
  },
  {
   "cell_type": "markdown",
   "metadata": {},
   "source": [
    "### Primer uporabe APIja"
   ]
  },
  {
   "cell_type": "code",
   "execution_count": 102,
   "metadata": {},
   "outputs": [
    {
     "name": "stdout",
     "output_type": "stream",
     "text": [
      "Getting data from https://opendata.si/promet/bicikelj/list/\n",
      "Getting data from https://opendata.si/promet/bicikelj/list/\n",
      "Getting data from https://opendata.si/promet/bicikelj/list/\n",
      "Getting data from https://opendata.si/promet/bicikelj/list/\n",
      "Getting data from https://opendata.si/promet/bicikelj/list/\n",
      "Getting data from https://opendata.si/promet/bicikelj/list/\n",
      "Getting data from https://opendata.si/promet/bicikelj/list/\n",
      "Getting data from https://opendata.si/promet/bicikelj/list/\n",
      "Getting data from https://opendata.si/promet/bicikelj/list/\n",
      "Getting data from https://opendata.si/promet/bicikelj/list/\n"
     ]
    }
   ],
   "source": [
    "from typing import Dict\n",
    "from datetime import datetime\n",
    "import os\n",
    "import time\n",
    "\n",
    "bicikelj_url = \"https://opendata.si/promet/bicikelj/list/\"\n",
    "\n",
    "def get_data(url:str) -> Dict:\n",
    "    data = requests.get(url)\n",
    "    if data.status_code == 200:\n",
    "        print(f\"Getting data from {url}\")\n",
    "        return data.json()\n",
    "    else:\n",
    "        return {}\n",
    "\n",
    "def extract_timesstamp_from_data(data:Dict) -> datetime:\n",
    "    updated = data[\"updated\"]\n",
    "    updated = datetime.fromtimestamp(updated)\n",
    "    return updated\n",
    "\n",
    "def exctract_station_data(data:Dict) -> Dict:\n",
    "    all_data = {}\n",
    "    for _, station_data in data[\"markers\"].items():\n",
    "        station_name = station_data[\"name\"].lower().replace(\" \",\"_\").replace(\"-\", \"_\").replace(\".\", \"\")\n",
    "        available_percentage =  round(int(station_data[\"station\"][\"available\"]) / int(station_data[\"station\"][\"total\"]),2)*100\n",
    "        all_data[station_name] = available_percentage\n",
    "    return all_data\n",
    "        # print(station_data)\n",
    "        # print(station_name)\n",
    "        # print(f\"{available_percentage}%\")\n",
    "        # print(\"----------------\")\n",
    "\n",
    "for _ in range(10):\n",
    "    bicikelj_data = get_data(bicikelj_url)\n",
    "    last_updated_datetime = extract_timesstamp_from_data(bicikelj_data)\n",
    "    # print(f\"Last time updated:{last_updated_datetime}\")\n",
    "    parsed_data = pd.DataFrame(exctract_station_data(bicikelj_data), index=[last_updated_datetime])\n",
    "    parsed_data.to_csv(\"data/bicikelj.csv\", mode=\"a\", header=not os.path.exists(\"data/bicikelj.csv\")) # header naredi samo če še ne obstaja file\n",
    "    time.sleep(10)\n",
    "\n"
   ]
  },
  {
   "attachments": {},
   "cell_type": "markdown",
   "metadata": {},
   "source": [
    "### primer - hacker news"
   ]
  },
  {
   "cell_type": "code",
   "execution_count": 23,
   "metadata": {},
   "outputs": [],
   "source": [
    "import requests"
   ]
  },
  {
   "cell_type": "code",
   "execution_count": 24,
   "metadata": {},
   "outputs": [],
   "source": [
    "articles = []"
   ]
  },
  {
   "cell_type": "code",
   "execution_count": 25,
   "metadata": {},
   "outputs": [],
   "source": [
    "url = 'https://hacker-news.firebaseio.com/v0'\n",
    "top_stories = requests.get(url + '/topstories.json?print=pretty')"
   ]
  },
  {
   "cell_type": "code",
   "execution_count": 26,
   "metadata": {},
   "outputs": [],
   "source": [
    "# top_stories.text"
   ]
  },
  {
   "cell_type": "code",
   "execution_count": 27,
   "metadata": {},
   "outputs": [],
   "source": [
    "top_stories = top_stories.json()"
   ]
  },
  {
   "cell_type": "markdown",
   "metadata": {},
   "source": [
    "## Import data from web - pandas"
   ]
  },
  {
   "cell_type": "markdown",
   "metadata": {},
   "source": [
    "##### [Odprti podatki Slovenije](https://podatki.gov.si/)\n",
    "\n",
    "\n",
    "Na portalu OPSI boste našli vse od podatkov, orodij, do koristnih virov, s katerimi boste lahko razvijali spletne in mobilne aplikacije, oblikovali lastne infografike in drugo"
   ]
  },
  {
   "cell_type": "code",
   "execution_count": 28,
   "metadata": {},
   "outputs": [],
   "source": [
    "data = pd.read_csv('https://raw.githubusercontent.com/codeforamerica/ohana-api/master/data/sample-csv/addresses.csv')\n",
    "\n",
    "\n"
   ]
  },
  {
   "cell_type": "markdown",
   "metadata": {},
   "source": [
    "## Web Scraping using pandas"
   ]
  },
  {
   "cell_type": "markdown",
   "metadata": {},
   "source": [
    "> Spletna stran: https://www.fdic.gov/resources/resolutions/bank-failures/failed-bank-list/"
   ]
  },
  {
   "cell_type": "code",
   "execution_count": 29,
   "metadata": {},
   "outputs": [],
   "source": [
    "tables = pd.read_html('https://www.fdic.gov/resources/resolutions/bank-failures/failed-bank-list/')"
   ]
  },
  {
   "cell_type": "markdown",
   "metadata": {},
   "source": [
    "### Primer: Wiki"
   ]
  },
  {
   "cell_type": "code",
   "execution_count": 30,
   "metadata": {},
   "outputs": [],
   "source": [
    "tables = pd.read_html('https://en.wikipedia.org/w/index.php?title=List_of_Game_of_Thrones_episodes')"
   ]
  },
  {
   "cell_type": "code",
   "execution_count": 31,
   "metadata": {},
   "outputs": [],
   "source": [
    "episodes = pd.concat(tables[1:9])\n",
    "episodes.columns = [\"no_overall\", \"no_in_season\", \"title\", \"directed_by\", \"written_by\", \"original_air_date\", \"us_viewers\"]"
   ]
  },
  {
   "cell_type": "markdown",
   "metadata": {},
   "source": [
    "## Primeri"
   ]
  },
  {
   "cell_type": "markdown",
   "metadata": {},
   "source": [
    "### Scraping and Visualizing IMDB Ratings"
   ]
  },
  {
   "cell_type": "code",
   "execution_count": 32,
   "metadata": {},
   "outputs": [],
   "source": [
    "import requests\n",
    "from bs4 import BeautifulSoup\n",
    "url = 'http://www.imdb.com/title/tt0944947/episodes'\n",
    "# https://www.imdb.com/title/tt0944947/episodes?season=2 -> spreminjaj sezono v url-ju"
   ]
  },
  {
   "cell_type": "code",
   "execution_count": 33,
   "metadata": {
    "scrolled": true
   },
   "outputs": [],
   "source": [
    "episodes = []\n",
    "ratings = []"
   ]
  }
 ],
 "metadata": {
  "kernelspec": {
   "display_name": ".venv",
   "language": "python",
   "name": "python3"
  },
  "language_info": {
   "codemirror_mode": {
    "name": "ipython",
    "version": 3
   },
   "file_extension": ".py",
   "mimetype": "text/x-python",
   "name": "python",
   "nbconvert_exporter": "python",
   "pygments_lexer": "ipython3",
   "version": "3.10.6"
  },
  "vscode": {
   "interpreter": {
    "hash": "cbf2b35920b8f58b83b74e4d1f8b932a1c2b0c952bcdcc37bfc1d33306669067"
   }
  }
 },
 "nbformat": 4,
 "nbformat_minor": 2
}
