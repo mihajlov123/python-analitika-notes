{
 "cells": [
  {
   "cell_type": "markdown",
   "metadata": {},
   "source": [
    "# DN - uvoz podatkov"
   ]
  },
  {
   "cell_type": "code",
   "execution_count": 1,
   "metadata": {},
   "outputs": [],
   "source": [
    "import pandas as pd\n",
    "import numpy as np"
   ]
  },
  {
   "cell_type": "markdown",
   "metadata": {},
   "source": [
    "## Naloga 1\n",
    "\n",
    "Branje txt datoteke.\n",
    "\n",
    "Preberi vse vrstice datoteke `vaja1_in.txt` in jih zapiši v datoteko `vaja1_out.txt` v urejenem vrstnem redu, tako da so najkrajše vrstice spredaj. (zavrzi vse vrstice z dolžino 0)"
   ]
  },
  {
   "cell_type": "code",
   "execution_count": 1,
   "metadata": {},
   "outputs": [
    {
     "name": "stderr",
     "output_type": "stream",
     "text": [
      "'cat' is not recognized as an internal or external command,\n",
      "operable program or batch file.\n"
     ]
    }
   ],
   "source": [
    "# !cat data/vaja1_in.txt"
   ]
  },
  {
   "cell_type": "code",
   "execution_count": 38,
   "metadata": {},
   "outputs": [],
   "source": [
    "# Rešitev\n",
    "with open('data/vaja1_in.txt', encoding='utf-8') as f:\n",
    "    data_raw = f.readlines()\n",
    "    data_f = [item for item in data_raw if len(item) > 1] # dirty fix -> kako prebereš, da omitaš vse special char \\n, \\t\n",
    "    data_sorted = sorted(data_f, key=len)\n",
    "\n",
    "with open('data/vaja1_out.txt', 'w') as f:\n",
    "    for line in data_sorted:\n",
    "        f.write(line)\n"
   ]
  },
  {
   "cell_type": "markdown",
   "metadata": {},
   "source": [
    "## Naloga 2\n",
    "\n",
    "pandas - branje csv datoteke.\n",
    "\n",
    "Preberi `titanic_sub.csv` v s pomočjo `pandas.read_csv(...)` funkcije in izpišite zadnje 3 vrstice podatkov. Poskrbite, da preberete samo stolpce z imenom `Sex`, `Age` in `Fare` (v tem vrstnem redu).\n",
    "\n",
    "Vse to naj bo storjeno v eni sami vrstici!"
   ]
  },
  {
   "cell_type": "code",
   "execution_count": 44,
   "metadata": {},
   "outputs": [
    {
     "data": {
      "text/html": [
       "<div>\n",
       "<style scoped>\n",
       "    .dataframe tbody tr th:only-of-type {\n",
       "        vertical-align: middle;\n",
       "    }\n",
       "\n",
       "    .dataframe tbody tr th {\n",
       "        vertical-align: top;\n",
       "    }\n",
       "\n",
       "    .dataframe thead th {\n",
       "        text-align: right;\n",
       "    }\n",
       "</style>\n",
       "<table border=\"1\" class=\"dataframe\">\n",
       "  <thead>\n",
       "    <tr style=\"text-align: right;\">\n",
       "      <th></th>\n",
       "      <th>Sex</th>\n",
       "      <th>Age</th>\n",
       "      <th>Fare</th>\n",
       "    </tr>\n",
       "  </thead>\n",
       "  <tbody>\n",
       "    <tr>\n",
       "      <th>888</th>\n",
       "      <td>female</td>\n",
       "      <td>NaN</td>\n",
       "      <td>23.45</td>\n",
       "    </tr>\n",
       "    <tr>\n",
       "      <th>889</th>\n",
       "      <td>male</td>\n",
       "      <td>26.0</td>\n",
       "      <td>30.00</td>\n",
       "    </tr>\n",
       "    <tr>\n",
       "      <th>890</th>\n",
       "      <td>male</td>\n",
       "      <td>32.0</td>\n",
       "      <td>7.75</td>\n",
       "    </tr>\n",
       "  </tbody>\n",
       "</table>\n",
       "</div>"
      ],
      "text/plain": [
       "        Sex   Age   Fare\n",
       "888  female   NaN  23.45\n",
       "889    male  26.0  30.00\n",
       "890    male  32.0   7.75"
      ]
     },
     "execution_count": 44,
     "metadata": {},
     "output_type": "execute_result"
    }
   ],
   "source": [
    "# Rešitev\n",
    "import pandas as pd\n",
    "df = pd.read_csv(\"./data/titanic_sub.csv\", usecols=['Sex', 'Age', 'Fare'])\n",
    "df.tail(3)\n",
    "\n"
   ]
  },
  {
   "cell_type": "markdown",
   "metadata": {},
   "source": [
    "## Naloga 3\n",
    "\n",
    "pandas - branje json datoteke\n",
    "\n",
    "Preberi `vaja3.json` datoteko, tako da bodo `Oseba-?` navedene kot indeksi, ime, priimek in pa študij pa bodo podatkovni stolpci.\n",
    "\n",
    "Izpišite DataFrame tabelo."
   ]
  },
  {
   "cell_type": "code",
   "execution_count": 69,
   "metadata": {},
   "outputs": [
    {
     "data": {
      "text/html": [
       "<div>\n",
       "<style scoped>\n",
       "    .dataframe tbody tr th:only-of-type {\n",
       "        vertical-align: middle;\n",
       "    }\n",
       "\n",
       "    .dataframe tbody tr th {\n",
       "        vertical-align: top;\n",
       "    }\n",
       "\n",
       "    .dataframe thead th {\n",
       "        text-align: right;\n",
       "    }\n",
       "</style>\n",
       "<table border=\"1\" class=\"dataframe\">\n",
       "  <thead>\n",
       "    <tr style=\"text-align: right;\">\n",
       "      <th></th>\n",
       "      <th>ime</th>\n",
       "      <th>priimek</th>\n",
       "      <th>študij</th>\n",
       "    </tr>\n",
       "    <tr>\n",
       "      <th>oseba</th>\n",
       "      <th></th>\n",
       "      <th></th>\n",
       "      <th></th>\n",
       "    </tr>\n",
       "  </thead>\n",
       "  <tbody>\n",
       "    <tr>\n",
       "      <th>Oseba-1</th>\n",
       "      <td>Anže</td>\n",
       "      <td>Glušič</td>\n",
       "      <td>FRI</td>\n",
       "    </tr>\n",
       "    <tr>\n",
       "      <th>Oseba-2</th>\n",
       "      <td>Leon</td>\n",
       "      <td>Štefanič Južnič</td>\n",
       "      <td>FE</td>\n",
       "    </tr>\n",
       "    <tr>\n",
       "      <th>Oseba-3</th>\n",
       "      <td>Grega</td>\n",
       "      <td>Balkovec</td>\n",
       "      <td>FS</td>\n",
       "    </tr>\n",
       "    <tr>\n",
       "      <th>Oseba-4</th>\n",
       "      <td>Janez</td>\n",
       "      <td>Gliha</td>\n",
       "      <td>FMF</td>\n",
       "    </tr>\n",
       "    <tr>\n",
       "      <th>Oseba-5</th>\n",
       "      <td>Nika</td>\n",
       "      <td>Bogataj</td>\n",
       "      <td>FE</td>\n",
       "    </tr>\n",
       "    <tr>\n",
       "      <th>Oseba-6</th>\n",
       "      <td>Luka</td>\n",
       "      <td>Primožič</td>\n",
       "      <td>FRI</td>\n",
       "    </tr>\n",
       "    <tr>\n",
       "      <th>Oseba-7</th>\n",
       "      <td>Plona</td>\n",
       "      <td>Hudoklin</td>\n",
       "      <td>FS</td>\n",
       "    </tr>\n",
       "  </tbody>\n",
       "</table>\n",
       "</div>"
      ],
      "text/plain": [
       "           ime          priimek študij\n",
       "oseba                                 \n",
       "Oseba-1   Anže           Glušič    FRI\n",
       "Oseba-2   Leon  Štefanič Južnič     FE\n",
       "Oseba-3  Grega         Balkovec     FS\n",
       "Oseba-4  Janez            Gliha    FMF\n",
       "Oseba-5   Nika          Bogataj     FE\n",
       "Oseba-6   Luka         Primožič    FRI\n",
       "Oseba-7  Plona         Hudoklin     FS"
      ]
     },
     "execution_count": 69,
     "metadata": {},
     "output_type": "execute_result"
    }
   ],
   "source": [
    "# Rešitev\n",
    "df = pd.read_json(\"./data/vaja3.json\", orient=\"index\")\n",
    "df.index.rename(\"oseba\", inplace=True)\n",
    "df"
   ]
  },
  {
   "cell_type": "markdown",
   "metadata": {},
   "source": [
    "## Naloga 4\n",
    "\n",
    "pandas - branje json datoteke.\n",
    "\n",
    "Datoteko `vaja3.json` preberite v DataFrame in izpišite vrednosti uporabljene v stolpcu `študij` (brez ponavljanja)."
   ]
  },
  {
   "cell_type": "code",
   "execution_count": 90,
   "metadata": {},
   "outputs": [
    {
     "name": "stdout",
     "output_type": "stream",
     "text": [
      "['FRI' 'FE' 'FS' 'FMF']\n"
     ]
    }
   ],
   "source": [
    "# Rešitev\n",
    "df = pd.read_json(\"./data/vaja3.json\", orient=\"index\")\n",
    "studiji = df[\"študij\"].unique()\n",
    "print(studiji)"
   ]
  },
  {
   "cell_type": "markdown",
   "metadata": {},
   "source": [
    "## Naloga 5\n",
    "\n",
    "pandas - branje excel datoteke.\n",
    "\n",
    "Preberite `battledeath.xlsx` datoteko v DataFrame in izpišite podrobne informacije dobljenejega dataframa (za vsak sheet posebej)."
   ]
  },
  {
   "cell_type": "code",
   "execution_count": null,
   "metadata": {},
   "outputs": [],
   "source": [
    "# Rešitev\n",
    "\n"
   ]
  }
 ],
 "metadata": {
  "kernelspec": {
   "display_name": ".venv",
   "language": "python",
   "name": "python3"
  },
  "language_info": {
   "codemirror_mode": {
    "name": "ipython",
    "version": 3
   },
   "file_extension": ".py",
   "mimetype": "text/x-python",
   "name": "python",
   "nbconvert_exporter": "python",
   "pygments_lexer": "ipython3",
   "version": "3.11.1"
  },
  "toc": {
   "base_numbering": 1,
   "nav_menu": {},
   "number_sections": true,
   "sideBar": true,
   "skip_h1_title": false,
   "title_cell": "Table of Contents",
   "title_sidebar": "Contents",
   "toc_cell": false,
   "toc_position": {},
   "toc_section_display": true,
   "toc_window_display": false
  },
  "vscode": {
   "interpreter": {
    "hash": "dce43039e1b22689602118cb331122c29485f45c31a867c0e2dfc6aa6c8e4564"
   }
  }
 },
 "nbformat": 4,
 "nbformat_minor": 4
}
