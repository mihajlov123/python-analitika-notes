{
 "cells": [
  {
   "cell_type": "markdown",
   "metadata": {},
   "source": [
    "# DN - uvoz podatkov"
   ]
  },
  {
   "cell_type": "code",
   "execution_count": 1,
   "metadata": {},
   "outputs": [],
   "source": [
    "import pandas as pd\n",
    "import numpy as np"
   ]
  },
  {
   "cell_type": "markdown",
   "metadata": {},
   "source": [
    "## Naloga 1\n",
    "\n",
    "Branje txt datoteke.\n",
    "\n",
    "Preberi vse vrstice datoteke `vaja1_in.txt` in jih zapiši v datoteko `vaja1_out.txt` v urejenem vrstnem redu, tako da so najkrajše vrstice spredaj. (zavrzi vse vrstice z dolžino 0)"
   ]
  },
  {
   "cell_type": "code",
   "execution_count": 3,
   "metadata": {},
   "outputs": [],
   "source": [
    "#!cat data/vaja1_in.txt"
   ]
  },
  {
   "cell_type": "code",
   "execution_count": 2,
   "metadata": {},
   "outputs": [],
   "source": [
    "# Rešitev\n",
    "\n",
    "\n"
   ]
  },
  {
   "cell_type": "markdown",
   "metadata": {},
   "source": [
    "## Naloga 2\n",
    "\n",
    "pandas - branje csv datoteke.\n",
    "\n",
    "Preberi `titanic_sub.csv` v s pomočjo `pandas.read_csv(...)` funkcije in izpišite zadnje 3 vrstice podatkov. Poskrbite, da preberete samo stolpce z imenom `Sex`, `Age` in `Fare` (v tem vrstnem redu).\n",
    "\n",
    "Vse to naj bo storjeno v eni sami vrstici!"
   ]
  },
  {
   "cell_type": "code",
   "execution_count": 1,
   "metadata": {},
   "outputs": [],
   "source": [
    "# Rešitev\n",
    "\n"
   ]
  },
  {
   "cell_type": "markdown",
   "metadata": {},
   "source": [
    "## Naloga 3\n",
    "\n",
    "pandas - branje json datoteke\n",
    "\n",
    "Preberi `vaja3.json` datoteko, tako da bodo `Oseba-?` navedene kot indeksi, ime, priimek in pa študij pa bodo podatkovni stolpci.\n",
    "\n",
    "Izpišite DataFrame tabelo."
   ]
  },
  {
   "cell_type": "code",
   "execution_count": 3,
   "metadata": {},
   "outputs": [],
   "source": [
    "# Rešitev\n"
   ]
  },
  {
   "cell_type": "markdown",
   "metadata": {},
   "source": [
    "## Naloga 4\n",
    "\n",
    "pandas - branje json datoteke.\n",
    "\n",
    "Datoteko `vaja3.json` preberite v DataFrame in izpišite vrednosti uporabljene v stolpcu `študij` (brez ponavljanja)."
   ]
  },
  {
   "cell_type": "code",
   "execution_count": 4,
   "metadata": {},
   "outputs": [],
   "source": [
    "# Rešitev\n"
   ]
  },
  {
   "cell_type": "markdown",
   "metadata": {},
   "source": [
    "## Naloga 5\n",
    "\n",
    "pandas - branje excel datoteke.\n",
    "\n",
    "Preberite `battledeath.xlsx` datoteko v DataFrame in izpišite podrobne informacije dobljenejega dataframa (za vsak sheet posebej)."
   ]
  },
  {
   "cell_type": "code",
   "execution_count": null,
   "metadata": {},
   "outputs": [],
   "source": [
    "# Rešitev\n",
    "\n"
   ]
  }
 ],
 "metadata": {
  "kernelspec": {
   "display_name": "Python 3.9.0 64-bit ('3.9.0')",
   "language": "python",
   "name": "python3"
  },
  "language_info": {
   "codemirror_mode": {
    "name": "ipython",
    "version": 3
   },
   "file_extension": ".py",
   "mimetype": "text/x-python",
   "name": "python",
   "nbconvert_exporter": "python",
   "pygments_lexer": "ipython3",
   "version": "3.9.0"
  },
  "toc": {
   "base_numbering": 1,
   "nav_menu": {},
   "number_sections": true,
   "sideBar": true,
   "skip_h1_title": false,
   "title_cell": "Table of Contents",
   "title_sidebar": "Contents",
   "toc_cell": false,
   "toc_position": {},
   "toc_section_display": true,
   "toc_window_display": false
  },
  "vscode": {
   "interpreter": {
    "hash": "49295d7be20e15a65a7ead1eee80289bbf09f3482fe4d303cdf9f84b66666c7d"
   }
  }
 },
 "nbformat": 4,
 "nbformat_minor": 4
}
